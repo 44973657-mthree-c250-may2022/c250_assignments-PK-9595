{
 "cells": [
  {
   "cell_type": "markdown",
   "metadata": {},
   "source": [
    "# Functions\n",
    "This worksheet corresponds to *Lesson 1: Functions* in the online course. Refer to that lesson as necessary to complete the practice activities here."
   ]
  },
  {
   "cell_type": "markdown",
   "metadata": {},
   "source": [
    "## Practice 1\n",
    "Define the `find_max` function below to compute the max value from an input list of numbers. \n",
    "\n",
    "\n",
    "<!--Can we have a solution to this? I do not see how to implement this using the tools \n",
    "they have learned to this point-KW -->"
   ]
  },
  {
   "cell_type": "code",
   "execution_count": 1,
   "metadata": {},
   "outputs": [
    {
     "name": "stdout",
     "output_type": "stream",
     "text": [
      "10\n"
     ]
    }
   ],
   "source": [
    "def find_max(numbers):\n",
    "    return max(numbers)\n",
    "\n",
    "# do not change this code below \n",
    "numbers = [1,5,5,7,10,1]\n",
    "print(find_max(numbers))"
   ]
  },
  {
   "cell_type": "markdown",
   "metadata": {},
   "source": [
    "## Practice 2\n",
    "Define and implement the function `find_div`, which finds all the elements that are divisible by an input value in a list of numbers. "
   ]
  },
  {
   "cell_type": "code",
   "execution_count": 3,
   "metadata": {},
   "outputs": [
    {
     "name": "stdout",
     "output_type": "stream",
     "text": [
      "[9, 12]\n",
      "[10, 12]\n"
     ]
    }
   ],
   "source": [
    "def find_div(numbers,factor):\n",
    "    divisible = []\n",
    "    for i in numbers:\n",
    "        if i%factor==0:\n",
    "            divisible.append(i)\n",
    "    return divisible\n",
    "            \n",
    "numbers = [1,5,5,7,10,1,9,12]\n",
    "print(f\"{find_div(numbers,3)}\") # find all numbers divisible by 3\n",
    "print(f\"{find_div(numbers,2)}\") # find all numbers divisible by 2"
   ]
  },
  {
   "cell_type": "markdown",
   "metadata": {},
   "source": [
    "## Practice 3\n",
    "Fix the code below so that the `find_greater` function uses the default value 0 as the threshold value if we don't specify a different value."
   ]
  },
  {
   "cell_type": "code",
   "execution_count": 5,
   "metadata": {},
   "outputs": [
    {
     "name": "stdout",
     "output_type": "stream",
     "text": [
      "1\n",
      "5\n",
      "5\n",
      "7\n",
      "10\n",
      "1\n",
      "\n",
      "7\n",
      "10\n"
     ]
    }
   ],
   "source": [
    "def find_greater(numbers,threshold=0):\n",
    "    for num in numbers:\n",
    "        # we only display the numbers that are above the input threshold\n",
    "        if (num>threshold):\n",
    "            print(num)\n",
    "\n",
    "numbers = [1,5,5,7,10,1]\n",
    "find_greater(numbers) # find all numbers greater than 0\n",
    "print(\"\")\n",
    "find_greater(numbers,5) # find all numbers greater than 5"
   ]
  },
  {
   "cell_type": "markdown",
   "metadata": {},
   "source": [
    "## Practice 4\n",
    "Create a Python function `check_divisible` that has two parameters:\n",
    "* A list of numbers called `numbers`\n",
    "* An integer called `factor` with the default value 2  \n",
    "\n",
    "The function should print all of the numbers in the `numbers` list that are divisible by `factor`. "
   ]
  },
  {
   "cell_type": "code",
   "execution_count": 6,
   "metadata": {},
   "outputs": [
    {
     "name": "stdout",
     "output_type": "stream",
     "text": [
      "[12, 5, 8, 9, 4, 5]\n"
     ]
    },
    {
     "data": {
      "text/plain": [
       "[12, 8, 4]"
      ]
     },
     "execution_count": 6,
     "metadata": {},
     "output_type": "execute_result"
    }
   ],
   "source": [
    "def check_divisible(numbers, factor=2):\n",
    "    isDivisible=[]\n",
    "    for num in numbers:\n",
    "        if num%factor == 0:\n",
    "            isDivisible.append(num)\n",
    "    return isDivisible\n",
    "\n",
    "numbers = [12,5,8,9,4,5]\n",
    "print(numbers)\n",
    "check_divisible(numbers)"
   ]
  },
  {
   "cell_type": "markdown",
   "metadata": {},
   "source": [
    "## Practice 5\n",
    "Complete the Python function below which, converts a set into a list. \n",
    "\n",
    "The `set2list` function takes a set as its parameter and returns a list that contains the elements of the set. \n",
    "\n",
    "<!-- This exercise is not clear to me.-->"
   ]
  },
  {
   "cell_type": "code",
   "execution_count": 7,
   "metadata": {},
   "outputs": [
    {
     "name": "stdout",
     "output_type": "stream",
     "text": [
      "['mary', 'jess', 'haythem', 'mark']\n",
      "<class 'list'>\n"
     ]
    }
   ],
   "source": [
    "def set2list(input_set):\n",
    "    return list(input_set)\n",
    "\n",
    "\n",
    "\n",
    "s = {\"mary\",\"haythem\",\"mark\",\"jess\"}\n",
    "\n",
    "l = set2list(s)\n",
    "print(l)  # this should print the l outputted by set2list\n",
    "print(type(l)) # this should print <class 'list'>"
   ]
  },
  {
   "cell_type": "markdown",
   "metadata": {},
   "source": [
    "## Practice 6\n",
    "Create a function `compute_sum` that takes as input an indefinite number of integers and returns the sum of those numbers. \n",
    "\t\n",
    "Make sure to test the function using different numbers of input values. "
   ]
  },
  {
   "cell_type": "code",
   "execution_count": 9,
   "metadata": {},
   "outputs": [
    {
     "name": "stdout",
     "output_type": "stream",
     "text": [
      "29\n"
     ]
    }
   ],
   "source": [
    "def compute_sum(numbers):\n",
    "    return sum(numbers)\n",
    "\n",
    "\n",
    "numbers = [1,5,5,7,10,1]\n",
    "summation = compute_sum(numbers)\n",
    "print(summation) # should print 29 for [1,5,5,7,10,1]"
   ]
  },
  {
   "cell_type": "markdown",
   "metadata": {},
   "source": [
    "## Practice 7\n",
    "Create a function named `check_words` that takes as input some text and a list of words. The function should compute the frequency of occurrence of each word in the input list.\n",
    "\n",
    "The output should look like this:\n",
    "\n",
    "    {'to': 4, 'back': 0, 'the': 11, 'is': 1}\n",
    "    {'over': 1, 'level': 2, 'way': 1, 'square': 0, 'figure': 1}\n",
    "\n",
    "**Bonus**: After getting the script to work with the current text, revise the program so that the output is not case-sensitive. For example, instead of treating \"The\" and \"the\" as different words, the count should include all instances of the word \"the\" regardless of case.\n",
    "\n",
    "The text in this exercise comes from E. Abbotts' [Flatland](https://www.gutenberg.org/ebooks/201)."
   ]
  },
  {
   "cell_type": "code",
   "execution_count": 60,
   "metadata": {},
   "outputs": [
    {
     "name": "stdout",
     "output_type": "stream",
     "text": [
      "{'to': 4, 'back': 0, 'the': 12, 'is': 1}\n",
      "{'over': 1, 'level': 3, 'way': 1, 'square': 1, 'figure': 2}\n"
     ]
    }
   ],
   "source": [
    "text = \"\"\"The same thing would happen if you were to treat in the same way a Triangle, or Square, \n",
    "or any other figure cut out of pasteboard. As soon as you look at it with your eye on the edge on \n",
    "the table, you will find that it ceases to appear to you a figure, and that it becomes in appearance \n",
    "a straight line. Take for example an equilateral Triangle—who represents with us a Tradesman of \n",
    "the respectable class. Fig. 1 represents the Tradesman as you would see him while you were bending \n",
    "over him from above; figs. 2 and 3 represent the Tradesman, as you would see him if your eye were \n",
    "close to the level, or all but on the level of the table; and if your eye were quite on the level \n",
    "of the table (and that is how we see him in Flatland) you would see nothing but a straight line. \"\"\"\n",
    "\n",
    "import re\n",
    "\n",
    "def check_words(text,*argv):\n",
    "    countDict={}\n",
    "    text=text.lower()\n",
    "    for word in argv:\n",
    "        found = re.findall(f\"(?:^|(?<=[^a-zA-z])){word}(?=[^a-zA-Z]|$)\",text,re.IGNORECASE)\n",
    "        count = len(found)\n",
    "        countDict[word]=count\n",
    "    return countDict\n",
    "\n",
    "words = check_words(text,\"to\",\"back\",\"the\",\"is\")\n",
    "print(words) \n",
    "\n",
    "words = check_words(text,\"over\",\"level\",\"way\",\"square\",\"figure\")\n",
    "print(words) \n"
   ]
  },
  {
   "cell_type": "markdown",
   "metadata": {},
   "source": [
    "## Practice 8\n",
    "Create a function that takes as input a variable number of keyword arguments using the following pattern:\n",
    "\n",
    "    word_1=value, word_2=value,...,word_n = value\n",
    "    \n",
    "The function should return the word with the highest corresponding value, with the word and value in a tuple. Using the example data included in the code below, the result would be `word_3 6`."
   ]
  },
  {
   "cell_type": "code",
   "execution_count": 64,
   "metadata": {},
   "outputs": [
    {
     "name": "stdout",
     "output_type": "stream",
     "text": [
      "word_3 6\n"
     ]
    }
   ],
   "source": [
    "def compute_max_value(**kwargs):\n",
    "    maxVal=[i for i in kwargs.values()][0]\n",
    "    maxKey=[i for i in kwargs.keys()][0]\n",
    "    for i,j in kwargs.items():\n",
    "        if j>maxVal:\n",
    "            maxKey, maxVal = i, j\n",
    "    return(maxKey, maxVal)\n",
    "\n",
    "(word,freq) = compute_max_value(word_1 = 1,word_2 = 3,word_3 = 6,word_4 = 5)\n",
    "print(word,freq) # should return  word_3 6 for input word_1=1,word_2=3,word_3=6,word_4=5"
   ]
  },
  {
   "cell_type": "markdown",
   "metadata": {},
   "source": [
    "## Practice 9\n",
    "Create a function that takes as input three numbers named `number_1`, `number_2`, and `number_3`. \n",
    "\n",
    "The function should return one number derived as a concatenation of the input numbers in the order `number_1number_2number_3`.  \n",
    "\n",
    "For example, if we start with the following values:\n",
    "* `number_1 = 5`\n",
    "* `number_2 = 5`\n",
    "* `number_3 = 14`\n",
    "\n",
    "The output should be `5514` regardless of the order in which the values are identified in the function."
   ]
  },
  {
   "cell_type": "code",
   "execution_count": 65,
   "metadata": {},
   "outputs": [
    {
     "name": "stdout",
     "output_type": "stream",
     "text": [
      "5514\n"
     ]
    }
   ],
   "source": [
    "def concat_numbers(number_1,number_2,number_3):\n",
    "    return str(number_1) + str(number_2) + str(number_3)\n",
    "\n",
    "concat_number = concat_numbers(number_2 = 5, number_3 = 14, number_1 = 5)\n",
    "print(concat_number)"
   ]
  },
  {
   "cell_type": "code",
   "execution_count": null,
   "metadata": {},
   "outputs": [],
   "source": []
  }
 ],
 "metadata": {
  "kernelspec": {
   "display_name": "Python 3 (ipykernel)",
   "language": "python",
   "name": "python3"
  },
  "language_info": {
   "codemirror_mode": {
    "name": "ipython",
    "version": 3
   },
   "file_extension": ".py",
   "mimetype": "text/x-python",
   "name": "python",
   "nbconvert_exporter": "python",
   "pygments_lexer": "ipython3",
   "version": "3.9.12"
  }
 },
 "nbformat": 4,
 "nbformat_minor": 2
}
