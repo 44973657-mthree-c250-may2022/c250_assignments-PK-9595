{
 "cells": [
  {
   "cell_type": "markdown",
   "metadata": {},
   "source": [
    "# Lesson 1 Activities: Functions\n",
    "The following activities will allow you to practice your ability to:\n",
    "* Demonstrate the use of function parameters, including the use of default values.\n",
    "* Demonstrate the use of indefinite parameters in a function.\n",
    "* Use keywords to define parameters in a function."
   ]
  },
  {
   "cell_type": "markdown",
   "metadata": {},
   "source": [
    "## Activity 1\n",
    "Define the find_min function below to compute the lowest value in an input list of numbers."
   ]
  },
  {
   "cell_type": "code",
   "execution_count": 1,
   "metadata": {},
   "outputs": [
    {
     "name": "stdout",
     "output_type": "stream",
     "text": [
      "1\n"
     ]
    }
   ],
   "source": [
    "def find_min(numbers):\n",
    "    return min(numbers)\n",
    "\n",
    "#do not change this code below \n",
    "numbers = [1,5,5,7,10,1]\n",
    "print(find_min(numbers))"
   ]
  },
  {
   "cell_type": "markdown",
   "metadata": {},
   "source": [
    "## Activity 2\n",
    "Define the `find_lower` function below to find all values in the `numbers` list that are lower than a specific threshold number."
   ]
  },
  {
   "cell_type": "code",
   "execution_count": 3,
   "metadata": {},
   "outputs": [
    {
     "name": "stdout",
     "output_type": "stream",
     "text": [
      "[1, 5, 5, 1]\n",
      "[1, 1]\n"
     ]
    }
   ],
   "source": [
    "def find_lower(numbers,threshold):\n",
    "    selected=[]\n",
    "    for num in numbers:\n",
    "        #remove pass and define the function here\n",
    "        if num < threshold:\n",
    "            selected.append(num)\n",
    "    return selected\n",
    "\n",
    "numbers = [1,5,5,7,10,1]\n",
    "print(find_lower(numbers,7)) #find all numbers lower than 0\n",
    "print(find_lower(numbers,5)) #find all numbers lower than 5"
   ]
  },
  {
   "cell_type": "markdown",
   "metadata": {},
   "source": [
    "## Activity 3\n",
    "A <a href=\"https://en.wikipedia.org/wiki/Fibonacci_number\" target=\"_blank\">Fibonacci sequence</a> is a series of numbers where each number is the sum of the two preceding numbers in the sequence. For example, the first eight Fibonacci numbers starting from 0 are:\n",
    "\n",
    "    0, 1, 1, 2, 3, 5, 8, 13, 21\n",
    "\n",
    "Create a function `compute_fib` that will perform the following steps to calculate a Fibonacci sequence with a given start value.\n",
    "1. The function should include two parameters: the starting value (`start`) and the number of values to display (`stop`) in the sequence.\n",
    "1. Starting with the first value, determine the Fibonacci sequence for the number of values and store the sequence values in a list.\n",
    "    * By definition, we determine a Fibonacci sequence for value `n` (<code>F<sub><em>n</em></sub></code>) using:\n",
    "    \n",
    "    <pre>F<sub>0</sub> = 0\n",
    "    F<sub>1</sub> = 1\n",
    "    F<sub><em>n</em></sub> = F<sub><em>n-1</em></sub> + F<sub><em>n-2</em></sub> for <em>n</em> > 1</pre>\n",
    "        \n",
    "    * Assume that the first value in the sequence is always 0, and use the starting input value as the second value in the list.<br /><br />\n",
    "    \n",
    "1. Display the final list to the user with an appropriate message.\n",
    "\n",
    "For example, if the start value is 5 and the stop value is 7, the output values should be:\n",
    "\n",
    "    0, 5, 5, 10, 15, 25, 40\n",
    "        "
   ]
  },
  {
   "cell_type": "code",
   "execution_count": 21,
   "metadata": {},
   "outputs": [
    {
     "name": "stdout",
     "output_type": "stream",
     "text": [
      "[5, 7, 12, 19, 31, 50, 81, 131, 212, 343]\n"
     ]
    }
   ],
   "source": [
    "def compute_fib(first, second, stop):\n",
    "    fibLs = [first, second]\n",
    "    counter = 2\n",
    "    numSmall = first\n",
    "    numBig = second\n",
    "    \n",
    "    while counter < stop:\n",
    "        temp = numBig\n",
    "        numBig = numBig + numSmall\n",
    "        numSmall = temp\n",
    "        fibLs.append(numBig)\n",
    "        counter+=1\n",
    "    return fibLs\n",
    "\n",
    "print(compute_fib(5, 7, 10))\n"
   ]
  },
  {
   "cell_type": "markdown",
   "metadata": {},
   "source": [
    "### Challenge Activity\n",
    "After you have set up the function to use fixed values, refactor the code to accept user input for each of the function parameters."
   ]
  },
  {
   "cell_type": "markdown",
   "metadata": {},
   "source": [
    "## Activity 4\n",
    "Starting with a grocery shopping list, create a function that will iterate through the items in the list and identify only items only in a specific category, such as meats, fruits, or beverages.\n",
    "\n",
    "As a starting point, create a list with at least 15 items that someone might include in a grocery shopping list and use this list as the first parameter of the function.\n",
    "\n",
    "When executing the function, include a series of items in your selected category, including items that may or may not appear in the shopping list. The program should return a list of items from the shopping list that appear in the category values.\n",
    "\n",
    "For example, assume the original shopping list is:\n",
    "\n",
    "    (\"apples\", \"corn\", \"turkey slices\", \"ground beef\", \"flour\", \"sugar\", \"eggs\", \"peas\", \"tomatoes\", \"spaghetti\")\n",
    "    \n",
    "You then use meat values `\"turkey\"`, `\"beef\"`, `\"pork\"` as parameters in the function.\n",
    "\n",
    "The function should return the following items from the list:\n",
    "\n",
    "    (\"turkey slices\", \"ground beef\")\n",
    "    \n",
    "Use meaningful names for lists and functions in your program.\n"
   ]
  },
  {
   "cell_type": "code",
   "execution_count": null,
   "metadata": {},
   "outputs": [],
   "source": []
  },
  {
   "cell_type": "markdown",
   "metadata": {},
   "source": [
    "## Activity 5\n",
    "Create a function that builds an address block for an envelope when given specific individual values for the address.\n",
    "\n",
    "* Start with individual values for salutation (*Mr.*, *Ms.*, *Dr.*, etc.), first name, last name, street address, city, state, and ZIP.\n",
    "* Prompt the user for each of these individual values.\n",
    "* Display an address block that includes the person's full name (in the order *Salutation Firstname Lastname*) on the first line, the street address on the second line, and the city/state/zip on the third line.\n",
    "\n",
    "### Challenge\n",
    "Set up the program so that the salutation is optional, and if the user does not provide one, the first line of the address block starts with the input first name without a preceding space."
   ]
  },
  {
   "cell_type": "code",
   "execution_count": null,
   "metadata": {},
   "outputs": [],
   "source": []
  }
 ],
 "metadata": {
  "kernelspec": {
   "display_name": "Python 3 (ipykernel)",
   "language": "python",
   "name": "python3"
  },
  "language_info": {
   "codemirror_mode": {
    "name": "ipython",
    "version": 3
   },
   "file_extension": ".py",
   "mimetype": "text/x-python",
   "name": "python",
   "nbconvert_exporter": "python",
   "pygments_lexer": "ipython3",
   "version": "3.9.12"
  }
 },
 "nbformat": 4,
 "nbformat_minor": 2
}
