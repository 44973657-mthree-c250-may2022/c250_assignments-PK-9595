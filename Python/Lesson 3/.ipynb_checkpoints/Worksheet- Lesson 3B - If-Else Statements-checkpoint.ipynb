{
 "cells": [
  {
   "cell_type": "markdown",
   "metadata": {},
   "source": [
    "# Worksheet: If-Else Statements\n",
    "This worksheet includes the practice activities for `Lesson 3B: If-Else Statements` in the online course. Refer to that lesson as necessary to complete these activities."
   ]
  },
  {
   "cell_type": "markdown",
   "metadata": {},
   "source": [
    "## Practice 1\n",
    "Change the code below to use an `if-else` statement instead of two separate `if` statements."
   ]
  },
  {
   "cell_type": "code",
   "execution_count": 1,
   "metadata": {},
   "outputs": [
    {
     "name": "stdout",
     "output_type": "stream",
     "text": [
      "This person is someone else's sibling.\n"
     ]
    }
   ],
   "source": [
    "name = \"Mary\"\n",
    "if name == \"John\":\n",
    "    print(\"This person is my sibling.\") \n",
    "else:\n",
    "    print(\"This person is someone else's sibling.\")"
   ]
  },
  {
   "cell_type": "markdown",
   "metadata": {},
   "source": [
    "## Practice 2\n",
    "Create a short program that uses an `if-else` statement. \n",
    "\n",
    "You may use any scenarios and conditions you wish."
   ]
  },
  {
   "cell_type": "code",
   "execution_count": 3,
   "metadata": {},
   "outputs": [
    {
     "name": "stdout",
     "output_type": "stream",
     "text": [
      "Enter anything121\n",
      "Thanks for entering something\n"
     ]
    }
   ],
   "source": [
    "if input(\"Enter anything: \"):\n",
    "    print(\"Thanks for entering something\")\n",
    "else:\n",
    "    print(\"You didn't enter anything\")"
   ]
  },
  {
   "cell_type": "markdown",
   "metadata": {},
   "source": [
    "## Practice 3\n",
    "Create a program that does the following:\n",
    "* Prompt the user to enter a single letter. \n",
    "* Check if the entered letter is uppercase or lowercase.\n",
    "    * If the character is uppercase, display the message: \"The user entered an uppercase letter.\"\n",
    "    * If the character is lowercase, display the message: \"The user entered a lowercase letter.\"\n",
    "\n",
    "**Hint**: Python supports the methods `string.isupper()` and `string.islower()` to evaluate the case of characters in a string. Neither method takes arguments."
   ]
  },
  {
   "cell_type": "code",
   "execution_count": 5,
   "metadata": {},
   "outputs": [
    {
     "name": "stdout",
     "output_type": "stream",
     "text": [
      "Please enter a single letter: A\n",
      "The user entered an uppercase letter.\n"
     ]
    }
   ],
   "source": [
    "letter = input(\"Please enter a single letter: \")\n",
    "if letter.upper() == letter:\n",
    "    print(\"The user entered an uppercase letter.\")\n",
    "else:\n",
    "    print(\"The user entered a lowercase letter.\")"
   ]
  },
  {
   "cell_type": "code",
   "execution_count": null,
   "metadata": {},
   "outputs": [],
   "source": []
  }
 ],
 "metadata": {
  "kernelspec": {
   "display_name": "Python 3 (ipykernel)",
   "language": "python",
   "name": "python3"
  },
  "language_info": {
   "codemirror_mode": {
    "name": "ipython",
    "version": 3
   },
   "file_extension": ".py",
   "mimetype": "text/x-python",
   "name": "python",
   "nbconvert_exporter": "python",
   "pygments_lexer": "ipython3",
   "version": "3.9.12"
  }
 },
 "nbformat": 4,
 "nbformat_minor": 2
}
