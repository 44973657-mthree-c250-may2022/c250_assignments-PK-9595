{
 "cells": [
  {
   "cell_type": "markdown",
   "metadata": {},
   "source": [
    "# Lesson 3 Activities\n",
    "The following activities are provided to allow you to demonstrate the objectives for this lesson:\n",
    "* Use an `if` statement to determine the outcome of a program.\n",
    "* Use an `if-else` statement to define two potential outcomes.\n",
    "* Use nested `if` statements to define more than two potential outcomes.\n",
    "\n",
    "Complete each activity and make sure that the code runs without errors before completing the next activity."
   ]
  },
  {
   "cell_type": "markdown",
   "metadata": {},
   "source": [
    "## Activity 1\n",
    "Write a program that asks the user how much money they have in their wallet. The program should output \"You're rich!\" if the user inputs 20 or more and \"You're broke!\" if the input is less than 20."
   ]
  },
  {
   "cell_type": "code",
   "execution_count": 2,
   "metadata": {},
   "outputs": [
    {
     "name": "stdout",
     "output_type": "stream",
     "text": [
      "How much money do you have in your wallet (in dollars)?: 19.999999999999999\n",
      "You're rich!\n"
     ]
    }
   ],
   "source": [
    "money = input(\"How much money do you have in your wallet (in dollars)?: \")\n",
    "money = float(money)\n",
    "if money >= 20:\n",
    "    print(\"You're rich!\")\n",
    "else:\n",
    "    print(\"You're broke!\")"
   ]
  },
  {
   "cell_type": "markdown",
   "metadata": {},
   "source": [
    "## Activity 2\n",
    "Write a program that performs the following steps:\n",
    "1. Ask the user if they own any cats. (Yes/No answer)\n",
    "1. Ask the user if they own any dogs. (Yes/No answer)\n",
    "1. If the user responses indicate that they have both cats and dogs, output: \"You must really love pets!\"\n",
    "1. Otherwise, the output should be: \"Maybe you need more pets.\"\n",
    "\n",
    "The last step will apply if the user has cats but not dogs, dogs but not cats, and neither cats nor dogs.\n",
    "\n",
    "Write two different versions of this program: one that uses only `if` statements and another that uses `if-else` statements."
   ]
  },
  {
   "cell_type": "code",
   "execution_count": 10,
   "metadata": {},
   "outputs": [
    {
     "name": "stdout",
     "output_type": "stream",
     "text": [
      "Do you have any cats? (Y/N): N\n",
      "Do you have any dogs? (Y/N): Y\n",
      "Maybe you need more pets\n"
     ]
    }
   ],
   "source": [
    "anyCats = input(\"Do you have any cats? (Y/N): \")\n",
    "anyDogs = input(\"Do you have any dogs? (Y/N): \")\n",
    "if anyCats.upper()=='Y' and anyDogs.upper()=='Y':\n",
    "    print(\"You must really love pets!\")\n",
    "if not (anyCats.upper()=='Y' and anyDogs.upper()=='Y'):\n",
    "    print(\"Maybe you need more pets\")"
   ]
  },
  {
   "cell_type": "code",
   "execution_count": 12,
   "metadata": {},
   "outputs": [
    {
     "name": "stdout",
     "output_type": "stream",
     "text": [
      "Do you have any cats? (Y/N): Y\n",
      "Do you have any dogs? (Y/N): Y\n",
      "You must really love pets!\n"
     ]
    }
   ],
   "source": [
    "anyCats = input(\"Do you have any cats? (Y/N): \")\n",
    "anyDogs = input(\"Do you have any dogs? (Y/N): \")\n",
    "if anyCats.upper()=='Y' and anyDogs.upper()=='Y':\n",
    "    print(\"You must really love pets!\")\n",
    "else:\n",
    "    print(\"Maybe you need more pets\")"
   ]
  },
  {
   "cell_type": "markdown",
   "metadata": {},
   "source": [
    "## Activity 3\n",
    "Create a computer program that asks the user a few questions to which the user will respond either True or False. Display all the questions with the correct answer and the user's answers at the end of the program, along with the user's the correct response rate (number of questions answered correctly/number of questions)."
   ]
  },
  {
   "cell_type": "code",
   "execution_count": 15,
   "metadata": {},
   "outputs": [
    {
     "name": "stdout",
     "output_type": "stream",
     "text": [
      "Q1. Python is a snake. True or False?false\n",
      "Q2. Python is a coding language. True or False?false\n",
      "Q3. Snakes are coding languages. True or False?true\n",
      "---Results---\n",
      "Q1. Python is a snake. True or False? - correct answer is true, your answer was false\n",
      "Q2. Python is a coding language. True or False? - correct answer is true, your answer was false\n",
      "Q3. Snakes are coding languages. True or False? - correct answer is false, your answer was true\n",
      "You got 0 questions correct out of 3 questions\n"
     ]
    }
   ],
   "source": [
    "\n",
    "qn1=\"Q1. Python is a snake. True or False?\"\n",
    "qn2=\"Q2. Python is a coding language. True or False?\"\n",
    "qn3=\"Q3. Snakes are coding languages. True or False?\"\n",
    "qns=[qn1,qn2,qn3]\n",
    "\n",
    "ans1 = input(qn1).lower()\n",
    "ans2 = input(qn2).lower()\n",
    "ans3 = input(qn3).lower()\n",
    "ans=[ans1,ans2,ans3]\n",
    "\n",
    "correctAns1='true'\n",
    "correctAns2='true'\n",
    "correctAns3='false'\n",
    "correctAns=[correctAns1,correctAns2,correctAns3]\n",
    "\n",
    "score=0\n",
    "\n",
    "print(\"---Results---\")\n",
    "for i in range(len(qns)):\n",
    "    print(f\"{qns[i]} - correct answer is {correctAns[i]}, your answer was {ans[i]}\")\n",
    "    if correctAns[i]==ans[i]:\n",
    "        score+=1\n",
    "print(f\"You got {score} questions correct out of {len(qns)} questions\")"
   ]
  },
  {
   "cell_type": "markdown",
   "metadata": {},
   "source": [
    "## Activity 4\n",
    "Write a program that uses `elif` to produce five different possible outcomes based on a single user input.\n",
    "1. Ask the user what season it is (fall, winter, spring, or summer).\n",
    "1. If the user enters fall, output: \"I bet the leaves are pretty there!\"\n",
    "1. If the user enters winter, output: \"I hope you're ready for snow!\"\n",
    "1. If the user enters spring, output: \"I can smell the flowers!\"\n",
    "1. If the user enters summer, output: \"Make sure your AC is working!\"\n",
    "1. If the user enters a value that does not correspond to a season, output: \"I don't recognize that season.\"\n",
    "\n",
    "The user should be able to enter the name of the season in any case and the program will still work.\n",
    "\n",
    "**Challenge**: After you have the program working as describe above, modify the program so that the user can enter either \"fall\" or \"autumn\" and get the same result."
   ]
  },
  {
   "cell_type": "code",
   "execution_count": 21,
   "metadata": {},
   "outputs": [
    {
     "name": "stdout",
     "output_type": "stream",
     "text": [
      "What season is it? (Fall/Winter/Spring/Summer/Autumn): It's the season of love\n",
      "I don't recognise that season\n"
     ]
    }
   ],
   "source": [
    "season = input(\"What season is it? (Fall/Winter/Spring/Summer/Autumn): \").lower()\n",
    "\n",
    "if season == \"fall\" or season == \"autumn\":\n",
    "    print(\"I bet the leaves are pretty there!\")\n",
    "elif season == \"winter\":\n",
    "    print(\"I hope you're ready for snow!\")\n",
    "elif season == \"spring\":\n",
    "    print(\"I can smell the flowers!\")\n",
    "elif season == \"summer\":\n",
    "    print(\"Make sure your AC is working!\")\n",
    "else: \n",
    "    print(\"I don't recognise that season\")"
   ]
  },
  {
   "cell_type": "code",
   "execution_count": null,
   "metadata": {},
   "outputs": [],
   "source": []
  },
  {
   "cell_type": "code",
   "execution_count": null,
   "metadata": {},
   "outputs": [],
   "source": []
  }
 ],
 "metadata": {
  "kernelspec": {
   "display_name": "Python 3 (ipykernel)",
   "language": "python",
   "name": "python3"
  },
  "language_info": {
   "codemirror_mode": {
    "name": "ipython",
    "version": 3
   },
   "file_extension": ".py",
   "mimetype": "text/x-python",
   "name": "python",
   "nbconvert_exporter": "python",
   "pygments_lexer": "ipython3",
   "version": "3.9.12"
  }
 },
 "nbformat": 4,
 "nbformat_minor": 2
}
