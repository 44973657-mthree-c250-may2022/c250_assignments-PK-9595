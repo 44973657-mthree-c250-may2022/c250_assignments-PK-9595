{
 "cells": [
  {
   "cell_type": "markdown",
   "metadata": {},
   "source": [
    "# Worksheet: Conditional Statements\n",
    "This worksheet includes the practice activities for `Lesson 3A: Python Syntax` in the online course. Refer to that lesson as necessary to complete these activities."
   ]
  },
  {
   "cell_type": "markdown",
   "metadata": {},
   "source": [
    "## Practice 1\n",
    "Fix the following code so that it returns \"password correct.\" "
   ]
  },
  {
   "cell_type": "code",
   "execution_count": 6,
   "metadata": {},
   "outputs": [
    {
     "name": "stdout",
     "output_type": "stream",
     "text": [
      "password correct\n"
     ]
    }
   ],
   "source": [
    "password = \"admIn\"\n",
    "condition = (password != \"admin\") \n",
    "if condition: \n",
    "    print(\"password correct\") \n",
    "if condition == False:\n",
    "    print(\"password incorrect\") "
   ]
  },
  {
   "cell_type": "markdown",
   "metadata": {},
   "source": [
    "## Practice 2a\n",
    "Revise the code to use the conditional statement `< 16` to produce the same results."
   ]
  },
  {
   "cell_type": "code",
   "execution_count": 7,
   "metadata": {},
   "outputs": [
    {
     "name": "stdout",
     "output_type": "stream",
     "text": [
      "This person is allowed to drive.\n"
     ]
    }
   ],
   "source": [
    "age = 21\n",
    "# condition will evaluate to True or False \n",
    "#True if the value of the age is greater or equal to 16\n",
    "#False if the value of the age is less than 16\n",
    "condition = (age <  16)\n",
    "if condition != True:\n",
    "    print(\"This person is allowed to drive.\")\n",
    "if condition != False:\n",
    "    print(\"This person is NOT allowed to drive.\")"
   ]
  },
  {
   "cell_type": "markdown",
   "metadata": {},
   "source": [
    "## Practice 2b\n",
    "Write code that asks the user to input a number and then outputs the following: \n",
    "* If the user input is greater than 10, display the message: \"Wrong Guess.\" \n",
    "* If the user input is equal to 10, display the message \"Correct Guess.\"\n",
    "* If the user input is less than 10, display the message \"Wrong Guess.\""
   ]
  },
  {
   "cell_type": "code",
   "execution_count": 9,
   "metadata": {},
   "outputs": [
    {
     "name": "stdout",
     "output_type": "stream",
     "text": [
      "Please guess a number: 9\n",
      "Your guess was: 9\n",
      "Wrong Guess\n"
     ]
    }
   ],
   "source": [
    "# ask for user input and store the input in the variable user_input\n",
    "user_input = input(\"Please guess a number: \") \n",
    "\n",
    "# convert the user_input variable (string) to an integer using the int() function\n",
    "user_input_int = int(user_input) \n",
    "\n",
    "print(f\"Your guess was: {user_input_int}\") #print the user input \n",
    " \n",
    "# implement your if statements here \n",
    "if user_input_int == 10:\n",
    "    print(\"Correct Guess\")\n",
    "else:\n",
    "    print(\"Wrong Guess\")"
   ]
  },
  {
   "cell_type": "markdown",
   "metadata": {},
   "source": [
    "## Practice 3a\n",
    "Revise the code to use 15 instead of 16 as the base value. The results should be the same: people under 16 cannot drive and people 16 or over can drive."
   ]
  },
  {
   "cell_type": "code",
   "execution_count": 10,
   "metadata": {},
   "outputs": [
    {
     "name": "stdout",
     "output_type": "stream",
     "text": [
      "This person is allowed to drive.\n"
     ]
    }
   ],
   "source": [
    "age = 21\n",
    "if age >  15:\n",
    "    #this print command will only display if the age is greater or equal to 16\n",
    "    print(\"This person is allowed to drive.\") \n",
    "if age <=  15:\n",
    "    #this print command will only display if the age is less than 16\n",
    "    print(\"This person is NOT allowed to drive.\")"
   ]
  },
  {
   "cell_type": "markdown",
   "metadata": {},
   "source": [
    "## Practice 3b\n",
    "Finish the following program by adding the following steps:\n",
    "* If  the username is equal to \"admin\", use the `input` command to ask the user for the password and store it in a variable named `password`. \n",
    "* If the username is not equal to \"admin\", display the message: \"Access denied.\""
   ]
  },
  {
   "cell_type": "code",
   "execution_count": 13,
   "metadata": {},
   "outputs": [
    {
     "name": "stdout",
     "output_type": "stream",
     "text": [
      "Please enter your username: administrator\n",
      "Access denied\n"
     ]
    }
   ],
   "source": [
    "username = input(\"Please enter your username: \")\n",
    "if username ==\"admin\":\n",
    "    password=input(\"Please enter the password: \")\n",
    "else:\n",
    "    print(\"Access denied\")"
   ]
  },
  {
   "cell_type": "markdown",
   "metadata": {},
   "source": [
    "## Practice 4\n",
    "Change the code below so that it does the following: \n",
    "* Ask the user for a username using the `input` command and store the input in `guessed_username`.\n",
    "* Ask the user for a password using the `input` command and store the input in `guessed_password`.\n",
    "* Check if the user entered the correct username and password. \n",
    "* Display an appropriate message in either case.\n",
    "\n",
    "#### Challenge Activity\n",
    "Usernames are often not case-sensitive, while passwords typically are case-sensitive. \n",
    "\n",
    "Update the code so that the user can enter the username in any case and still log in if they have the correct (case-sensitive) password."
   ]
  },
  {
   "cell_type": "code",
   "execution_count": 16,
   "metadata": {},
   "outputs": [
    {
     "name": "stdout",
     "output_type": "stream",
     "text": [
      "Please enter username: AdMiN\n",
      "Please enter password: fghext254d\n",
      "access denied\n"
     ]
    }
   ],
   "source": [
    "correct_username= \"admin\"\n",
    "correct_password= \"FgheXT254d\"\n",
    "\n",
    "\n",
    "guessed_username = input(\"Please enter username: \")\n",
    "guessed_password = input(\"Please enter password: \")\n",
    "\n",
    "#condition_1 will evaluate to True or False\n",
    "#if it evaluates to True, it means that the guessed username is correct \n",
    "#if it evaluates to False, it means that the guessed  username is not correct\n",
    "condition_1 = (guessed_username.lower() == correct_username.lower())  \n",
    "\n",
    "#condition_2 will evaluate to True or False\n",
    "#if it evaluates to True, it means that the password is equal to \"FgheXT254d\"\n",
    "#if it evaluates to False, it means that the username is not equal to \"admin\" (This is the case)\n",
    "condition_2 = (guessed_password == correct_password)\n",
    "\n",
    "#this will evaluate to True or False. \n",
    "#If it evaluates to True, it means that both the username and password are correct\n",
    "#If it evaluates to False, it means that either the username and password are incorrect or both\n",
    "condition_3 = (condition_1==True) and (condition_2==True) \n",
    "\n",
    "if  condition_3 == True: \n",
    "    print(\"access granted\")\n",
    "if  condition_3 == False:\n",
    "    print(\"access denied\") "
   ]
  },
  {
   "cell_type": "code",
   "execution_count": null,
   "metadata": {},
   "outputs": [],
   "source": []
  }
 ],
 "metadata": {
  "kernelspec": {
   "display_name": "Python 3 (ipykernel)",
   "language": "python",
   "name": "python3"
  },
  "language_info": {
   "codemirror_mode": {
    "name": "ipython",
    "version": 3
   },
   "file_extension": ".py",
   "mimetype": "text/x-python",
   "name": "python",
   "nbconvert_exporter": "python",
   "pygments_lexer": "ipython3",
   "version": "3.9.12"
  }
 },
 "nbformat": 4,
 "nbformat_minor": 2
}
