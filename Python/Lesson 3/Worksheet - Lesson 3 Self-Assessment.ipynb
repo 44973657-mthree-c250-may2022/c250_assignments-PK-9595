{
 "cells": [
  {
   "cell_type": "markdown",
   "metadata": {},
   "source": [
    "# Lesson 3 Self-Assessment\n",
    "## Instructions\n",
    "Your company has organized a morale event! They're hosting a picnic and field day in the park, and of course, they want to play games. Team games! Team-building games!\n",
    "\n",
    "To do this, they want to assign the attendees to certain teams based on their names. They've already chosen the team names, but they want you to write a program that will sort each person into the correct team.\n",
    "\n",
    "Here are the specs:\n",
    "\n",
    "* If a person's name starts with A, B, C, or D, they are on the team \"Red Dragons.\"\n",
    "* If the name starts with E, F, G, or H, they are on the team \"Dark Wizards.\"\n",
    "* If the name starts with I, J, K, or L, they are on the team \"Moving Castles.\"\n",
    "* If the name starts with M, N, O, or P, they are on the team \"Golden Snitches\"\n",
    "* If the name starts with Q, R, S, or T, they are on the team \"Night Guards.\"\n",
    "* If the name stars with U, V, W, X, Y, or Z, they are on the team \"Black Holes.\"\n",
    "\n",
    "Here's an example of the output:\n",
    "\n",
    "    What's your last name? Weasley\n",
    "    Aha! You're on the team \"Black Holes\"!\n",
    "    Good luck in the games!\n",
    "\n",
    "The example uses the person's last name, but you can choose to use first name if you prefer. You may also use a different output message as long as it clearly states what team the person is on.\n",
    "\n",
    "## Requirements\n",
    "* Add your name and a current date as a comment on the first line of code.\n",
    "* You may ask for either the first name or the last name, but the prompt should clearly state which one you expect.\n",
    "* The user must be able to use any case when entering their name, and the case should not affect the output.\n",
    "* The output should clearly state what team the user has been assigned to.\n",
    "* All prompts and user feedback must use correct grammar and spelling and be meaningful to the user.\n",
    "\n",
    "Test the program using at least two names from each group to make sure it works as expected.\n",
    "\n",
    "## Self-Check\n",
    "After completing your program, use the following checklist to make sure you have met the requirements:\n",
    "* Your name and a current date appear as a comment on the first line of code.\n",
    "* The program prompts the user for a first name or a last name and accepts the input in any case.\n",
    "* The program displays an output that clearly states what team the user has been assigned to, using the requirements given in the instructions above.\n"
   ]
  },
  {
   "cell_type": "code",
   "execution_count": 15,
   "metadata": {},
   "outputs": [
    {
     "name": "stdout",
     "output_type": "stream",
     "text": [
      "What's your first name?: Aaron\n",
      "Aha! You're on team Red Dragons! \n",
      "    Good luck in the games!\n"
     ]
    }
   ],
   "source": [
    "#Paul Chien, 24th May 2022\n",
    "\n",
    "name = input(\"What's your first name?: \")\n",
    "firstLetter=name[0].upper()\n",
    "\n",
    "if firstLetter in \"ABCD\":\n",
    "    print('''Aha! You're on team Red Dragons! Good luck in the games!''')\n",
    "\n",
    "elif firstLetter in \"EFGH\":\n",
    "    print(\"You're in Dark Wizards! Break a leg!\")\n",
    "\n",
    "elif firstLetter in \"IJKL\":\n",
    "    print(\"Ahhh, you're in Moving Castles. All the best.\")\n",
    "\n",
    "elif firstLetter in \"MNOP\":\n",
    "    print(\"oh... you're in Golden Snitches. Have fun.\")\n",
    "\n",
    "elif firstLetter in \"QRST\":\n",
    "    print(\"Cool, you're in Night Guards.\")\n",
    "\n",
    "elif firstLetter in \"UVWXYZ\":\n",
    "    print(\"Wow, you're in Black Holes. Stay safe.\")\n",
    "    \n",
    "else:\n",
    "    print(\"Is that even a name?\")"
   ]
  },
  {
   "cell_type": "code",
   "execution_count": null,
   "metadata": {},
   "outputs": [],
   "source": []
  },
  {
   "cell_type": "code",
   "execution_count": null,
   "metadata": {},
   "outputs": [],
   "source": []
  },
  {
   "cell_type": "code",
   "execution_count": null,
   "metadata": {},
   "outputs": [],
   "source": []
  }
 ],
 "metadata": {
  "kernelspec": {
   "display_name": "Python 3 (ipykernel)",
   "language": "python",
   "name": "python3"
  },
  "language_info": {
   "codemirror_mode": {
    "name": "ipython",
    "version": 3
   },
   "file_extension": ".py",
   "mimetype": "text/x-python",
   "name": "python",
   "nbconvert_exporter": "python",
   "pygments_lexer": "ipython3",
   "version": "3.9.12"
  }
 },
 "nbformat": 4,
 "nbformat_minor": 2
}
