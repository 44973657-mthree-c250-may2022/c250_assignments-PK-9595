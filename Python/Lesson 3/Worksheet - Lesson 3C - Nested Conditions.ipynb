{
 "cells": [
  {
   "cell_type": "markdown",
   "metadata": {},
   "source": [
    "# Worksheet: Nested Conditions\n",
    "This worksheet includes the practice activities for `Lesson Lesson 3C: Nested Conditions` in the online course. Refer to that lesson as necessary to complete these activities."
   ]
  },
  {
   "cell_type": "markdown",
   "metadata": {},
   "source": [
    "## Practice 1a\n",
    "Change the code below to do the following: \n",
    "* Prompt the user to input a color.\n",
    "* Use `elif` statements to display an appropriate message depending on the color.\n",
    "\n",
    "The example below uses three `if` statements. You are welcome to include more conditions in your solution, and you could tell the user what options they have to choose from in the initial `input`. You must also include a message that displays if they enter a value that is not in the list."
   ]
  },
  {
   "cell_type": "code",
   "execution_count": 3,
   "metadata": {},
   "outputs": [
    {
     "name": "stdout",
     "output_type": "stream",
     "text": [
      "Please enter a color: Turquoise\n",
      "Sorry the only colours I know are red, blue, and yellow\n"
     ]
    }
   ],
   "source": [
    "color = input (\"Please enter a color: \").lower()\n",
    "\n",
    "if color == \"red\":\n",
    "    print(\"Stop signs are red.\")\n",
    "elif color == \"blue\":\n",
    "    print(\"The sky is blue.\")\n",
    "elif color == \"yellow\":\n",
    "    print(\"Bananas are yellow.\")\n",
    "else:\n",
    "    print(\"Sorry the only colours I know are red, blue, and yellow\")"
   ]
  },
  {
   "cell_type": "markdown",
   "metadata": {
    "collapsed": true
   },
   "source": [
    "## Practice 1b\n",
    "Now let's try something a little more complicated using `elif`.\n",
    "\n",
    "Write a program that performs the following steps:\n",
    "\n",
    "1. Create a variable with the target value.\n",
    "1. Ask the user to input a number.\n",
    "1. If their choice is equal to the number, print out: \"Wow, nice guess! That was it!\"\n",
    "1. If their choice is less than the target number, print out: \"Ha, nice try - too low! I chose #.\"\n",
    "1. If their choice is greater than the target number, print out: \"Too bad, too high. I chose #.\"\n",
    "\t\n",
    "The user prompt and the order of the conditional statements are entirely up to you. However, because there is literally an infinite number of numbers that the user can choose from, the prompt should give a range that includes the value of the variable, to give the user a sporting chance of guessing it.\n",
    "\n",
    "Make sure to test the program so that it produces each of the three outcomes correctly.\n",
    "\n",
    "**Tip**: Remember that Python always treats user input as a string, but you can't compare strings to numbers. How can you resolve that problem?"
   ]
  },
  {
   "cell_type": "code",
   "execution_count": 9,
   "metadata": {},
   "outputs": [
    {
     "name": "stdout",
     "output_type": "stream",
     "text": [
      "Please guess an integer between 1-100: 54\n",
      "Too bad, too high. I chose 53\n"
     ]
    }
   ],
   "source": [
    "targetVal = 53\n",
    "guess = int(input(\"Please guess an integer between 1-100: \"))\n",
    "if guess == targetVal:\n",
    "    print(\"Wow, nice guess! That was it!\")\n",
    "elif guess<targetVal:\n",
    "    print(f\"Ha, nice try - too low! I chose {targetVal}\")\n",
    "else:\n",
    "    print(f\"Too bad, too high. I chose {targetVal}\")"
   ]
  },
  {
   "cell_type": "code",
   "execution_count": null,
   "metadata": {},
   "outputs": [],
   "source": []
  },
  {
   "cell_type": "code",
   "execution_count": null,
   "metadata": {},
   "outputs": [],
   "source": []
  }
 ],
 "metadata": {
  "kernelspec": {
   "display_name": "Python 3 (ipykernel)",
   "language": "python",
   "name": "python3"
  },
  "language_info": {
   "codemirror_mode": {
    "name": "ipython",
    "version": 3
   },
   "file_extension": ".py",
   "mimetype": "text/x-python",
   "name": "python",
   "nbconvert_exporter": "python",
   "pygments_lexer": "ipython3",
   "version": "3.9.12"
  }
 },
 "nbformat": 4,
 "nbformat_minor": 2
}
