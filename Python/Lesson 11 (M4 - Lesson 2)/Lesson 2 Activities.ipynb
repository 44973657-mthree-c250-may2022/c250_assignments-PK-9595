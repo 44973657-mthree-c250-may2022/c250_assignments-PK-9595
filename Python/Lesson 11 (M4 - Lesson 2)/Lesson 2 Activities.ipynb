{
 "cells": [
  {
   "cell_type": "markdown",
   "metadata": {},
   "source": [
    "# Lesson 2 Activities\n",
    "Completing these activities will allow you to demonstrate your ability to:\n",
    "\n",
    "* Create an iterator that performs the same actions on each item in a collection.\n",
    "* Specify the number of times that an iterator should run or define a stopping point for the iterator.\n",
    "* Use a `for` loop with a custom iterator.\n",
    "\n",
    "For each of the following scenarios, you should:\n",
    "* Implement an iterator class.\n",
    "* Include examples that demonstrate the use of the iterator class."
   ]
  },
  {
   "cell_type": "markdown",
   "metadata": {},
   "source": [
    "## Activity 1\n",
    "Create an iterator class named `PrimeNumbers` that creates a sequence of prime numbers between 0 and 100. "
   ]
  },
  {
   "cell_type": "code",
   "execution_count": null,
   "metadata": {},
   "outputs": [],
   "source": [
    "# your code here"
   ]
  },
  {
   "cell_type": "markdown",
   "metadata": {},
   "source": [
    "## Activity 2\n",
    "Create an iterator class named `Alphabet` that creates a sequence of characters representing the alphabet."
   ]
  },
  {
   "cell_type": "code",
   "execution_count": null,
   "metadata": {},
   "outputs": [],
   "source": [
    "# your code here"
   ]
  },
  {
   "cell_type": "markdown",
   "metadata": {},
   "source": [
    "## Activity 3\n",
    "Create an iterator class named `DivBy5` that creates a sequence of numbers between 0 and 1000 inclusive, where each number is a multiple of 5. "
   ]
  },
  {
   "cell_type": "code",
   "execution_count": null,
   "metadata": {},
   "outputs": [],
   "source": [
    "# your code here"
   ]
  },
  {
   "cell_type": "markdown",
   "metadata": {},
   "source": [
    "## Activity 4\n",
    "Create an iterator class named `Factorial` that creates a sequence of numbers representing the factorial of all numbers between 0 and 100. "
   ]
  },
  {
   "cell_type": "code",
   "execution_count": null,
   "metadata": {},
   "outputs": [],
   "source": [
    "# your code here"
   ]
  },
  {
   "cell_type": "markdown",
   "metadata": {},
   "source": [
    "## Activity 5\n",
    "Create an iterator class that generates a sequence of random characters from the alphabet.  "
   ]
  },
  {
   "cell_type": "code",
   "execution_count": null,
   "metadata": {},
   "outputs": [],
   "source": [
    "# your code here"
   ]
  },
  {
   "cell_type": "markdown",
   "metadata": {},
   "source": [
    "## Challenge Activity\n",
    "Identify and express at least one other iterator that represents a real-life use case. Examples include, but are not limited to:\n",
    "* Class roster\n",
    "* Contact list\n",
    "* Retail or warehouse inventory\n",
    "In your selected scenario, determine whether a list, a dictionary, or another collection is most appropriate."
   ]
  },
  {
   "cell_type": "code",
   "execution_count": null,
   "metadata": {},
   "outputs": [],
   "source": [
    "# your code here"
   ]
  }
 ],
 "metadata": {
  "kernelspec": {
   "display_name": "Python 3 (ipykernel)",
   "language": "python",
   "name": "python3"
  },
  "language_info": {
   "codemirror_mode": {
    "name": "ipython",
    "version": 3
   },
   "file_extension": ".py",
   "mimetype": "text/x-python",
   "name": "python",
   "nbconvert_exporter": "python",
   "pygments_lexer": "ipython3",
   "version": "3.9.12"
  }
 },
 "nbformat": 4,
 "nbformat_minor": 2
}
