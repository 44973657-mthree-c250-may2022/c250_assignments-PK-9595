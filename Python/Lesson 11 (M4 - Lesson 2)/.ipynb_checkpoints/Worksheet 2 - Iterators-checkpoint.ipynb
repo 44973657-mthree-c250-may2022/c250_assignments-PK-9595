{
 "cells": [
  {
   "cell_type": "markdown",
   "metadata": {},
   "source": [
    "# Iterators\n",
    "This worksheet corresponds to *Lesson 2: Iterators* in the online course. Refer to that lesson as necessary to complete the practice activities here."
   ]
  },
  {
   "cell_type": "markdown",
   "metadata": {},
   "source": [
    "## Practice 1\n",
    "Create a new list that includes names of fruits. Include at least five separate items in the list.\n",
    "\n",
    "Create an iterator that prints each item in the list of fruits."
   ]
  },
  {
   "cell_type": "code",
   "execution_count": 3,
   "metadata": {},
   "outputs": [
    {
     "name": "stdout",
     "output_type": "stream",
     "text": [
      "Mango\n",
      "Apple\n",
      "Pear\n",
      "Watermelon\n",
      "Rockmelon\n"
     ]
    }
   ],
   "source": [
    "fruits = [\"Mango\", \"Apple\", \"Pear\", \"Watermelon\", \"Rockmelon\"]\n",
    "itrt = iter(fruits)\n",
    "\n",
    "print(next(itrt))\n",
    "print(next(itrt))\n",
    "print(next(itrt))\n",
    "print(next(itrt))\n",
    "print(next(itrt))"
   ]
  },
  {
   "cell_type": "markdown",
   "metadata": {},
   "source": [
    "### Practice 2\n",
    "Update the following code to create an iterator object from a dictionary. \n",
    "\n",
    "* Add at least two more items to the dictionary.\n",
    "* Use `next` to display at least two items from the dictionary.\n",
    "\n",
    "Does it iterate through the keys, the values, or both?"
   ]
  },
  {
   "cell_type": "code",
   "execution_count": null,
   "metadata": {
    "collapsed": true
   },
   "outputs": [],
   "source": [
    "names_dict = {\"first_name\":\"Haythem\", \"last_name\":\"Balti\"}  # do not delete\n",
    "\n",
    "# your code here\n"
   ]
  },
  {
   "cell_type": "markdown",
   "metadata": {},
   "source": [
    "## Practice 3\n",
    "Complete the code below so that it extracts only numbers from an input string. For example, if the original string is *473e6mn5ne5*, the output should be *473655*.\n",
    "\n",
    "You must use iterators to iterate through the string. \n",
    "\n",
    "**Tip**: You can use the built-in method `str.isdigit` to identify whether the characters in a string are numeric characters. This method outputs a boolean response."
   ]
  },
  {
   "cell_type": "code",
   "execution_count": 5,
   "metadata": {},
   "outputs": [
    {
     "name": "stdout",
     "output_type": "stream",
     "text": [
      "473655\n"
     ]
    }
   ],
   "source": [
    "message = \"473e6mn5ne5\"\n",
    "\n",
    "def extract_numbers(s):\n",
    "    itrt = iter(s)\n",
    "    num =''\n",
    "    for i in range(len(s)):\n",
    "        char = next(itrt)\n",
    "        if char.isdigit():\n",
    "            num += char\n",
    "    return num\n",
    "\n",
    "\n",
    "numbers = extract_numbers(message) \n",
    "print(numbers) # output for \"473e6mn5ne5\" should be \"473655\""
   ]
  },
  {
   "cell_type": "markdown",
   "metadata": {},
   "source": [
    "## Practice 4\n",
    "Write a script that will create a sequence of numbers that starts with 3, with each item in the sequence being the square of the previous value."
   ]
  },
  {
   "cell_type": "code",
   "execution_count": 6,
   "metadata": {},
   "outputs": [
    {
     "name": "stdout",
     "output_type": "stream",
     "text": [
      "3\n",
      "9\n",
      "81\n",
      "6561\n"
     ]
    }
   ],
   "source": [
    "class CumulativePower2:\n",
    "    def __iter__(self):\n",
    "        self.item=3\n",
    "        return self\n",
    "    def __next__(self):\n",
    "        val = self.item\n",
    "        self.item**=2\n",
    "        return val\n",
    "    \n",
    "numbers = CumulativePower2()\n",
    "numbers_iterator = iter(numbers)\n",
    "print(next(numbers_iterator)) # should return 3\n",
    "print(next(numbers_iterator)) # should return 9\n",
    "print(next(numbers_iterator)) # should return 81\n",
    "print(next(numbers_iterator)) # should return 6561"
   ]
  },
  {
   "cell_type": "markdown",
   "metadata": {},
   "source": [
    "## Practice 5\n",
    "Create an iterator class named `Table8` that creates a sequence of numbers representing multiples of 8 from 1 through 7. The script should throw a `StopIteration` error when it reaches the eighth possible output. "
   ]
  },
  {
   "cell_type": "code",
   "execution_count": null,
   "metadata": {
    "collapsed": true
   },
   "outputs": [],
   "source": [
    "class Table8:\n",
    "    def __iter__(self):\n",
    "        # update code here\n",
    "\n",
    "    def __next__(self):\n",
    "        # update code here\n",
    "    \n",
    "numbers = Table8()\n",
    "numbers_iterator = iter(numbers)\n",
    "\n",
    "print(next(numbers_iterator)) # should display: 8\n",
    "print(next(numbers_iterator)) # should display: 16\n",
    "print(next(numbers_iterator)) # should display: 24\n",
    "print(next(numbers_iterator)) # should display: 32\n",
    "print(next(numbers_iterator)) # should display: 40\n",
    "print(next(numbers_iterator)) # should display: 48\n",
    "print(next(numbers_iterator)) # should display: 56\n",
    "print(next(numbers_iterator)) # should throw StopInteration error"
   ]
  },
  {
   "cell_type": "markdown",
   "metadata": {},
   "source": [
    "## Practice 6\n",
    "Complete the `OddNumbers` class so that it will create a sequence of odd numbers from 0 through 10."
   ]
  },
  {
   "cell_type": "code",
   "execution_count": 7,
   "metadata": {},
   "outputs": [
    {
     "name": "stdout",
     "output_type": "stream",
     "text": [
      "1\n",
      "3\n",
      "5\n",
      "7\n",
      "9\n"
     ]
    }
   ],
   "source": [
    "class OddNumbers:\n",
    "    def __iter__(self):\n",
    "        self.odd = 1\n",
    "        return self\n",
    "    def __next__(self):\n",
    "        val = self.odd\n",
    "        self.odd += 2\n",
    "        if val <=10:\n",
    "            return val\n",
    "        raise StopIteration\n",
    "        \n",
    "numbers = OddNumbers()\n",
    "numbers_iterator = iter(numbers)\n",
    "for number in numbers_iterator: \n",
    "    print(number)"
   ]
  },
  {
   "cell_type": "code",
   "execution_count": null,
   "metadata": {},
   "outputs": [],
   "source": []
  }
 ],
 "metadata": {
  "kernelspec": {
   "display_name": "Python 3 (ipykernel)",
   "language": "python",
   "name": "python3"
  },
  "language_info": {
   "codemirror_mode": {
    "name": "ipython",
    "version": 3
   },
   "file_extension": ".py",
   "mimetype": "text/x-python",
   "name": "python",
   "nbconvert_exporter": "python",
   "pygments_lexer": "ipython3",
   "version": "3.9.12"
  }
 },
 "nbformat": 4,
 "nbformat_minor": 2
}
