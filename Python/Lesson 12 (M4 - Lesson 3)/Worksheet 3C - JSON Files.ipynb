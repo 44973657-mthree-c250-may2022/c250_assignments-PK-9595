{
 "cells": [
  {
   "cell_type": "markdown",
   "metadata": {},
   "source": [
    "# Worksheet: JSON Files\n",
    "This worksheet corresponds to *Lesson 3C: JSON Files* in the online course. Refer to that lesson as necessary to complete the practice activities here."
   ]
  },
  {
   "cell_type": "markdown",
   "metadata": {},
   "source": [
    "## Practice 1 \n",
    "Create a dictionary that represents a Twitter post. \n",
    "\n",
    "Use the `json.dumps` function to convert the dictionary into a JSON-encoded object. "
   ]
  },
  {
   "cell_type": "code",
   "execution_count": 8,
   "metadata": {},
   "outputs": [
    {
     "name": "stdout",
     "output_type": "stream",
     "text": [
      "{\n",
      "    \"1\": {\n",
      "        \"Time\": \"10:21:12\",\n",
      "        \"Title\": \"sad\",\n",
      "        \"Content\": \"I am sad\",\n",
      "        \"Tweets\": 2\n",
      "    },\n",
      "    \"2\": {\n",
      "        \"Time\": \"10:21:13\",\n",
      "        \"Title\": \"happy\",\n",
      "        \"Content\": \"I am happy\",\n",
      "        \"Tweets\": 3\n",
      "    },\n",
      "    \"3\": {\n",
      "        \"Time\": \"10:21:14\",\n",
      "        \"Title\": \"angry\",\n",
      "        \"Content\": \"I am angry\",\n",
      "        \"Tweets\": 4\n",
      "    },\n",
      "    \"4\": {\n",
      "        \"Time\": \"10:21:15\",\n",
      "        \"Title\": \"sleepy\",\n",
      "        \"Content\": \"I am sleepy\",\n",
      "        \"Tweets\": 5\n",
      "    }\n",
      "}\n"
     ]
    }
   ],
   "source": [
    "import json\n",
    "\n",
    "myDict = {}\n",
    "myDict[1]={'Time':'10:21:12', 'Title':\"sad\", 'Content':\"I am sad\", \"Tweets\":2}\n",
    "myDict[2]={'Time':'10:21:13', 'Title':\"happy\", 'Content':\"I am happy\", \"Tweets\":3}\n",
    "myDict[3]={'Time':'10:21:14', 'Title':\"angry\", 'Content':\"I am angry\", \"Tweets\":4}\n",
    "myDict[4]={'Time':'10:21:15', 'Title':\"sleepy\", 'Content':\"I am sleepy\", \"Tweets\":5}\n",
    "\n",
    "jsonStr = json.dumps(myDict, indent=4)\n",
    "print(jsonStr)"
   ]
  },
  {
   "cell_type": "markdown",
   "metadata": {},
   "source": [
    "## Practice 2\n",
    "Update the Twitter post script from the last practice activity to include the `indent` option to make the output easier to read."
   ]
  },
  {
   "cell_type": "code",
   "execution_count": 6,
   "metadata": {},
   "outputs": [],
   "source": [
    "# your code here "
   ]
  },
  {
   "cell_type": "markdown",
   "metadata": {},
   "source": [
    "## Practice 3\n",
    "Create a script that asks the user for a string and tries to convert the string into a Python dictionary.\n",
    "\n",
    "What happens when the string is not valid?"
   ]
  },
  {
   "cell_type": "code",
   "execution_count": 8,
   "metadata": {},
   "outputs": [],
   "source": [
    "# your code here "
   ]
  },
  {
   "cell_type": "markdown",
   "metadata": {},
   "source": [
    "## Practice 4\n",
    "Update the following code to compute the most common category of Nobel prizes in the *prizes.json* file."
   ]
  },
  {
   "cell_type": "code",
   "execution_count": 34,
   "metadata": {},
   "outputs": [
    {
     "name": "stdout",
     "output_type": "stream",
     "text": [
      "The most category of Nobel prizes is: medicine.\n",
      "For that category, 214 prizes have been given out over the years.\n"
     ]
    }
   ],
   "source": [
    "import json\n",
    "# we use pprint to display json/dictionary objects in a human readable format. \n",
    "from pprint import pprint \n",
    "\n",
    "with open('C:/Users/Paul Chien/Desktop/Mthree training course C250/Python/Week 3-4/Lesson 12 (M4 - Lesson 3)/data/prizes.json','r') as jsonfile: # use open to read the file\n",
    "    # use the json module with the load function \n",
    "    # to read the entire content of the json file in a dictionary\n",
    "    data = json.load(jsonfile) # load the json content and serialize it. \n",
    "    \n",
    "countDict={}\n",
    "for i in data['prizes']:\n",
    "    countDict[i['category']]=countDict.get(i['category'], 0) + len(i['laureates'])\n",
    "    \n",
    "sortedTuples = sorted([(i,j) for j,i in countDict.items()])\n",
    "print(f\"The most category of Nobel prizes is: {sortedTuples[-1][1]}.\\nFor that category, {sortedTuples[-1][0]} prizes have been given out over the years.\")\n"
   ]
  },
  {
   "cell_type": "markdown",
   "metadata": {},
   "source": [
    "## Practice 5\n",
    "Complete the code below to compute the year and category when the highest number of laureates were recorded for the same Nobel prize.  "
   ]
  },
  {
   "cell_type": "code",
   "execution_count": 12,
   "metadata": {},
   "outputs": [],
   "source": [
    "import json\n",
    "# we use pprint to display json/dictionary objects in a human-readable format.\n",
    "from pprint import pprint  \n",
    "\n",
    "with open('data/prizes.json','r') as jsonfile: # use open to read the file\n",
    "    # use the json module with the load function \n",
    "    # to read the entire content of the json file in a dictionary\n",
    "    data = json.load(jsonfile) # load the json content and serialize it. \n",
    "    \n",
    "# your code here "
   ]
  },
  {
   "cell_type": "markdown",
   "metadata": {},
   "source": [
    "## Practice 6\n",
    "Complete the code below to identify all the Nobel laureates whose first name is Martin."
   ]
  },
  {
   "cell_type": "code",
   "execution_count": 14,
   "metadata": {},
   "outputs": [],
   "source": [
    "import json\n",
    "with open('data/prizes.json','r') as jsonfile: \n",
    "    data = json.load(jsonfile) \n",
    "for k in data['prizes']:\n",
    "    pass\n"
   ]
  },
  {
   "cell_type": "markdown",
   "metadata": {},
   "source": [
    "## Practice 7\n",
    "Complete the code below to identify all the laureates that won in the year 2013 across all categories."
   ]
  },
  {
   "cell_type": "code",
   "execution_count": 45,
   "metadata": {},
   "outputs": [
    {
     "name": "stdout",
     "output_type": "stream",
     "text": [
      "FrançoisEnglert won a nobel in physics\n",
      "Peter W.Higgs won a nobel in physics\n",
      "MartinKarplus won a nobel in chemistry\n",
      "MichaelLevitt won a nobel in chemistry\n",
      "AriehWarshel won a nobel in chemistry\n",
      "James E.Rothman won a nobel in medicine\n",
      "Randy W.Schekman won a nobel in medicine\n",
      "Thomas C.Südhof won a nobel in medicine\n",
      "AliceMunro won a nobel in literature\n",
      "Organisation for the Prohibition of Chemical Weapons (OPCW) won a nobel in peace\n",
      "Eugene F.Fama won a nobel in economics\n",
      "Lars PeterHansen won a nobel in economics\n",
      "Robert J.Shiller won a nobel in economics\n",
      "\n",
      "There were 13 laureates that won in the year 2013 across all categories\n"
     ]
    }
   ],
   "source": [
    "import json\n",
    "with open('C:/Users/Paul Chien/Desktop/Mthree training course C250/Python/Week 3-4/Lesson 12 (M4 - Lesson 3)/data/prizes.json','r') as jsonfile: \n",
    "    data = json.load(jsonfile)\n",
    "count = 0\n",
    "for k in data['prizes']:\n",
    "    if k['year']=='2013':\n",
    "        count += len(k['laureates'])\n",
    "        for laureate in k['laureates']:\n",
    "            print(f\"{laureate['firstname']}{laureate['surname']} won a nobel in {k['category']}\")\n",
    "# pprint(data)\n",
    "print(f\"\\nThere were {count} laureates that won in the year 2013 across all categories\")"
   ]
  },
  {
   "cell_type": "markdown",
   "metadata": {},
   "source": [
    "## Practice 8\n",
    "Complete the code below to create a JSON file that contains key-value pairs where the key is the state abbreviation and the value is the full name of the state. \n",
    "\n",
    "The abbreviations and state names are in the correct order in both lists."
   ]
  },
  {
   "cell_type": "code",
   "execution_count": 18,
   "metadata": {},
   "outputs": [],
   "source": [
    "states_abbrev = [\"AL\", \"AK\", \"AZ\", \"AR\", \"CA\", \"CO\", \"CT\", \"DE\", \"FL\", \"GA\", \n",
    "          \"HI\", \"ID\", \"IL\", \"IN\", \"IA\", \"KS\", \"KY\", \"LA\", \"ME\", \"MD\", \n",
    "          \"MA\", \"MI\", \"MN\", \"MS\", \"MO\", \"MT\", \"NE\", \"NV\", \"NH\", \"NJ\", \n",
    "          \"NM\", \"NY\", \"NC\", \"ND\", \"OH\", \"OK\", \"OR\", \"PA\", \"RI\", \"SC\", \n",
    "          \"SD\", \"TN\", \"TX\", \"UT\", \"VT\", \"VA\", \"WA\", \"WV\", \"WI\", \"WY\"]\n",
    "\n",
    "states_full = [\"Alabama\",\"Alaska\",\"Arizona\",\"Arkansas\",\"California\",\"Colorado\",\n",
    "  \"Connecticut\",\"Delaware\",\"Florida\",\"Georgia\",\"Hawaii\",\"Idaho\",\"Illinois\",\n",
    "  \"Indiana\",\"Iowa\",\"Kansas\",\"Kentucky\",\"Louisiana\",\"Maine\",\"Maryland\",\n",
    "  \"Massachusetts\",\"Michigan\",\"Minnesota\",\"Mississippi\",\"Missouri\",\"Montana\",\n",
    "  \"Nebraska\",\"Nevada\",\"New Hampshire\",\"New Jersey\",\"New Mexico\",\"New York\",\n",
    "  \"North Carolina\",\"North Dakota\",\"Ohio\",\"Oklahoma\",\"Oregon\",\"Pennsylvania\",\n",
    "  \"Rhode Island\",\"South Carolina\",\"South Dakota\",\"Tennessee\",\"Texas\",\"Utah\",\n",
    "  \"Vermont\",\"Virginia\",\"Washington\",\"West Virginia\",\"Wisconsin\",\"Wyoming\"]\n",
    "\n",
    "#your code goes here "
   ]
  },
  {
   "cell_type": "markdown",
   "metadata": {},
   "source": [
    "## Practice 9\n",
    "Complete the code below to store the `states` dictionary in a JSON file named *states.json*. "
   ]
  },
  {
   "cell_type": "code",
   "execution_count": 20,
   "metadata": {},
   "outputs": [],
   "source": [
    "states = {\n",
    "        'AK': 'Alaska',\n",
    "        'AL': 'Alabama',\n",
    "        'AR': 'Arkansas',\n",
    "        'AS': 'American Samoa',\n",
    "        'AZ': 'Arizona',\n",
    "        'CA': 'California',\n",
    "        'CO': 'Colorado',\n",
    "        'CT': 'Connecticut',\n",
    "        'DC': 'District of Columbia',\n",
    "        'DE': 'Delaware',\n",
    "        'FL': 'Florida',\n",
    "        'GA': 'Georgia',\n",
    "        'GU': 'Guam',\n",
    "        'HI': 'Hawaii',\n",
    "        'IA': 'Iowa',\n",
    "        'ID': 'Idaho',\n",
    "        'IL': 'Illinois',\n",
    "        'IN': 'Indiana',\n",
    "        'KS': 'Kansas',\n",
    "        'KY': 'Kentucky',\n",
    "        'LA': 'Louisiana',\n",
    "        'MA': 'Massachusetts',\n",
    "        'MD': 'Maryland',\n",
    "        'ME': 'Maine',\n",
    "        'MI': 'Michigan',\n",
    "        'MN': 'Minnesota',\n",
    "        'MO': 'Missouri',\n",
    "        'MP': 'Northern Mariana Islands',\n",
    "        'MS': 'Mississippi',\n",
    "        'MT': 'Montana',\n",
    "        'NA': 'National',\n",
    "        'NC': 'North Carolina',\n",
    "        'ND': 'North Dakota',\n",
    "        'NE': 'Nebraska',\n",
    "        'NH': 'New Hampshire',\n",
    "        'NJ': 'New Jersey',\n",
    "        'NM': 'New Mexico',\n",
    "        'NV': 'Nevada',\n",
    "        'NY': 'New York',\n",
    "        'OH': 'Ohio',\n",
    "        'OK': 'Oklahoma',\n",
    "        'OR': 'Oregon',\n",
    "        'PA': 'Pennsylvania',\n",
    "        'PR': 'Puerto Rico',\n",
    "        'RI': 'Rhode Island',\n",
    "        'SC': 'South Carolina',\n",
    "        'SD': 'South Dakota',\n",
    "        'TN': 'Tennessee',\n",
    "        'TX': 'Texas',\n",
    "        'UT': 'Utah',\n",
    "        'VA': 'Virginia',\n",
    "        'VI': 'Virgin Islands',\n",
    "        'VT': 'Vermont',\n",
    "        'WA': 'Washington',\n",
    "        'WI': 'Wisconsin',\n",
    "        'WV': 'West Virginia',\n",
    "        'WY': 'Wyoming'\n",
    "}\n",
    "\n",
    "# your code here "
   ]
  }
 ],
 "metadata": {
  "kernelspec": {
   "display_name": "Python 3 (ipykernel)",
   "language": "python",
   "name": "python3"
  },
  "language_info": {
   "codemirror_mode": {
    "name": "ipython",
    "version": 3
   },
   "file_extension": ".py",
   "mimetype": "text/x-python",
   "name": "python",
   "nbconvert_exporter": "python",
   "pygments_lexer": "ipython3",
   "version": "3.9.12"
  }
 },
 "nbformat": 4,
 "nbformat_minor": 2
}
