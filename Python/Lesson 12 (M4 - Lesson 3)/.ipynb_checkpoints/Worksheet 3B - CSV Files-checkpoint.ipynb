{
 "cells": [
  {
   "cell_type": "markdown",
   "metadata": {},
   "source": [
    "# Worksheet: CSV Files \n",
    "This worksheet corresponds to *Lesson 3B: CSV Files* in the online course. Refer to that page as necessary to complete the practice activities here."
   ]
  },
  {
   "cell_type": "markdown",
   "metadata": {},
   "source": [
    "## Practice 1\n",
    "The file in Example 1 is a shortened version of a much longer file named *stocks.csv*. Each row of data includes values for a specific stock item, including:\n",
    "* Date: The date of the following data\n",
    "* Open: The opening price on that date\n",
    "* High: The highest price on that date\n",
    "* Low: The lowest price on that date\n",
    "* Close: The closing price on that date\n",
    "* Volume: The number of shares traded on that date\n",
    "\n",
    "Using the full version of the file, complete the code below to compute and display the average opening price for all stock items. Close the file after performing the calculations."
   ]
  },
  {
   "cell_type": "code",
   "execution_count": 5,
   "metadata": {
    "collapsed": true
   },
   "outputs": [],
   "source": [
    "import csv\n",
    "\n",
    "# use open function to read the C.csv file and create a file object f\n",
    "with open('data/stocks.csv') as f: \n",
    "    \n",
    "    # use the reader class under the csv module to read the file using comma as the delimiter\n",
    "    csv_file = csv.reader(f, delimiter=',') \n",
    "    \n",
    "    # csv_file is an iterable object that we can iterate on using a for loop\n",
    "    for row in csv_file:\n",
    "        #remove pass and add code here\n",
    "        pass"
   ]
  },
  {
   "cell_type": "markdown",
   "metadata": {},
   "source": [
    "## Practice 2\n",
    "Complete the code below to determine the largest volume of sales in the dataset."
   ]
  },
  {
   "cell_type": "code",
   "execution_count": 17,
   "metadata": {
    "collapsed": true
   },
   "outputs": [],
   "source": [
    "import csv\n",
    "with open('data/stocks.csv') as f: \n",
    "    \n",
    "    csv_file = csv.DictReader(f, delimiter=',') \n",
    "    \n",
    "    for row in csv_file:\n",
    "        pass"
   ]
  },
  {
   "cell_type": "markdown",
   "metadata": {},
   "source": [
    "## Practice 3\n",
    "Complete the code to compute the largest closing price across the dataset. "
   ]
  },
  {
   "cell_type": "code",
   "execution_count": 16,
   "metadata": {},
   "outputs": [
    {
     "name": "stdout",
     "output_type": "stream",
     "text": [
      "564.1\n"
     ]
    }
   ],
   "source": [
    "def read_csv(filepath,delimiter=\",\"):\n",
    "    import csv\n",
    "    dataset = list()\n",
    "    with open(filepath) as f: \n",
    "        csv_file = csv.DictReader(f, delimiter=delimiter)\n",
    "        for row in csv_file:\n",
    "            dataset.append(row)\n",
    "    return dataset\n",
    "\n",
    "dataset = read_csv(\"C:/Users/Paul Chien/Desktop/Mthree training course C250/Python/Week 3-4/Lesson 12 (M4 - Lesson 3)/data/stocks.csv\")\n",
    "#print(dataset)\n",
    "\n",
    "maxClose= float(dataset[0]['Close'])\n",
    "for i in dataset:\n",
    "    if float(i['Close']) > maxClose:\n",
    "        maxClose = float(i['Close'])\n",
    "\n",
    "print(maxClose)"
   ]
  },
  {
   "cell_type": "markdown",
   "metadata": {},
   "source": [
    "## Practice 4\n",
    "Create a script that performs the following tasks:\n",
    "* Overwrite or create a file named *data/user_input.csv*.\n",
    "* Ask the user for input text that will be added to *user_input.csv*. \n",
    "* Continue prompting for input until the user enters \"Quit.\" \n",
    "* When the user enters \"Quit,\" display the existing contents of the file to the user. \n",
    "\n",
    "**Tip**: It is always useful to tell the user how to get out of a loop!"
   ]
  },
  {
   "cell_type": "code",
   "execution_count": null,
   "metadata": {
    "collapsed": true
   },
   "outputs": [],
   "source": [
    "# your code here "
   ]
  },
  {
   "cell_type": "markdown",
   "metadata": {},
   "source": [
    "## Practice 5\n",
    "Create a script that performs the following tasks:\n",
    "* If the file named *data/user_input.csv* does not already exist, open the file in write mode.\n",
    "* If the file does exist, ask the user if the new data should replace the existing data or if the new data should be added to the existing data. Then, open the file in the correct mode.\n",
    "* Ask the user for input text that will be added to *user_input.csv*. \n",
    "* Continue prompting for input until the user enters \"Quit.\" \n",
    "* When the user enters \"Quit,\" display the existing contents of the file to the user. \n",
    "\n",
    "**Tip**: It is always useful to tell the user how to get out of a loop!"
   ]
  },
  {
   "cell_type": "code",
   "execution_count": null,
   "metadata": {
    "collapsed": true
   },
   "outputs": [],
   "source": [
    "# your code here "
   ]
  },
  {
   "cell_type": "markdown",
   "metadata": {},
   "source": [
    "## Practice 6\n",
    "The data files provided for this lesson include a file named *albums.csv*. This file includes three columns:\n",
    "* `album_name`: The name of the album\n",
    "* `pub_date`: The album's original publication date\n",
    "* `price`: The price of the album\n",
    "\n",
    "Create a script that performs the following tasks:\n",
    "* Prompt the user for an album name, publication date, and price for five different albums.\n",
    "* Add each album's information to a list and add each list to a collection of lists.\n",
    "* After all data has been collected from the user, append the new data to *albums.csv* and display the file's contents to the user.\n",
    "\n",
    "The data entries should be realistic, even if the data is not real."
   ]
  },
  {
   "cell_type": "code",
   "execution_count": null,
   "metadata": {
    "collapsed": true
   },
   "outputs": [],
   "source": [
    "# your code here "
   ]
  },
  {
   "cell_type": "markdown",
   "metadata": {},
   "source": [
    "## Practice 7\n",
    "Write a script that creates a CSV file called *posts.csv*, which will contain information about Twitter posts. You must include at least four different attributes for each tweet. \n",
    "\t\n",
    "Use a dictionary to define the data for each tweet and then add each dictionary as a separate row in the CSV file."
   ]
  },
  {
   "cell_type": "code",
   "execution_count": 29,
   "metadata": {},
   "outputs": [
    {
     "name": "stdout",
     "output_type": "stream",
     "text": [
      "10:21:12,sad,I am sad,2\n",
      "10:21:13,happy,I am happy,3\n",
      "10:21:14,angry,I am angry,4\n",
      "10:21:15,sleepy,I am sleepy,5\n",
      "\n"
     ]
    }
   ],
   "source": [
    "import csv\n",
    "\n",
    "row1={'Time':'10:21:12', 'Title':\"sad\", 'Content':\"I am sad\", \"Tweets\":2}\n",
    "row2={'Time':'10:21:13', 'Title':\"happy\", 'Content':\"I am happy\", \"Tweets\":3}\n",
    "row3={'Time':'10:21:14', 'Title':\"angry\", 'Content':\"I am angry\", \"Tweets\":4}\n",
    "row4={'Time':'10:21:15', 'Title':\"sleepy\", 'Content':\"I am sleepy\", \"Tweets\":5}\n",
    "\n",
    "with open(\"C:/Users/Paul Chien/Desktop/Mthree training course C250/Python/Week 3-4/Lesson 12 (M4 - Lesson 3)/data/posts.csv\", 'w', newline='') as f:\n",
    "    writer = csv.DictWriter(f, [\"Time\", \"Title\", \"Content\", \"Tweets\"])\n",
    "    writer.writerow(row1)\n",
    "    writer.writerow(row2)\n",
    "    writer.writerow(row3)\n",
    "    writer.writerow(row4)\n",
    "    \n",
    "with open(\"C:/Users/Paul Chien/Desktop/Mthree training course C250/Python/Week 3-4/Lesson 12 (M4 - Lesson 3)/data/posts.csv\", 'r') as f: \n",
    "    print(f.read())"
   ]
  },
  {
   "cell_type": "markdown",
   "metadata": {},
   "source": [
    "## Practice 8\n",
    "Using any approach we have discussed in this lesson, create a personal contact list as a CSV file named *contacts.csv*. Add a first name, last name, phone number, and email address for at least three people that you know, with appropriate column headers.\n",
    "\n",
    "After creating the file, display its contents and then delete it. \n",
    "\n",
    "What happens if you run the script more than once?"
   ]
  },
  {
   "cell_type": "code",
   "execution_count": 41,
   "metadata": {
    "collapsed": true
   },
   "outputs": [],
   "source": [
    "# your code here"
   ]
  },
  {
   "cell_type": "markdown",
   "metadata": {},
   "source": [
    "## Practice 9\n",
    "Create a script that prompts the user for a file path and checks if the file exists. \n",
    "* If the file exists, delete the file and confirm the deletion to the user.\n",
    "* If the file doesn't exist, create the file named by the user and confirm the action to the user.  "
   ]
  },
  {
   "cell_type": "code",
   "execution_count": null,
   "metadata": {
    "collapsed": true
   },
   "outputs": [],
   "source": [
    "# your code here "
   ]
  }
 ],
 "metadata": {
  "kernelspec": {
   "display_name": "Python 3 (ipykernel)",
   "language": "python",
   "name": "python3"
  },
  "language_info": {
   "codemirror_mode": {
    "name": "ipython",
    "version": 3
   },
   "file_extension": ".py",
   "mimetype": "text/x-python",
   "name": "python",
   "nbconvert_exporter": "python",
   "pygments_lexer": "ipython3",
   "version": "3.9.12"
  }
 },
 "nbformat": 4,
 "nbformat_minor": 2
}
