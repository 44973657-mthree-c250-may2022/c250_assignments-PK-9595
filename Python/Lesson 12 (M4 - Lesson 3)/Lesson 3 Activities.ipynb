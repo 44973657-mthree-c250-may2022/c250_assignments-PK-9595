{
 "cells": [
  {
   "cell_type": "markdown",
   "metadata": {},
   "source": [
    "# Lesson 3 Activities\n",
    "The exercises in this page will allow you to demonstrate your ability to:\n",
    "* Open, read, and display text-based files in .txt, .csv, and .json formats.\n",
    "* Append content to an existing file.\n",
    "* Replace data in an existing file with new data.\n",
    "* Use the Python `os` module to check for existing files.\n",
    "\n",
    "Unless otherwise specified, you may use any of the files provided in the course to complete these activities, create your own files, or find files that are available online. \n",
    "\n",
    "Most of these exercises can be completed using any text-based file, regardless of the file type. After creating the initial working code for one file type, try running the code on a different file type to see the result."
   ]
  },
  {
   "cell_type": "markdown",
   "metadata": {},
   "source": [
    "## Activity 1\n",
    "Write a function that prompts the reader for an integer `n` and reads the first `n` lines of a file.\n",
    "Include a creative way to handle cases where `n` is greater than the number of lines available in the file."
   ]
  },
  {
   "cell_type": "code",
   "execution_count": null,
   "metadata": {},
   "outputs": [],
   "source": [
    "# your code here"
   ]
  },
  {
   "cell_type": "markdown",
   "metadata": {},
   "source": [
    "## Activity 2\n",
    "Write a function that takes as input the path to two text files and concatenates the files into a single new file."
   ]
  },
  {
   "cell_type": "code",
   "execution_count": null,
   "metadata": {},
   "outputs": [],
   "source": [
    "# your code here"
   ]
  },
  {
   "cell_type": "markdown",
   "metadata": {},
   "source": [
    "## Activity 3\n",
    "Write a function that takes a variable number of text files and concatenates them into a single new file."
   ]
  },
  {
   "cell_type": "code",
   "execution_count": null,
   "metadata": {},
   "outputs": [],
   "source": [
    "# your code here"
   ]
  },
  {
   "cell_type": "markdown",
   "metadata": {},
   "source": [
    "## Activity 4\n",
    "Write a function that reads a text file line by line, stores each line in a list, and then returns the list."
   ]
  },
  {
   "cell_type": "code",
   "execution_count": null,
   "metadata": {},
   "outputs": [],
   "source": [
    "# your code here"
   ]
  },
  {
   "cell_type": "markdown",
   "metadata": {},
   "source": [
    "## Activity 5\n",
    "Write a function that takes as input the path to a text file and returns the longest word in the text file."
   ]
  },
  {
   "cell_type": "code",
   "execution_count": null,
   "metadata": {},
   "outputs": [],
   "source": [
    "# your code here"
   ]
  },
  {
   "cell_type": "markdown",
   "metadata": {},
   "source": [
    "## Activity 6\n",
    "Write a function that takes as input a list of strings and writes the list to a text file. \n",
    "\n",
    "Each element in the list should be a separate line in the new text file."
   ]
  },
  {
   "cell_type": "code",
   "execution_count": null,
   "metadata": {},
   "outputs": [],
   "source": [
    "# your code here"
   ]
  },
  {
   "cell_type": "markdown",
   "metadata": {},
   "source": [
    "## Activity 7\n",
    "Write a function that takes as input a text file and a new filename, and then copies the contents of the input text file to another file using the new filename.\n",
    "\n",
    "**Challenge**: Update the code so that the lines in the new file are in the reverse order of the lines in the original file."
   ]
  },
  {
   "cell_type": "code",
   "execution_count": null,
   "metadata": {},
   "outputs": [],
   "source": [
    "# your code here"
   ]
  },
  {
   "cell_type": "markdown",
   "metadata": {},
   "source": [
    "## Activity 8\n",
    "Write a function that completes the following steps:\n",
    "* Open and read a CSV file.\n",
    "* Count the number of lines in the file.\n",
    "* Split the file into three separate CSV files so that each file includes approximately the same number of lines.\n",
    "* Reassemble the three CSV files into a new file with the pieces in a different order from the original.\n",
    "    * For example, if the original is split into Part 1, Part 2, and Part 3, the new file could contain the same content in the order Part 3, Part 1, Part 2.\n",
    "\n",
    "The code should be as automated as possible, so that the user simply has to identify the original file and does not need to know how many lines of text the file includes."
   ]
  },
  {
   "cell_type": "code",
   "execution_count": null,
   "metadata": {},
   "outputs": [],
   "source": [
    "# your code here"
   ]
  },
  {
   "cell_type": "markdown",
   "metadata": {},
   "source": [
    "## Activity 9: Nobel Prizes\n",
    "For this activity, download and use the file [prize.json](https://the-software-guild.s3.amazonaws.com/techstart-1909/data-files/prize.json).\n",
    "\n",
    "This dataset includes information about Nobel Prizes, including the laureates who received each prize, when the prize was awarded, and the category of the prize.\n",
    "\n",
    "Write a program to analyze the data in this file to find the following information:\n",
    "1. Identify the most recent year in the dataset where someone received a Nobel prize.\n",
    "1. Identify the earliest year when someone received a Nobel prize.\n",
    "1. Identify the category with the highest number of prizes.\n",
    "1. Identify the laureate with the highest number of prizes.\n",
    "1. Identify the laureate that won the most recent prize in peace.\n",
    "1. Identify the laureate that won the most recent prize in medicine.\n",
    "1. Identify the year when the most laureates jointly won the same prize in the same year.\n",
    "1. How many prizes have been given in the economics category?\n",
    "1. How many prizes have been given in peace?\n",
    "1. How many prizes have been given in literature?\n",
    "\n",
    "**Tip**: Open the JSON file and examine it before starting this activity. This will help you identify where to find the data you need to answer the questions."
   ]
  },
  {
   "cell_type": "code",
   "execution_count": null,
   "metadata": {},
   "outputs": [],
   "source": [
    "# your code here"
   ]
  },
  {
   "cell_type": "markdown",
   "metadata": {},
   "source": [
    "## Activity 10: New York Restaurants\n",
    "For this activity, use the file [restaurant.json](https://the-software-guild.s3.amazonaws.com/techstart-1909/data-files/restaurant.json); download it if you do not already have a copy.\n",
    "\n",
    "This dataset includes records of restaurants in New York City, including where each restaurant is located, what kind of cuisine it serves, and its customer ratings. Here is a sample record:\n",
    "\n",
    "\n",
    "    {\"address\": {\"building\": \"1007\", \"coord\": [-73.856077, 40.848447], \"street\": \"Morris Park Ave\", \"zipcode\": \"10462\"}, \"borough\": \"Bronx\", \"cuisine\": \"Bakery\", \"grades\": [{\"date\": {\"$date\": 1393804800000}, \"grade\": \"A\", \"score\": 2}, {\"date\": {\"$date\": 1378857600000}, \"grade\": \"A\", \"score\": 6}, {\"date\": {\"$date\": 1358985600000}, \"grade\": \"A\", \"score\": 10}, {\"date\": {\"$date\": 1322006400000}, \"grade\": \"A\", \"score\": 9}, {\"date\": {\"$date\": 1299715200000}, \"grade\": \"B\", \"score\": 14}], \"name\": \"Morris Park Bake Shop\", \"restaurant_id\": \"30075445\"}\n",
    "\n",
    "Use Python to analyze the data in this file and find the following information:\n",
    "1. Compute the average score for each restaurant.\n",
    "1. Compute the minimum score for each restaurant.\n",
    "1. Compute the maximum score for each restaurant.\n",
    "1. Compute the average score for each type of cuisine in each borough.\n",
    "1. Compute the minimum score for each type of cuisine in each borough.\n",
    "1. Compute the maximum score for each type of cuisine in each borough."
   ]
  },
  {
   "cell_type": "code",
   "execution_count": null,
   "metadata": {},
   "outputs": [],
   "source": [
    "# your code here"
   ]
  },
  {
   "cell_type": "markdown",
   "metadata": {},
   "source": [
    "## Activity 11: Pop Music Evolution\n",
    "For this exercise, use the *evolutionPopUSA_MainData.csv* file, which you can find on [Figshare](https://figshare.com/articles/Main_Dataset_for_Evolution_of_Popular_Music_USA_1960_2010_/1309953). Take some time to review the information about the dataset on that page before completing this activity.\n",
    "\n",
    "Write a program to read the collection and find the following information: \n",
    "1. Find out if there are any artists that had songs in the Pop USA playlist in two different decades.\n",
    "1. Identify the artist with the most songs in the Pop USA playlist.\n",
    "1. Identify the cluster with the most songs.\n",
    "1. Identify the genres within each cluster.\n",
    "1. Identify the era with the most songs."
   ]
  },
  {
   "cell_type": "code",
   "execution_count": null,
   "metadata": {},
   "outputs": [],
   "source": [
    "# your code here"
   ]
  }
 ],
 "metadata": {
  "kernelspec": {
   "display_name": "Python 3",
   "language": "python",
   "name": "python3"
  },
  "language_info": {
   "codemirror_mode": {
    "name": "ipython",
    "version": 3
   },
   "file_extension": ".py",
   "mimetype": "text/x-python",
   "name": "python",
   "nbconvert_exporter": "python",
   "pygments_lexer": "ipython3",
   "version": "3.7.3"
  }
 },
 "nbformat": 4,
 "nbformat_minor": 2
}
