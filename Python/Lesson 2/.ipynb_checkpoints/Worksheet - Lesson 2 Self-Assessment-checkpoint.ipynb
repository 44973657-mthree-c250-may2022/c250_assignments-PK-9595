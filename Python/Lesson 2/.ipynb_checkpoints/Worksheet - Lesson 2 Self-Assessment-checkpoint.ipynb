{
 "cells": [
  {
   "cell_type": "markdown",
   "metadata": {},
   "source": [
    "# Lesson 2 Self-Assessment\n",
    "\n",
    "## Instructions\n",
    "Write a script that performs the following steps:\n",
    "\n",
    "* Collect the following individual pieces of data from the user:\n",
    "    * First name\n",
    "    * Last name\n",
    "    * City where they live\n",
    "    * Their hourly wage\n",
    "    * The number of hours they work each week\n",
    "* Based on the data input, present the following information in a format similar to that shown below:\n",
    "\n",
    "<pre>Hi, Firstname Lastname! How are you?\n",
    "I hope the weather is nice in City.\n",
    "Based on the information you provided, you earn X dollars per week, approximately Y dollars per month, and Z dollars per year.</pre>\n",
    "\n",
    "## Requirements\n",
    "\n",
    "* Add your name and the current date in a comment on the first line.\n",
    "* The user can enter the text values using any case they wish, but the output must have only the first letter of each name and city capitalized.\n",
    "    * For example, if the user enters john, JOHN, or joHn as their first name, the output should be John.\n",
    "* Assume that there are four weeks in each month, but the yearly calculation should be based on a full year.\n",
    "* Use correct spelling and punctuation in all user prompts and output.\n",
    "\t\n",
    "Write the code on your own and verify that it produces the expected outcome and runs without error. When testing the program, ensure that the user can enter their name and city in any case they wish and the output will always use appropriate case.\n",
    "\n",
    "**Tip**: This program includes many individual steps. It would help to write a flow chart that outlines what steps the program should take, even before you start to write code. Also remember that you don't have to write the entire program in the first attempt. Instead, break it down into steps you know how to do and do those first, which will build your self-confidence. Tackle the more difficult steps after you've done the easy ones.\n",
    "\n",
    "## Self-Check\n",
    "\n",
    "Use the following checklist to verify that you have met all requirements for this activity:\n",
    "\n",
    "* Your name and a current date appear as a comment on the first line of code.\n",
    "* The program prompts the user for five different pieces of data: first name, last name, city, hourly wage, and number of hours worked per week.\n",
    "* The user can enter their name and city using any case and the output will capitalize only the first letter.\n",
    "* The program performs three different operations based on the hourly wage and the number of hours worked per week.\n",
    "* The program displays the person's wages per week, per month, and per year."
   ]
  },
  {
   "cell_type": "code",
   "execution_count": 7,
   "metadata": {},
   "outputs": [
    {
     "name": "stdout",
     "output_type": "stream",
     "text": [
      "Please enter your first name: pAUL\n",
      "Please enter your last name: ChIeN\n",
      "Please enter the city you live in: sINGapORE\n",
      "Please enter your hourly wage: 500\n",
      "Please enter the number of hours you work each week: 10\n",
      "\n",
      "Hi Paul Chien! How are you? \n",
      "I hope the weather is nice in Singapore.\n",
      "Based on the information you provided, you earn 5000 dollars each week, approximately 20000 dollars per month, and 260000 dollars per\n",
      "year.\n"
     ]
    }
   ],
   "source": [
    "#Paul Chien, 24th May 2022\n",
    "\n",
    "firstName = input(\"Please enter your first name: \")\n",
    "firstName = firstName[0].upper() + firstName.lower()[1:]\n",
    "lastName = input(\"Please enter your last name: \")\n",
    "lastName = lastName[0].upper() + lastName.lower()[1:]\n",
    "city = input(\"Please enter the city you live in: \")\n",
    "city = city[0].upper() + city.lower()[1:]\n",
    "\n",
    "hourlyWage = float(input(\"Please enter your hourly wage: \"))\n",
    "hours = float(input(\"Please enter the number of hours you work each week: \"))\n",
    "\n",
    "weeklyWage= hours*hourlyWage\n",
    "monthlyWage = weeklyWage*4\n",
    "yearlyWage = weeklyWage*52\n",
    "\n",
    "print(f'''\n",
    "Hi {firstName} {lastName}! How are you? \n",
    "I hope the weather is nice in {city}.\n",
    "Based on the information you provided, you earn {round(weeklyWage)} dollars each week, approximately {round(monthlyWage)} dollars per month, and {round(yearlyWage)} dollars per\n",
    "year.''')"
   ]
  },
  {
   "cell_type": "markdown",
   "metadata": {},
   "source": []
  },
  {
   "cell_type": "code",
   "execution_count": null,
   "metadata": {},
   "outputs": [],
   "source": []
  }
 ],
 "metadata": {
  "kernelspec": {
   "display_name": "Python 3 (ipykernel)",
   "language": "python",
   "name": "python3"
  },
  "language_info": {
   "codemirror_mode": {
    "name": "ipython",
    "version": 3
   },
   "file_extension": ".py",
   "mimetype": "text/x-python",
   "name": "python",
   "nbconvert_exporter": "python",
   "pygments_lexer": "ipython3",
   "version": "3.9.12"
  }
 },
 "nbformat": 4,
 "nbformat_minor": 2
}
