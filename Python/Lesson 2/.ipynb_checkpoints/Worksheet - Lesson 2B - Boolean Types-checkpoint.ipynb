{
 "cells": [
  {
   "cell_type": "markdown",
   "metadata": {},
   "source": [
    "# Worksheet: Boolean Types\n",
    "This worksheet includes the practice activities for *Lesson 2B: Boolean Types* in the online course. Refer to that lesson as necessary to complete these activities."
   ]
  },
  {
   "cell_type": "markdown",
   "metadata": {},
   "source": [
    "## Practice 1\n",
    "Create boolean variables to store your answers to the following questions. Use `True` for yes and `False` for no.\n",
    "* Do you live in the United States?\n",
    "* Have you ever lived in New Hampshire?\n",
    "* Have you ever lived in Boston?\n",
    "* Have you ever been to California?\n",
    "\n",
    "The code should display the value and type for each variable."
   ]
  },
  {
   "cell_type": "code",
   "execution_count": 3,
   "metadata": {},
   "outputs": [
    {
     "name": "stdout",
     "output_type": "stream",
     "text": [
      "Value is False, type is <class 'bool'>\n",
      "Value is False, type is <class 'bool'>\n",
      "Value is False, type is <class 'bool'>\n",
      "Value is False, type is <class 'bool'>\n"
     ]
    }
   ],
   "source": [
    "first=False\n",
    "second=False\n",
    "third=False\n",
    "fourth=False\n",
    "\n",
    "print(f\"Value is {first}, type is {type(first)}\")\n",
    "print(f\"Value is {second}, type is {type(second)}\")      \n",
    "print(f\"Value is {third}, type is {type(third)}\")\n",
    "print(f\"Value is {fourth}, type is {type(fourth)}\")"
   ]
  },
  {
   "cell_type": "markdown",
   "metadata": {},
   "source": [
    "## Practice 2a\n",
    "Update the code below to include an additional variable `d`. Assign a value of your choice (number or string) and determine the boolean value for that value using the pattern provided for the existing variables. \n",
    "\n",
    "Can you find any other values that convert to `False` besides 0? (**Hint**: Try using an empty value.)"
   ]
  },
  {
   "cell_type": "code",
   "execution_count": 7,
   "metadata": {},
   "outputs": [
    {
     "name": "stdout",
     "output_type": "stream",
     "text": [
      "0\n",
      "False\n",
      "1\n",
      "True\n",
      "2\n",
      "True\n",
      "\n",
      "False\n"
     ]
    }
   ],
   "source": [
    "a = 0\n",
    "b =  1\n",
    "c = 2\n",
    "d = ''\n",
    "\n",
    "print(a)\n",
    "print(bool(a))\n",
    "print(b)\n",
    "print(bool(b))\n",
    "print(c)\n",
    "print(bool(c))\n",
    "print(d)\n",
    "print(bool(d))"
   ]
  },
  {
   "cell_type": "markdown",
   "metadata": {},
   "source": [
    "## Practice 2b\n",
    "Update the following code so all the tests return `True`. \n",
    "\n",
    "**Hint**: You will need to update the values for `test` so the `bool` function returns `True` in all situations."
   ]
  },
  {
   "cell_type": "code",
   "execution_count": 9,
   "metadata": {},
   "outputs": [
    {
     "name": "stdout",
     "output_type": "stream",
     "text": [
      "[1] : True\n",
      "0.01 : True\n",
      "1 : True\n",
      "True : True\n",
      "Easy string : True\n"
     ]
    }
   ],
   "source": [
    "test = [1]\n",
    "print(test,':',bool(test))\n",
    "test = 0.01\n",
    "print(test,':',bool(test))\n",
    "test = \"1\"\n",
    "print(test,':',bool(test))\n",
    "test = True\n",
    "print(test,':',bool(test))\n",
    "test = 'Easy string'\n",
    "print(test,':',bool(test))"
   ]
  },
  {
   "cell_type": "markdown",
   "metadata": {},
   "source": [
    "## Practice 3a\n",
    "Run the code below and answer each question with true or false based on the operation displayed."
   ]
  },
  {
   "cell_type": "code",
   "execution_count": 10,
   "metadata": {},
   "outputs": [
    {
     "name": "stdout",
     "output_type": "stream",
     "text": [
      "What is the output of the following operation (True and True)? True\n",
      "What is the output of the following operation (False or False)? False\n",
      "What is the output of the following operation (False and False)? False\n",
      "What is the output of the following operation (not False)? True\n",
      "What is the output of the following operation ( (not False) or False )? True\n",
      "What is the output of the following operation ( (not True) and (not False) )? False\n"
     ]
    }
   ],
   "source": [
    "a = input(\"What is the output of the following operation (True and True)? \")\n",
    "b = input(\"What is the output of the following operation (False or False)? \")\n",
    "c = input(\"What is the output of the following operation (False and False)? \")\n",
    "d = input(\"What is the output of the following operation (not False)? \")\n",
    "e = input(\"What is the output of the following operation ( (not False) or False )? \")\n",
    "f = input(\"What is the output of the following operation ( (not True) and (not False) )? \")"
   ]
  },
  {
   "cell_type": "markdown",
   "metadata": {},
   "source": [
    "## Practice 3b\n",
    "Now create a program that performs each of the logic operations in the previous exercise to check your answers.\n",
    "\n",
    "The code below shows the results for variable `a`. Use that model to create the statements for the remaining variables."
   ]
  },
  {
   "cell_type": "code",
   "execution_count": 11,
   "metadata": {},
   "outputs": [
    {
     "name": "stdout",
     "output_type": "stream",
     "text": [
      "True\n",
      "False\n",
      "False\n",
      "True\n",
      "True\n",
      "False\n"
     ]
    }
   ],
   "source": [
    "a = True and True\n",
    "print(a)\n",
    "b = False or False\n",
    "print(b)\n",
    "c = False and False\n",
    "print(c)\n",
    "d = not False\n",
    "print(d)\n",
    "e = (not False) or False\n",
    "print(e)\n",
    "f = (not True) and (not False)\n",
    "print(f)"
   ]
  },
  {
   "cell_type": "markdown",
   "metadata": {},
   "source": [
    "## Practice 4a\n",
    "Run the following code and answer each question with true or false. \n",
    "\n",
    "Pay attention to details!"
   ]
  },
  {
   "cell_type": "code",
   "execution_count": 12,
   "metadata": {},
   "outputs": [
    {
     "name": "stdout",
     "output_type": "stream",
     "text": [
      "What is the output of the following operation: num1 != num2 ? True\n",
      "What is the output of the following operation: num1 == num2 ? False\n",
      "What is the output of the following operation: num1 > num2 ? False\n",
      "What is the output of the following operation: num2 >= num2 ? True\n",
      "What is the output of the following operation:  num2 is not num2? False\n"
     ]
    }
   ],
   "source": [
    "num1 = 2\n",
    "num2 = 3\n",
    "a = input(\"What is the output of the following operation: num1 != num2 ? \")\n",
    "b = input(\"What is the output of the following operation: num1 == num2 ? \")\n",
    "c = input(\"What is the output of the following operation: num1 > num2 ? \")\n",
    "d = input(\"What is the output of the following operation: num2 >= num2 ? \")\n",
    "e = input(\"What is the output of the following operation:  num2 is not num2? \")"
   ]
  },
  {
   "cell_type": "markdown",
   "metadata": {},
   "source": [
    "## Practice 4b\n",
    "Now create a separate program that evaluates each statement above and returns the real value so you can check your answers.\n",
    "\n",
    "The code below shows the output for `a` as a model. You should add similar code for each of the variables in Practice 4a and then run the program to compare your answers from Practice 4a to how Python actually evaluates each statement."
   ]
  },
  {
   "cell_type": "code",
   "execution_count": 13,
   "metadata": {},
   "outputs": [
    {
     "name": "stdout",
     "output_type": "stream",
     "text": [
      "True\n",
      "False\n",
      "False\n",
      "True\n",
      "False\n"
     ]
    }
   ],
   "source": [
    "num1 = 2\n",
    "num2 = 3\n",
    "a = (num1 != num2)\n",
    "print(a)\n",
    "b = (num1 == num2)\n",
    "print(b)\n",
    "c = (num1 > num2)\n",
    "print(c)\n",
    "d = (num2 >= num2)\n",
    "print(d)\n",
    "e = (num2 is not num2)\n",
    "print(e)"
   ]
  },
  {
   "cell_type": "code",
   "execution_count": null,
   "metadata": {},
   "outputs": [],
   "source": []
  }
 ],
 "metadata": {
  "kernelspec": {
   "display_name": "Python 3 (ipykernel)",
   "language": "python",
   "name": "python3"
  },
  "language_info": {
   "codemirror_mode": {
    "name": "ipython",
    "version": 3
   },
   "file_extension": ".py",
   "mimetype": "text/x-python",
   "name": "python",
   "nbconvert_exporter": "python",
   "pygments_lexer": "ipython3",
   "version": "3.9.12"
  }
 },
 "nbformat": 4,
 "nbformat_minor": 2
}
