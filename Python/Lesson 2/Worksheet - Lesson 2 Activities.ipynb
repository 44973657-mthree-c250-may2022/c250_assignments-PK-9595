{
 "cells": [
  {
   "cell_type": "markdown",
   "metadata": {},
   "source": [
    "# Module 1 - Lesson 2 Activities\n",
    "The activities here will give you the opportunity to practice the skills and tools presented in Lesson 2, with the following objectives:\n",
    "1. Demonstrate the use of a variety of data types in Python, including numbers, booleans, and strings.\n",
    "1. Distinguish between float values, integers, and complex numbers.\n",
    "1. Use Python to perform operations using numbers.\n",
    "1. Use Python to perform logic operations using booleans.\n",
    "1. Use Python to manipulate string values.\n",
    "\n",
    "Software development skills build on each other, so many of the activities here will also require skills and tools presented in earlier lessons."
   ]
  },
  {
   "cell_type": "markdown",
   "metadata": {},
   "source": [
    "## Activity 1\n",
    "Create a program that prompts the user to enter a number and then displays the type of the number entered (e.g., complex, integer, or float). \n",
    "\n",
    "For example, if the user enters `6`, the output should be `int` (for integer). "
   ]
  },
  {
   "cell_type": "code",
   "execution_count": 1,
   "metadata": {},
   "outputs": [
    {
     "name": "stdout",
     "output_type": "stream",
     "text": [
      "Please enter a number123\n",
      "<class 'int'>\n"
     ]
    }
   ],
   "source": [
    "num = input(\"Please enter a number: \")\n",
    "num=int(num)\n",
    "print(type(num))"
   ]
  },
  {
   "cell_type": "markdown",
   "metadata": {},
   "source": [
    "## Activity 2\n",
    "Update the code below so that the result is equal to 576. Do not change any of the existing values or operators or the order in which they appear."
   ]
  },
  {
   "cell_type": "code",
   "execution_count": 2,
   "metadata": {},
   "outputs": [
    {
     "name": "stdout",
     "output_type": "stream",
     "text": [
      "576\n"
     ]
    }
   ],
   "source": [
    "# do not change the order in which the numbers and operators appear in the next line\n",
    "result = (5 + 3) ** 2 * 9 \n",
    "\n",
    "print(result) # the output should be 576"
   ]
  },
  {
   "cell_type": "markdown",
   "metadata": {},
   "source": [
    "## Activity 3\n",
    "Create a program that prompts the user for a float number and returns the integer portion of the floating number."
   ]
  },
  {
   "cell_type": "code",
   "execution_count": 5,
   "metadata": {},
   "outputs": [
    {
     "name": "stdout",
     "output_type": "stream",
     "text": [
      "Please enter a float: 10.6\n",
      "10\n"
     ]
    }
   ],
   "source": [
    "numFloat = input(\"Please enter a float: \")\n",
    "numFloat=int(float((numFloat)))\n",
    "print(numFloat)"
   ]
  },
  {
   "cell_type": "markdown",
   "metadata": {},
   "source": [
    "## Activity 4\n",
    "Write a program that calculates and displays the current value of an investment for a given initial deposit, interest rate, the number of times interest is calculated per year, and the number of years since the initial deposit.\n",
    "\n",
    "The program should prompt the user for each of the values and use the following formula to calculate the current value of the deposit:\n",
    "\n",
    "    V = P(1 + r/n)^nt\n",
    "    \n",
    "Where each letter represents concepts listed below:\n",
    "* `V`: Value\n",
    "* `P`: Initial deposit\n",
    "* `r`: Interest rate as a fraction (e.g., 0.05)\n",
    "* `n`: Number of times per year interest is calculated\n",
    "* `t`: Number of years since the initial deposit\n",
    "\t\n",
    "\t    \n",
    "The program should show the user the results of the calculation and each of the input values in a meaningful way (so that the user can easily tell what each value represents)."
   ]
  },
  {
   "cell_type": "code",
   "execution_count": 17,
   "metadata": {},
   "outputs": [
    {
     "name": "stdout",
     "output_type": "stream",
     "text": [
      "Please enter the parameters P, r, n, t delimited by spaces: 1000 0.05 1 10\n",
      "\n",
      "The current value is 1628.894626777442\n",
      "\n",
      "Initial deposit (P): 1000.0\n",
      "Interest rate (r): 0.05\n",
      "Number of time per year interest is calculate (n): 1.0\n",
      "Number of years since initial deposit (t): 10.0\n"
     ]
    }
   ],
   "source": [
    "P, r, n, t = input(\"Please enter the parameters P, r, n, t delimited by spaces: \").split()\n",
    "P, r, n, t = [float(i) for i in [P,r,n,t]]\n",
    "V=P*(1 + r/n)**(n*t)\n",
    "\n",
    "print(f'''\n",
    "The current value is {V}\n",
    "\n",
    "Initial deposit (P): {P}\n",
    "Interest rate (r): {r}\n",
    "Number of time per year interest is calculate (n): {n}\n",
    "Number of years since initial deposit (t): {t}''')"
   ]
  },
  {
   "cell_type": "markdown",
   "metadata": {},
   "source": [
    "## Activity 5\n",
    "Write a program that prompts the user for a principal amount, the rate of interest, and the number of days for a loan, and then calculates and returns the simple interest for the life of the loan. Use the formula below:\n",
    "\n",
    "    interest = principal * rate * days / 365"
   ]
  },
  {
   "cell_type": "code",
   "execution_count": 22,
   "metadata": {},
   "outputs": [
    {
     "name": "stdout",
     "output_type": "stream",
     "text": [
      "Enter Principal amount, rate of interest and number of days for loan, delimited by spaces: 1000 0.1 900\n",
      "interest is 246.57534246575344\n"
     ]
    }
   ],
   "source": [
    "myArr = input(\"Enter Principal amount, rate of interest and number of days for loan, delimited by spaces: \").split()\n",
    "principal, rate, days = [float(i) for i in myArr]\n",
    "interest=principal*rate*days/365\n",
    "\n",
    "print(f\"interest is {interest}\")"
   ]
  },
  {
   "cell_type": "markdown",
   "metadata": {},
   "source": [
    "## Activity 6\n",
    "Create a program that displays three statements that evaluate to True and three statements that evaluate to False.\n",
    "\n",
    "Example:\n",
    "\n",
    "    a = 0\n",
    "    b = 1 \n",
    "    \n",
    "    Output: a < b = True"
   ]
  },
  {
   "cell_type": "code",
   "execution_count": 29,
   "metadata": {},
   "outputs": [
    {
     "name": "stdout",
     "output_type": "stream",
     "text": [
      "True\n",
      "True\n",
      "True\n",
      "False\n",
      "False\n",
      "False\n"
     ]
    }
   ],
   "source": [
    "print(0<1)\n",
    "print(1<2)\n",
    "print(2<=3)\n",
    "\n",
    "print(0>1)\n",
    "print(1>2)\n",
    "print(2==3)"
   ]
  },
  {
   "cell_type": "markdown",
   "metadata": {},
   "source": [
    "## Activity 7\n",
    "Create a program that prompts the user for a number and calculates the following:\n",
    "* The boolean of the number entered\n",
    "* The binary equivalent of the number entered\n",
    "* The square root of the number entered\n",
    "\n",
    "The program should display the following to the user:\n",
    "* The number the user entered, in a phrase like, \"You selected `value`.\"\n",
    "* The boolean of the number, in a phrase like, \"The boolean of your number is `value`.\"\n",
    "* The binary equivalent of the number, in a phrase like, \"The binary equivalent of your number is `value`.\"\n",
    "* The square root of the number, with the value rounded to three decimal places, in a phrase like, \"The square root of your number is `value`.\""
   ]
  },
  {
   "cell_type": "code",
   "execution_count": 34,
   "metadata": {},
   "outputs": [
    {
     "name": "stdout",
     "output_type": "stream",
     "text": [
      "Enter a number: 10\n",
      "You selected 10\n",
      "The boolean of your number is True\n",
      "The binary equivalent of your number is 0b1010\n",
      "The square root of your number is 3.162\n"
     ]
    }
   ],
   "source": [
    "num = float(input(\"Enter a number: \"))\n",
    "num=int(num)\n",
    "print(f\"You selected {num}\")\n",
    "print(f\"The boolean of your number is {bool(num)}\")\n",
    "print(f\"The binary equivalent of your number is {bin(num)}\")\n",
    "print(f\"The square root of your number is {round(num**0.5,3)}\")"
   ]
  },
  {
   "cell_type": "markdown",
   "metadata": {},
   "source": [
    "## Activity 8\n",
    "Create a program that completes the following tasks:\n",
    "1. Prompt the user for a series of five integers. \n",
    "    * The user must be asked for five numbers.\n",
    "1. After the fifth entry, stop prompting for values and calculate the following: \n",
    "    * The product of the integers\n",
    "    * The average of the integers\n",
    "    * The sum of the integers\n",
    "1. After performing the calculations, display the following to the user: \n",
    "    * The values the user entered\n",
    "    * The values of the calculations, using a phrase that identifies the value"
   ]
  },
  {
   "cell_type": "code",
   "execution_count": 37,
   "metadata": {},
   "outputs": [
    {
     "name": "stdout",
     "output_type": "stream",
     "text": [
      "Please enter an integer: 9\n",
      "Please enter an integer: 8\n",
      "Please enter an integer: 7\n",
      "Please enter an integer: 6\n",
      "Please enter an integer: 5\n",
      "\n",
      "You entered the following values: [9, 8, 7, 6, 5]\n",
      "The product of all values are: 15120\n",
      "The average of all values are: 7.0\n",
      "The sum of all values are: 35\n"
     ]
    }
   ],
   "source": [
    "import math\n",
    "\n",
    "inputArr=[]\n",
    "for i in range(5):\n",
    "    userInt = int(input(\"Please enter an integer: \"))\n",
    "    inputArr.append(userInt)\n",
    "\n",
    "length = len(inputArr)\n",
    "arrSum = sum(inputArr)\n",
    "prod = math.prod(inputArr)\n",
    "avg = arrSum/length\n",
    "\n",
    "\n",
    "print(f'''\n",
    "You entered the following values: {inputArr}\n",
    "The product of all values are: {prod}\n",
    "The average of all values are: {avg}\n",
    "The sum of all values are: {arrSum}''')"
   ]
  },
  {
   "cell_type": "markdown",
   "metadata": {},
   "source": [
    "## Activity 9\n",
    "1. Start with a street address that includes a building/house number, the name of the street, and the type of street (Street, Avenue, Boulevard, etc.). \n",
    "    * You can use any address you wish and abbreviations are acceptable.\n",
    "    * For example: 25 Main Street\n",
    "1. Display the full address to the user.\n",
    "1. Display the house number only in a phrase like, \"The building or house number is 25.\"\n",
    "1. Display the street name in a phrase like, \"The street name is Main Street.\""
   ]
  },
  {
   "cell_type": "code",
   "execution_count": 47,
   "metadata": {},
   "outputs": [
    {
     "name": "stdout",
     "output_type": "stream",
     "text": [
      "Address is 35 Smith Street\n",
      "The building or house number is 35\n",
      "The street name is Smith Street\n"
     ]
    }
   ],
   "source": [
    "address = \"35 Smith Street\"\n",
    "print(f\"Address is {address}\")\n",
    "print(f\"The building or house number is {address.split()[0]}\")\n",
    "print(f\"The street name is {address[3:]}\")"
   ]
  },
  {
   "cell_type": "code",
   "execution_count": null,
   "metadata": {},
   "outputs": [],
   "source": []
  }
 ],
 "metadata": {
  "kernelspec": {
   "display_name": "Python 3 (ipykernel)",
   "language": "python",
   "name": "python3"
  },
  "language_info": {
   "codemirror_mode": {
    "name": "ipython",
    "version": 3
   },
   "file_extension": ".py",
   "mimetype": "text/x-python",
   "name": "python",
   "nbconvert_exporter": "python",
   "pygments_lexer": "ipython3",
   "version": "3.9.12"
  }
 },
 "nbformat": 4,
 "nbformat_minor": 2
}
