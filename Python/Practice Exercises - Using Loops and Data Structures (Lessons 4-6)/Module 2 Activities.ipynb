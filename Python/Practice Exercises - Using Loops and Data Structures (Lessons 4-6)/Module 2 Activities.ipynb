{
 "cells": [
  {
   "cell_type": "markdown",
   "metadata": {},
   "source": [
    "\n",
    "# Module 2 Practice Exercises\n",
    "\n",
    "After completing all parts of this module, use the following activities to practice the skills you have learned. These activities will demonstrate your ability to use Python to:\n",
    "\n",
    "* Use lists and tuples to store data collections.\n",
    "* Store, retrieve, and manipulate data in dictionaries and sets.\n",
    "* Use repetition statements to repeat blocks of code and iterate through strings, lists, tuples, dictionaries, and sets.\n",
    "\n",
    "Many of these activities depend on skills related to using numbers, strings, and conditional statements in addition to the concepts presented in this module."
   ]
  },
  {
   "cell_type": "markdown",
   "metadata": {},
   "source": [
    "## Activity 1\n",
    "\n",
    "Prompt the user to answer a series of 3-5 questions about themselves (such as their name, their age, their birthday, or where they live) and save the answers in a list. Display the results to the user."
   ]
  },
  {
   "cell_type": "code",
   "execution_count": 3,
   "metadata": {},
   "outputs": [
    {
     "name": "stdout",
     "output_type": "stream",
     "text": [
      "What is your name?: Paul\n",
      "What is your age?: 27\n",
      "What is your birthday?: 9th March\n",
      "Where do you live?: Singapore\n",
      "Here are a list of your answers: ['Paul', 27, '9th March', 'Singapore']\n"
     ]
    }
   ],
   "source": [
    "ansLs = []\n",
    "ansLs.append(input(\"What is your name?: \"))\n",
    "ansLs.append(int(input(\"What is your age?: \")))\n",
    "ansLs.append(input(\"What is your birthday?: \"))\n",
    "ansLs.append(input(\"Where do you live?: \"))\n",
    "            \n",
    "print(f\"Here are a list of your answers: {ansLs}\") "
   ]
  },
  {
   "cell_type": "markdown",
   "metadata": {},
   "source": [
    "## Activity 2\n",
    "\n",
    "Present the user with an existing list of items (such as the list created in the previous activity) and prompt the user for 2-4 more items to add to the list. Update the list with the new items and display the updated list."
   ]
  },
  {
   "cell_type": "code",
   "execution_count": 5,
   "metadata": {},
   "outputs": [
    {
     "name": "stdout",
     "output_type": "stream",
     "text": [
      "Please add another item to this list ['Paul', 27, '9th March', 'Singapore'] : Happy\n",
      "Please add another item to this list ['Paul', 27, '9th March', 'Singapore', 'Happy'] : Boy\n",
      "Please add another item to this list ['Paul', 27, '9th March', 'Singapore', 'Happy', 'Boy'] : 95\n",
      "Thank you, the updated list is: ['Paul', 27, '9th March', 'Singapore', 'Happy', 'Boy', '95']\n"
     ]
    }
   ],
   "source": [
    "ls = ['Paul', 27, '9th March', 'Singapore']\n",
    "\n",
    "ls.append(input(f\"Please add another item to this list {ls} : \"))\n",
    "ls.append(input(f\"Please add another item to this list {ls} : \"))\n",
    "ls.append(input(f\"Please add another item to this list {ls} : \"))\n",
    "\n",
    "print(f\"Thank you, the updated list is: {ls}\")"
   ]
  },
  {
   "cell_type": "markdown",
   "metadata": {},
   "source": [
    "## Activity 3\n",
    "\n",
    "Present the user with a list of 7-9 items (such as the list created in the previous activities) and prompt them to enter one item to delete from the list. Delete the named item from the list and display the updated list."
   ]
  },
  {
   "cell_type": "code",
   "execution_count": 6,
   "metadata": {},
   "outputs": [
    {
     "name": "stdout",
     "output_type": "stream",
     "text": [
      "Please select an item from the list to delete: Paul\n",
      "The updated list is: [27, '9th March', 'Singapore', 'Happy', 'Boy', '95']\n"
     ]
    }
   ],
   "source": [
    "ls = ['Paul', 27, '9th March', 'Singapore', 'Happy', 'Boy', '95']\n",
    "ls.remove(input(\"Please select an item from the list to delete: \"))\n",
    "print(f\"The updated list is: {ls}\")"
   ]
  },
  {
   "cell_type": "markdown",
   "metadata": {},
   "source": [
    "## Activity 4\n",
    "\n",
    "Present the user with a list of 7-9 items (such as the list created in the previous activities) and prompt them to select one item from the list to update, along with the new value for that item. Change the item's value and display the new list to the user.\n"
   ]
  },
  {
   "cell_type": "code",
   "execution_count": 8,
   "metadata": {},
   "outputs": [
    {
     "name": "stdout",
     "output_type": "stream",
     "text": [
      "Please select an item from the list to replace: 27\n",
      "Please choose a value to replace that item: 0\n",
      "The updated list is: ['Paul', '0', '9th March', 'Singapore', 'Happy', 'Boy', '95']\n"
     ]
    }
   ],
   "source": [
    "ls = ['Paul', '27', '9th March', 'Singapore', 'Happy', 'Boy', '95']\n",
    "ind = ls.index(input(\"Please select an item from the list to replace: \"))\n",
    "ls[ind] = input(\"Please choose a value to replace that item: \")\n",
    "\n",
    "print(f\"The updated list is: {ls}\")"
   ]
  },
  {
   "cell_type": "markdown",
   "metadata": {},
   "source": [
    "## Activity 5\n",
    "\n",
    "Create four tuples:\n",
    "\n",
    "* One tuple with a person's first name and last name\n",
    "* A second tuple with the person's current profession\n",
    "* A third tuple with the person's current address\n",
    "* A fourth tuple with the person's previous address\n",
    "\n",
    "Combine all tuples into a new, single tuple that contains all items from the original tuples."
   ]
  },
  {
   "cell_type": "code",
   "execution_count": 11,
   "metadata": {},
   "outputs": [
    {
     "name": "stdout",
     "output_type": "stream",
     "text": [
      "('Alex', 'Xander', 'Unemployed', 'Tampines St 1 Blk 912', 'Tampines St 2 Blk 921')\n"
     ]
    }
   ],
   "source": [
    "tup1 = ('Alex', 'Xander')\n",
    "tup2 = ('Unemployed',)\n",
    "tup3 = ('Tampines St 1 Blk 912',)\n",
    "tup4 = ('Tampines St 2 Blk 921',)\n",
    "tup5 = tup1+tup2+tup3+tup4\n",
    "print(tup5)"
   ]
  },
  {
   "cell_type": "markdown",
   "metadata": {},
   "source": [
    "## Activity 6\n",
    "\n",
    "Create a program that completes the following tasks:\n",
    "\n",
    "* Prompt the user for a series of 5-10 integers.\n",
    "    * The user must be prompted for a minimum of five numbers.\n",
    "    * After the user has entered five numbers, allow the user to stop or enter another number.\n",
    "* When the user chooses to stop or after ten numbers have been entered, stop prompting for values and perform calculations to find the following:\n",
    "    * The product of the integers\n",
    "    * The average of the integers\n",
    "    * The sum of the integers\n",
    "    * The min of the integers\n",
    "    * The max of the integers\n",
    "* After performing the calculations, display the following to the user:\n",
    "    * The values the user entered\n",
    "    * Each of the calculations, using a phrase that identifies the value\n",
    "\n",
    "Do not use the built-in sum, min, or max functions."
   ]
  },
  {
   "cell_type": "code",
   "execution_count": 17,
   "metadata": {},
   "outputs": [
    {
     "name": "stdout",
     "output_type": "stream",
     "text": [
      "Please enter an integer: 1\n",
      "Please enter an integer: 2\n",
      "Please enter an integer: 3\n",
      "Please enter an integer: 4\n",
      "Please enter an integer: 5\n",
      "Please enter an integer or type 'stop' to terminate user input: 6\n",
      "Please enter an integer or type 'stop' to terminate user input: 7\n",
      "Please enter an integer or type 'stop' to terminate user input: 8\n",
      "Please enter an integer or type 'stop' to terminate user input: 9\n",
      "Please enter an integer or type 'stop' to terminate user input: 10\n",
      " You have entered the following values: [1, 2, 3, 4, 5, 6, 7, 8, 9, 10]\n",
      "\n",
      "Here are some calculation results from those values:\n",
      "Product: 3628800\n",
      "Sum: 55\n",
      "Minimum: 1\n",
      "Maximum: 10\n",
      "\n"
     ]
    }
   ],
   "source": [
    "import math\n",
    "\n",
    "ls = []\n",
    "while True:\n",
    "    if len(ls)==10:\n",
    "        break\n",
    "    elif len(ls)<5:\n",
    "        ans = input(\"Please enter an integer: \")\n",
    "    else:\n",
    "        ans = input(\"Please enter an integer or type 'stop' to terminate user input: \").lower()\n",
    "        if ans=='stop':\n",
    "            break\n",
    "    ans = int(ans)\n",
    "    ls.append(ans)\n",
    "    \n",
    "\n",
    "lsProd=1\n",
    "lsSum=0\n",
    "lsMin=ls[0]\n",
    "lsMax=ls[0]\n",
    "    \n",
    "for i in ls:\n",
    "    lsProd *= i\n",
    "    lsSum += i\n",
    "    if i < lsMin : lsMin = i\n",
    "    if i > lsMax : lsMax = i\n",
    "        \n",
    "print(f''' You have entered the following values: {ls}\n",
    "\n",
    "Here are some calculation results from those values:\n",
    "Product: {lsProd}\n",
    "Sum: {lsSum}\n",
    "Minimum: {lsMin}\n",
    "Maximum: {lsMax}\n",
    "''')"
   ]
  },
  {
   "cell_type": "markdown",
   "metadata": {},
   "source": [
    "## Activity 7\n",
    "\n",
    "Create a program that takes an input list of strings, identifies all the strings with more than two characters, and stores the results in another list.\n",
    "\n",
    "For example:\n",
    "\n",
    "    a = [\"a\", \"bc\", \"rye\", \"hello\", \"c\", \"\"]\n",
    "\n",
    "Output:\n",
    "\n",
    "    [\"bc\", \"rye\", \"hello\"]"
   ]
  },
  {
   "cell_type": "code",
   "execution_count": 18,
   "metadata": {},
   "outputs": [
    {
     "name": "stdout",
     "output_type": "stream",
     "text": [
      "['bc', 'rye', 'hello']\n"
     ]
    }
   ],
   "source": [
    "a = [\"a\", \"bc\", \"rye\", \"hello\", \"c\", \"\"]\n",
    "newLs = [i for i in a if len(i)>1]\n",
    "\n",
    "print(newLs)"
   ]
  },
  {
   "cell_type": "markdown",
   "metadata": {},
   "source": [
    "## Activity 8\n",
    "\n",
    "Write a program using the steps below:\n",
    "\n",
    "* Create a dictionary with at least three key-value pairs.\n",
    "* Ask the user for a value.\n",
    "* Display all key-value pairs in the dictionary that include the user-specified value.\n",
    "* If the value does not exist in the dictionary, display a user-friendly error message.\n",
    "\n",
    "For example:\n",
    "\n",
    "    dictionary: freq_count = {\"hello\":4,\"world\":4,\"I\":1,\"am\": 2,\"Martha:\"3\"}\n",
    "    user input: 4\n",
    "    output: {\"hello\":4,\"world\":4}"
   ]
  },
  {
   "cell_type": "code",
   "execution_count": 25,
   "metadata": {},
   "outputs": [
    {
     "name": "stdout",
     "output_type": "stream",
     "text": [
      "Please enter a number: 4\n",
      "The following items have values matches your number: \n",
      "hello : 4 \n",
      "world : 4 \n"
     ]
    }
   ],
   "source": [
    "freq_count = {\"hello\":4,\"world\":4,\"I\":1,\"am\": 2,\"Martha\": 3}\n",
    "num = int(input(\"Please enter a number: \"))\n",
    "\n",
    "print(\"The following items have values matches your number: \")\n",
    "\n",
    "for i, j in freq_count.items():\n",
    "    if j==num:\n",
    "        print(f\"{i} : {j} \")"
   ]
  },
  {
   "cell_type": "markdown",
   "metadata": {},
   "source": [
    "## Activity 9\n",
    "\n",
    "Create a program that does the following:\n",
    "\n",
    "* Define a set with at least five elements.\n",
    "* Ask the user for a value.\n",
    "* Ask the user for an operation (\"add\" or \"remove\").\n",
    "* If the operation is \"remove\":\n",
    "    * If the value exists in the set, remove the value from the set and display the updated set to the user.\n",
    "    * If the value does not exist in the set, display a user-friendly error message.\n",
    "* If the operation is \"add\":\n",
    "    * If the value exists in the set, display a user-friendly error message.\n",
    "    * If the value does not exist in the set, add the value to the set and display the updated set to the user.\n",
    "* Repeat until the user enters \"quit\" (uppercase or lowercase)."
   ]
  },
  {
   "cell_type": "code",
   "execution_count": 33,
   "metadata": {},
   "outputs": [
    {
     "name": "stdout",
     "output_type": "stream",
     "text": [
      "Current set is {'d', 'c', 'b', 'e', 'a'}, Please enter a value or enter 'quit' to stop: a\n",
      "Do you want to add or remove this value? (enter 'add' or 'remove'): add\n",
      "Value already exists\n",
      "Current set is {'d', 'c', 'b', 'e', 'a'}, Please enter a value or enter 'quit' to stop: f\n",
      "Do you want to add or remove this value? (enter 'add' or 'remove'): remove\n",
      "Value does not exist in the set\n",
      "Current set is {'d', 'c', 'b', 'e', 'a'}, Please enter a value or enter 'quit' to stop: f\n",
      "Do you want to add or remove this value? (enter 'add' or 'remove'): add\n",
      "Updated set: {'f', 'd', 'c', 'b', 'e', 'a'}\n",
      "Current set is {'f', 'd', 'c', 'b', 'e', 'a'}, Please enter a value or enter 'quit' to stop: a\n",
      "Do you want to add or remove this value? (enter 'add' or 'remove'): remove\n",
      "Updated set: {'f', 'd', 'c', 'b', 'e'}\n",
      "Current set is {'f', 'd', 'c', 'b', 'e'}, Please enter a value or enter 'quit' to stop: quit\n"
     ]
    }
   ],
   "source": [
    "mySet = {'a', 'b', 'c', 'd', 'e'}\n",
    "\n",
    "while True:\n",
    "    val = input(f\"Current set is {mySet}, Please enter a value or enter 'quit' to stop: \")\n",
    "    if val.lower() == 'quit' : break\n",
    "    op = input(\"Do you want to add or remove this value? (enter 'add' or 'remove'): \").lower()\n",
    "    if op == 'remove':\n",
    "        if val in mySet:\n",
    "            mySet.remove(val)\n",
    "            print(f\"Updated set: {mySet}\")            \n",
    "        else:\n",
    "            print(\"Value does not exist in the set\")\n",
    "    elif op == 'add':\n",
    "        if val in mySet:\n",
    "            print(\"Value already exists\")\n",
    "        else:\n",
    "            mySet.add(val)\n",
    "            print(f\"Updated set: {mySet}\")\n",
    "    else:\n",
    "        print(\"Invalid operation. Please try again\")"
   ]
  },
  {
   "cell_type": "code",
   "execution_count": null,
   "metadata": {},
   "outputs": [],
   "source": []
  }
 ],
 "metadata": {
  "kernelspec": {
   "display_name": "Python 3 (ipykernel)",
   "language": "python",
   "name": "python3"
  },
  "language_info": {
   "codemirror_mode": {
    "name": "ipython",
    "version": 3
   },
   "file_extension": ".py",
   "mimetype": "text/x-python",
   "name": "python",
   "nbconvert_exporter": "python",
   "pygments_lexer": "ipython3",
   "version": "3.9.12"
  }
 },
 "nbformat": 4,
 "nbformat_minor": 2
}
