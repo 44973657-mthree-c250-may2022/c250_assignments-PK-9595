{
 "cells": [
  {
   "cell_type": "code",
   "execution_count": 5,
   "id": "a17a709f",
   "metadata": {},
   "outputs": [
    {
     "name": "stdout",
     "output_type": "stream",
     "text": [
      "Please enter a number: 15\n",
      "0\n",
      "1\n",
      "2\n",
      "fizz\n",
      "4\n",
      "buzz\n",
      "fizz\n",
      "7\n",
      "8\n",
      "fizz\n",
      "buzz\n",
      "11\n",
      "fizz\n",
      "13\n",
      "14\n",
      "fizz buzz\n",
      "16\n",
      "17\n",
      "fizz\n",
      "19\n",
      "buzz\n",
      "fizz\n",
      "22\n",
      "23\n",
      "fizz\n",
      "buzz\n",
      "26\n",
      "fizz\n",
      "28\n",
      "29\n",
      "fizz buzz\n",
      "31\n",
      "32\n",
      "fizz\n",
      "TRADITION!\n"
     ]
    }
   ],
   "source": [
    "#Paul Chien, 25th May 2022\n",
    "\n",
    "num = int(input(\"Please enter a number: \"))\n",
    "print(\"0\")\n",
    "count=1\n",
    "replaced=0\n",
    "\n",
    "while replaced<num:\n",
    "    if count%15==0:\n",
    "        print(\"fizz buzz\")\n",
    "        replaced+=1\n",
    "    elif count%3==0:\n",
    "        print(\"fizz\")\n",
    "        replaced+=1\n",
    "    elif count%5==0:\n",
    "        print(\"buzz\")\n",
    "        replaced+=1\n",
    "    else:\n",
    "        print(count)\n",
    "    count+=1\n",
    "print(\"TRADITION!\")"
   ]
  },
  {
   "cell_type": "code",
   "execution_count": null,
   "id": "3c24af88",
   "metadata": {},
   "outputs": [],
   "source": []
  }
 ],
 "metadata": {
  "kernelspec": {
   "display_name": "Python 3 (ipykernel)",
   "language": "python",
   "name": "python3"
  },
  "language_info": {
   "codemirror_mode": {
    "name": "ipython",
    "version": 3
   },
   "file_extension": ".py",
   "mimetype": "text/x-python",
   "name": "python",
   "nbconvert_exporter": "python",
   "pygments_lexer": "ipython3",
   "version": "3.9.12"
  }
 },
 "nbformat": 4,
 "nbformat_minor": 5
}
