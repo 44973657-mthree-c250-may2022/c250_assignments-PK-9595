{
 "cells": [
  {
   "cell_type": "markdown",
   "metadata": {},
   "source": [
    "# Worksheet 2B - Searching Collections\n",
    "This worksheet corresponds to *Lesson 2B: Searching Collections* in the online course. Refer to that lesson as necessary to complete the practice activities here."
   ]
  },
  {
   "cell_type": "markdown",
   "metadata": {},
   "source": [
    "## Practice 1a\n",
    "Complete the script below so that it performs the following actions:\n",
    "* Iterate through the entire list.\n",
    "* Display only negative numbers from the list."
   ]
  },
  {
   "cell_type": "code",
   "execution_count": 1,
   "metadata": {},
   "outputs": [
    {
     "name": "stdout",
     "output_type": "stream",
     "text": [
      "-9\n",
      "-10\n",
      "-11\n",
      "-23\n"
     ]
    }
   ],
   "source": [
    "list_of_numbers = [0, 1, -9, -10, 3, 56, 45, -11, 35, 2, -23]\n",
    "\n",
    "for i in list_of_numbers:\n",
    "    if i<0:\n",
    "        print(i)"
   ]
  },
  {
   "cell_type": "markdown",
   "metadata": {},
   "source": [
    "## Practice 1b\n",
    "Let's make the code from Example 1 above more interactive.\n",
    "\n",
    "The code block below includes the same code presented in Example 1. Modify the code to include the following actions:\n",
    "\n",
    "1. Prompt the user for a name to look for.\n",
    "1. Check whether or not the name is in the list.\n",
    "    1. If the name is **not** in the list, print a statement to that effect and end the program.\n",
    "    1. If the name **is** in the list, print a statement to that effect and then print a separate statement for each instance of the search term in the list."
   ]
  },
  {
   "cell_type": "code",
   "execution_count": 10,
   "metadata": {},
   "outputs": [
    {
     "name": "stdout",
     "output_type": "stream",
     "text": [
      "Please input who you wish to search for: bob\n",
      "bob is nowhere to be found\n"
     ]
    }
   ],
   "source": [
    "list_of_names = [\"Kate\", \"Jennifer\", \"Mike\", \"Pete\", \"Alex\", \"Mike\"]\n",
    "search_term = input(\"Please input who you wish to search for: \")\n",
    "\n",
    "#check that the search term occurs at least once in the list\n",
    "if search_term in list_of_names:\n",
    "    print (search_term + \" appears at least once in the list.\")\n",
    "else:\n",
    "    print(f\"{search_term} is nowhere to be found\")\n",
    "    exit(0)\n",
    "#use the variable name to store each item in the list sequentially \n",
    "#and compare name to the search term\n",
    "#print a separate statement for each instance of the search term\n",
    "for name in list_of_names:\n",
    "    if name == search_term:\n",
    "        print(\"We found \" + search_term)"
   ]
  },
  {
   "cell_type": "markdown",
   "metadata": {},
   "source": [
    "## Practice 2\n",
    "Create a tuple that includes data of your choice, with at least two duplicate items.\n",
    "\n",
    "Create a script that searches the tuple for duplicate items and displays appropriate output each time the search terms are found."
   ]
  },
  {
   "cell_type": "code",
   "execution_count": 7,
   "metadata": {},
   "outputs": [
    {
     "name": "stdout",
     "output_type": "stream",
     "text": [
      "Duplicates are [1, 2]\n"
     ]
    }
   ],
   "source": [
    "myTuple = (1,1,1,2,2,3,12,5)\n",
    "log=[]\n",
    "dup=[]\n",
    "for item in myTuple:\n",
    "    if item in dup:\n",
    "        pass\n",
    "    elif item in log:\n",
    "        dup.append(item)\n",
    "    else:\n",
    "        log.append(item)\n",
    "print(f\"Duplicates are {dup}\")"
   ]
  },
  {
   "cell_type": "markdown",
   "metadata": {},
   "source": [
    "## Practice 3a\n",
    "Now let's try a customized search using a string.\n",
    "\n",
    "We'll start with a longer string, such as the first sentence from Edgar Allan Poe's story <a href=\"https://www.gutenberg.org/ebooks/932\" target=\"_blank\">The House of Usher</a>, as published in Project Gutenberg.\n",
    "\n",
    "Create a script that performs the following tasks:\n",
    "* Prompt the user for a single character.\n",
    "* Search the string for that character.\n",
    "    * If the character does not appear in the string, display a message to inform the user.\n",
    "    * If the string does appear in the string, print a statement for each instance of the character"
   ]
  },
  {
   "cell_type": "code",
   "execution_count": 1,
   "metadata": {},
   "outputs": [
    {
     "name": "stdout",
     "output_type": "stream",
     "text": [
      "Please select a character to search for:V\n",
      "There are no V's in the string\n"
     ]
    }
   ],
   "source": [
    "#create a string\n",
    "#because this string is very long, we use \\ at the end of each line \n",
    " #to continue the text to the next line\n",
    "#Python ignores the \\ character\n",
    "string_1 = \"During the whole of a dull, dark, and soundless day in the \\\n",
    "autumn of the year, when the clouds hung oppressively low in the \\\n",
    "heavens, I had been passing alone, on horseback, through a \\\n",
    "singularly dreary tract of country; and at length found myself, \\\n",
    "as the shades of the evening drew on, within view of the \\\n",
    "melancholy House of Usher.\"\n",
    "\n",
    "searchChar = input(\"Please select a character to search for:\")\n",
    "if searchChar not in string_1:\n",
    "    print(f\"There are no {searchChar}'s in the string\")\n",
    "    exit(0)\n",
    "for char in string_1:\n",
    "    if char == searchChar:\n",
    "        print(f\"One instance of {searchChar} found!\")\n",
    "\n",
    "\n",
    "# your code here"
   ]
  },
  {
   "cell_type": "markdown",
   "metadata": {},
   "source": [
    "## Practice 3b\n",
    "Refactor the code in the previous practice exercise so that the user can enter a character in uppercase or lowercase and Python will find each instance of that character, regardless of its case in the original text. \n",
    "\n",
    "For example, the user can enter either \"i\" or \"I\" and Python will find all instances of the letter \"i\" or \"I\" in the string in the same search."
   ]
  },
  {
   "cell_type": "code",
   "execution_count": 1,
   "metadata": {},
   "outputs": [
    {
     "name": "stdout",
     "output_type": "stream",
     "text": [
      "Please select a character to search for:V\n",
      "One instance of v found!\n",
      "One instance of v found!\n",
      "One instance of v found!\n",
      "One instance of v found!\n"
     ]
    }
   ],
   "source": [
    "string_1 = \"During the whole of a dull, dark, and soundless day in the \\\n",
    "autumn of the year, when the clouds hung oppressively low in the \\\n",
    "heavens, I had been passing alone, on horseback, through a \\\n",
    "singularly dreary tract of country; and at length found myself, \\\n",
    "as the shades of the evening drew on, within view of the \\\n",
    "melancholy House of Usher.\"\n",
    "\n",
    "searchChar = input(\"Please select a character to search for:\").lower()\n",
    "if searchChar not in string_1:\n",
    "    print(f\"There are no {searchChar} in the string\")\n",
    "    exit(0)\n",
    "for char in string_1:\n",
    "    if char.lower() == searchChar:\n",
    "        print(f\"One instance of {searchChar} found!\")"
   ]
  },
  {
   "cell_type": "markdown",
   "metadata": {},
   "source": [
    "## Search Challenge\n",
    "Now let's put together a bunch of individual concepts into a single script.\n",
    "\n",
    "The tuple below contains the abbreviations of all states in the USA.\n",
    "\n",
    "Using the values in the tuple as a starting point, create three new lists:\n",
    "- one list contains all states that start with N\n",
    "- one list contains all states that start with W\n",
    "- one list contains all states that start with A\n",
    "\n",
    "The lists should be generated by asking Python to look at the initial letter of each abbreviation and performing a set of instructions based on that letter. Do NOT use slicing techniques to extract multiple values at the same time.\n",
    "\n",
    "Print each list one time.\n",
    "\n",
    "**Tip**: This is a complex problem that requires several individual steps completed in the correct order. It can help to write out the steps first, using pseudocode or something similar, and then make sure the steps are in a logical order. Complete the code for the first list to make sure it works before attempting the other two lists."
   ]
  },
  {
   "cell_type": "code",
   "execution_count": 2,
   "metadata": {},
   "outputs": [
    {
     "name": "stdout",
     "output_type": "stream",
     "text": [
      "List of states that start with N: ['NE', 'NV', 'NH', 'NJ', 'NM', 'NY', 'NC', 'ND']\n",
      "List of states that start with W: ['WA', 'WV', 'WI', 'WY']\n",
      "List of states that start with A: ['AL', 'AK', 'AZ', 'AR']\n"
     ]
    }
   ],
   "source": [
    "states = (\"AL\", \"AK\", \"AZ\", \"AR\", \"CA\", \"CO\", \"CT\", \"DC\", \"FL\", \"GA\", \n",
    "          \"HI\", \"ID\", \"IL\", \"IN\", \"IA\", \"KS\", \"KY\", \"LA\", \"ME\", \"MD\", \n",
    "          \"MA\", \"MI\", \"MN\", \"MS\", \"MO\", \"MT\", \"NE\", \"NV\", \"NH\", \"NJ\", \n",
    "          \"NM\", \"NY\", \"NC\", \"ND\", \"OH\", \"OK\", \"OR\", \"PA\", \"RI\", \"SC\", \n",
    "          \"SD\", \"TN\", \"TX\", \"UT\", \"VT\", \"VA\", \"WA\", \"WV\", \"WI\", \"WY\")\n",
    "\n",
    "N_list=[]\n",
    "W_list=[]\n",
    "A_list=[]\n",
    "\n",
    "for state in states:\n",
    "    if state[0] == \"N\":\n",
    "        N_list.append(state)\n",
    "    elif state[0] == \"W\":\n",
    "        W_list.append(state)\n",
    "    elif state[0] == \"A\":\n",
    "        A_list.append(state)\n",
    "    else:\n",
    "        pass\n",
    "    \n",
    "print(f\"List of states that start with N: {N_list}\")\n",
    "print(f\"List of states that start with W: {W_list}\")\n",
    "print(f\"List of states that start with A: {A_list}\")"
   ]
  },
  {
   "cell_type": "code",
   "execution_count": null,
   "metadata": {},
   "outputs": [],
   "source": []
  }
 ],
 "metadata": {
  "kernelspec": {
   "display_name": "Python 3 (ipykernel)",
   "language": "python",
   "name": "python3"
  },
  "language_info": {
   "codemirror_mode": {
    "name": "ipython",
    "version": 3
   },
   "file_extension": ".py",
   "mimetype": "text/x-python",
   "name": "python",
   "nbconvert_exporter": "python",
   "pygments_lexer": "ipython3",
   "version": "3.9.12"
  }
 },
 "nbformat": 4,
 "nbformat_minor": 2
}
