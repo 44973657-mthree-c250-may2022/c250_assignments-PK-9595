{
 "cells": [
  {
   "cell_type": "markdown",
   "metadata": {},
   "source": [
    "# Lesson 2 Activities\n",
    "The activities in this page will allow you to demonstrate your ability to:\n",
    "\n",
    "* Create a Python script that uses a `for` loop to repeat an activity until a specific criterion is met.\n",
    "* Create a Python script that uses a `while` loop to repeat an activity as long as a specific criterion holds true."
   ]
  },
  {
   "cell_type": "markdown",
   "metadata": {},
   "source": [
    "## Activity 1\n",
    "Given the list `fruit_list`, write a script that iterates through the list and prints each item on a separate line."
   ]
  },
  {
   "cell_type": "code",
   "execution_count": 1,
   "metadata": {},
   "outputs": [
    {
     "name": "stdout",
     "output_type": "stream",
     "text": [
      "apple\n",
      "banana\n",
      "cherry\n",
      "gooseberry\n",
      "kumquat\n",
      "orange\n",
      "pineapple\n"
     ]
    }
   ],
   "source": [
    "fruit_list = [\"apple\", \"banana\", \"cherry\", \"gooseberry\", \"kumquat\", \"orange\", \"pineapple\"]\n",
    "\n",
    "for fruit in fruit_list:\n",
    "    print(fruit)"
   ]
  },
  {
   "cell_type": "markdown",
   "metadata": {},
   "source": [
    "## Activity 2\n",
    "Write a script that asks the user for a string and displays the characters of the string to the user, with each character on a new line.\n",
    "\n",
    "For example, if the input is `Hello`, the output should be:\n",
    "\n",
    "    H\n",
    "    e\n",
    "    l\n",
    "    l\n",
    "    o"
   ]
  },
  {
   "cell_type": "code",
   "execution_count": 3,
   "metadata": {},
   "outputs": [
    {
     "name": "stdout",
     "output_type": "stream",
     "text": [
      "Please enter a string: Goodbye\n",
      "G\n",
      "o\n",
      "o\n",
      "d\n",
      "b\n",
      "y\n",
      "e\n"
     ]
    }
   ],
   "source": [
    "for i in input(\"Please enter a string: \"):\n",
    "    print(i)"
   ]
  },
  {
   "cell_type": "markdown",
   "metadata": {},
   "source": [
    "## Activity 3\n",
    "Write a script that computes the length of a string without using the `len()` function."
   ]
  },
  {
   "cell_type": "code",
   "execution_count": 4,
   "metadata": {},
   "outputs": [
    {
     "name": "stdout",
     "output_type": "stream",
     "text": [
      "Please enter a string: hello world\n",
      "Length of string is 11\n"
     ]
    }
   ],
   "source": [
    "string = input(\"Please enter a string: \")\n",
    "i=0\n",
    "for char in string:\n",
    "    i+=1\n",
    "print(f\"Length of string is {i}\")"
   ]
  },
  {
   "cell_type": "markdown",
   "metadata": {},
   "source": [
    "## Activity 4\n",
    "Create a program that starts with a list of strings, identifies all the strings with more than two characters, stores the results in another list, and displays the new list.\n",
    "\n",
    "For example:\n",
    "\n",
    "    a = [\"a\", \"bc\", \"rye\", \"hello\", \"c\", \"\"]\n",
    "\n",
    "Output:\n",
    "\n",
    "    [\"rye\", \"hello\"]"
   ]
  },
  {
   "cell_type": "code",
   "execution_count": 5,
   "metadata": {},
   "outputs": [
    {
     "name": "stdout",
     "output_type": "stream",
     "text": [
      "['rye', 'hello']\n"
     ]
    }
   ],
   "source": [
    "ls = [\"a\", \"bc\", \"rye\", \"hello\", \"c\", \"\"]\n",
    "lsLong = []\n",
    "for string in ls:\n",
    "    if len(string)>2:\n",
    "        lsLong.append(string)\n",
    "print(lsLong)"
   ]
  },
  {
   "cell_type": "markdown",
   "metadata": {},
   "source": [
    "## Activity 5\n",
    "Write two scripts, each of which displays all numbers divisible by 50 between 100 and 1000 (inclusive).\n",
    "* Use the `range` function with `for` in one script.\n",
    "* Use `while` without `range` in the other script.\n",
    "\n",
    "Both scripts should have identical outputs."
   ]
  },
  {
   "cell_type": "code",
   "execution_count": 7,
   "metadata": {},
   "outputs": [
    {
     "name": "stdout",
     "output_type": "stream",
     "text": [
      "100\n",
      "150\n",
      "200\n",
      "250\n",
      "300\n",
      "350\n",
      "400\n",
      "450\n",
      "500\n",
      "550\n",
      "600\n",
      "650\n",
      "700\n",
      "750\n",
      "800\n",
      "850\n",
      "900\n",
      "950\n",
      "1000\n"
     ]
    }
   ],
   "source": [
    "# script 1: range\n",
    "for i in range(100,1001,50):\n",
    "    print(i)"
   ]
  },
  {
   "cell_type": "code",
   "execution_count": 9,
   "metadata": {},
   "outputs": [
    {
     "name": "stdout",
     "output_type": "stream",
     "text": [
      "100\n",
      "150\n",
      "200\n",
      "250\n",
      "300\n",
      "350\n",
      "400\n",
      "450\n",
      "500\n",
      "550\n",
      "600\n",
      "650\n",
      "700\n",
      "750\n",
      "800\n",
      "850\n",
      "900\n",
      "950\n",
      "1000\n"
     ]
    }
   ],
   "source": [
    "num = 100\n",
    "step = 50\n",
    "while num <= 1000 :\n",
    "    print(f\"{num}\")\n",
    "    num+=step"
   ]
  },
  {
   "cell_type": "markdown",
   "metadata": {},
   "source": [
    "## Activity 6\n",
    "Create a script that computes the sum of all numbers between 0 and 100."
   ]
  },
  {
   "cell_type": "code",
   "execution_count": 10,
   "metadata": {},
   "outputs": [
    {
     "name": "stdout",
     "output_type": "stream",
     "text": [
      "5050\n"
     ]
    }
   ],
   "source": [
    "numSum=0\n",
    "for i in range(101):\n",
    "    numSum+=i\n",
    "print(numSum)"
   ]
  },
  {
   "cell_type": "markdown",
   "metadata": {},
   "source": [
    "## Activity 7\n",
    "Create a script that computes the factorial of any given number."
   ]
  },
  {
   "cell_type": "code",
   "execution_count": 20,
   "metadata": {},
   "outputs": [
    {
     "name": "stdout",
     "output_type": "stream",
     "text": [
      "Please enter an integer: 30\n",
      "The factorial of 30 is 265252859812191058636308480000000\n"
     ]
    }
   ],
   "source": [
    "num = int(input(\"Please enter an integer: \"))\n",
    "fac=1\n",
    "for i in range(1,num+1):\n",
    "    fac*=i\n",
    "print(f\"The factorial of {num} is {fac}\")"
   ]
  },
  {
   "cell_type": "markdown",
   "metadata": {},
   "source": [
    "##  Activity 8\n",
    "Starting with the defined `fruit_list` in the code block below, update the script to perform the following tasks.\n",
    "\n",
    "1. Prompt the user to enter the name of a fruit.\n",
    "1. If the fruit is in `fruit_list`, display an appropriate message to the user and tell the user its index value in the list.\n",
    "1. If the fruit is not in `fruit_list`, display an appropriate message to the user and prompt them to try again.\n",
    "1. The script should repeat itself until the user enters a stop word at the prompt.\n",
    "\n",
    "**Tip:** It's always a good idea to tell the user how to end a loop!"
   ]
  },
  {
   "cell_type": "code",
   "execution_count": 26,
   "metadata": {},
   "outputs": [
    {
     "name": "stdout",
     "output_type": "stream",
     "text": [
      "Please enter the name of a fruit, type 'stop' if you wish to stop: chery\n",
      "chery cannot be found in the list\n",
      "Please enter the name of a fruit, type 'stop' if you wish to stop: cherry\n",
      "cherry is found in position 2 of the list\n",
      "Please enter the name of a fruit, type 'stop' if you wish to stop: apple\n",
      "apple is found in position 0 of the list\n",
      "Please enter the name of a fruit, type 'stop' if you wish to stop: stop\n"
     ]
    }
   ],
   "source": [
    "chosenFruit=input(\"Please enter the name of a fruit, type 'stop' if you wish to stop: \").lower()\n",
    "fruit_list = [\"apple\", \"banana\", \"cherry\", \"gooseberry\", \"kumquat\", \"orange\", \"pineapple\"]\n",
    "while chosenFruit != \"stop\":\n",
    "    if chosenFruit in fruit_list:\n",
    "        print(f\"{chosenFruit} is found in position {fruit_list.index(chosenFruit)} of the list\")\n",
    "    else:\n",
    "        print(f\"{chosenFruit} cannot be found in the list\")\n",
    "    chosenFruit=input(\"Please enter the name of a fruit, type 'stop' if you wish to stop: \").lower()\n",
    "# your code here"
   ]
  },
  {
   "cell_type": "markdown",
   "metadata": {},
   "source": [
    "## Activity 9\n",
    "Create a script that asks the user for a variable number of values and displays the sum of those values to the user. \n",
    "\t\n",
    "The program should prompt the user for values until the user enters the word \"quit\" (uppercase or lowercase), display the values used in the calculation, and then display the total of those values."
   ]
  },
  {
   "cell_type": "code",
   "execution_count": 30,
   "metadata": {},
   "outputs": [
    {
     "name": "stdout",
     "output_type": "stream",
     "text": [
      "Please enter a number: \n",
      "Please enter a number: \n",
      "Please enter a number: \n",
      "Please enter a number: \n",
      "Please enter a number: 11.2\n",
      "Please enter a number: 41.6123\n",
      "Please enter a number: quit\n",
      "The sum of all values in [11.2, 41.6123] is 52.81229999999999\n"
     ]
    }
   ],
   "source": [
    "valueList=[]\n",
    "while True:\n",
    "    value = input(\"Please enter a number: \")\n",
    "    if value.lower() == \"quit\":\n",
    "        break\n",
    "    elif len(value) == 0:\n",
    "        pass\n",
    "    else:\n",
    "        valueList.append(float(value))\n",
    "        \n",
    "total = sum(valueList)\n",
    "print(f\"The sum of all values in {valueList} is {total}\")"
   ]
  },
  {
   "cell_type": "markdown",
   "metadata": {},
   "source": [
    "## Activity 10\n",
    "Write a script that asks the user for an integer value and then displays the multiplication table of that input number from 1 through the integer squared."
   ]
  },
  {
   "cell_type": "code",
   "execution_count": 32,
   "metadata": {},
   "outputs": [
    {
     "name": "stdout",
     "output_type": "stream",
     "text": [
      "Please enter an integer: 9\n",
      "1 x 9 = 9\n",
      "2 x 9 = 18\n",
      "3 x 9 = 27\n",
      "4 x 9 = 36\n",
      "5 x 9 = 45\n",
      "6 x 9 = 54\n",
      "7 x 9 = 63\n",
      "8 x 9 = 72\n",
      "9 x 9 = 81\n"
     ]
    }
   ],
   "source": [
    "value = int(input(\"Please enter an integer: \"))\n",
    "for i in range(1,value+1):\n",
    "    print(f\"{i} x {value} = {value*i}\")"
   ]
  },
  {
   "cell_type": "markdown",
   "metadata": {},
   "source": [
    "## Activity 11\n",
    "Create a script that identifies all prime numbers between 0 and 100. "
   ]
  },
  {
   "cell_type": "code",
   "execution_count": 41,
   "metadata": {},
   "outputs": [
    {
     "name": "stdout",
     "output_type": "stream",
     "text": [
      "1 is a prime number\n",
      "2 is a prime number\n",
      "3 is a prime number\n",
      "5 is a prime number\n",
      "7 is a prime number\n",
      "11 is a prime number\n",
      "13 is a prime number\n",
      "17 is a prime number\n",
      "19 is a prime number\n",
      "23 is a prime number\n",
      "29 is a prime number\n",
      "31 is a prime number\n",
      "37 is a prime number\n",
      "41 is a prime number\n",
      "43 is a prime number\n",
      "47 is a prime number\n",
      "53 is a prime number\n",
      "59 is a prime number\n",
      "61 is a prime number\n",
      "67 is a prime number\n",
      "71 is a prime number\n",
      "73 is a prime number\n",
      "79 is a prime number\n",
      "83 is a prime number\n",
      "89 is a prime number\n",
      "97 is a prime number\n"
     ]
    }
   ],
   "source": [
    "for i in range(1,101):\n",
    "    for j in range(2,i):\n",
    "        if i%j == 0:\n",
    "            break\n",
    "    else:\n",
    "        print(f\"{i} is a prime number\")\n",
    "                "
   ]
  },
  {
   "cell_type": "markdown",
   "metadata": {},
   "source": [
    "## Activity 12\n",
    "Write a script that calculates the greatest common denominator between two numbers.\n",
    "\n",
    "For example, given the numbers 18 and 27, the greatest common denominator is 9."
   ]
  },
  {
   "cell_type": "code",
   "execution_count": 52,
   "metadata": {},
   "outputs": [
    {
     "name": "stdout",
     "output_type": "stream",
     "text": [
      "Enter 2 integers, with a spacing in between them: 472 18644\n",
      "The greatest common denominator of 472 and 18644 is 236\n"
     ]
    }
   ],
   "source": [
    "num1, num2 = [int(x) for x in input(\"Enter 2 integers, with a spacing in between them: \").split()]\n",
    "smaller = min([num1, num2])\n",
    "GCDguess=smaller\n",
    "\n",
    "while (num1%GCDguess != 0 or num2%GCDguess != 0):\n",
    "    GCDguess-=1\n",
    "    \n",
    "print(f\"The greatest common denominator of {num1} and {num2} is {GCDguess}\")"
   ]
  },
  {
   "cell_type": "markdown",
   "metadata": {},
   "source": [
    "## Activity 13\n",
    "Write a script that computes the frequency of each digit in a given integer.\n",
    "\n",
    "For example, if the input number is 334, the output should be:\n",
    "\n",
    "    3 occurs 2 times \n",
    "    4 occurs 1 time"
   ]
  },
  {
   "cell_type": "code",
   "execution_count": 56,
   "metadata": {},
   "outputs": [
    {
     "name": "stdout",
     "output_type": "stream",
     "text": [
      "Please input an integer: 5148354853\n",
      "1 occurs 1 time(s)\n",
      "3 occurs 2 time(s)\n",
      "4 occurs 2 time(s)\n",
      "5 occurs 3 time(s)\n",
      "8 occurs 2 time(s)\n"
     ]
    }
   ],
   "source": [
    "number = input(\"Please input an integer: \")\n",
    "countArr = [0]*10\n",
    "\n",
    "for digit in number:\n",
    "    countArr[int(digit)]+=1\n",
    "    \n",
    "for i in range(10):\n",
    "    if countArr[i]>0:\n",
    "        print(f\"{i} occurs {countArr[i]} time(s)\")\n"
   ]
  },
  {
   "cell_type": "markdown",
   "metadata": {},
   "source": [
    "## Activity 14\n",
    "\n",
    "Write a script that calculates the lowest common multiple of two given integers.\n",
    "\n",
    "For example, given the values 4 and 6, the lowest common multiple is 12."
   ]
  },
  {
   "cell_type": "code",
   "execution_count": 57,
   "metadata": {},
   "outputs": [
    {
     "name": "stdout",
     "output_type": "stream",
     "text": [
      "Please enter the first integer: 955\n",
      "Please enter the second integer: 6189\n",
      "The lowest common multiple of 955 and 6189 is 5910495.\n"
     ]
    }
   ],
   "source": [
    "num1 = int(input(\"Please enter the first integer: \"))\n",
    "num2 = int(input(\"Please enter the second integer: \"))\n",
    "LCMguess = max([num1,num2])\n",
    "\n",
    "while LCMguess%num1 != 0 or LCMguess%num2 != 0 :\n",
    "    LCMguess+=1\n",
    "    \n",
    "print(f\"The lowest common multiple of {num1} and {num2} is {LCMguess}.\")"
   ]
  },
  {
   "cell_type": "markdown",
   "metadata": {},
   "source": [
    "## Activity 15\n",
    "Write a script that determines if an input number can be expressed as the sum of two prime numbers. \n",
    "\n",
    "For example, the number `10` can be expressed as the sum of two prime numbers:\n",
    "* 10 = 3 + 7 : both prime numbers \n",
    "* 10 = 5 + 5 : both prime numbers \n",
    "\n",
    "However, the number `11` cannot be:\n",
    "* 11 = 1 + 10 : neither 1 nor 10 are prime numbers\n",
    "* 11 = 2 + 9 : 9 is not a prime number\n",
    "* 11 = 3 + 8 : 8 is not a prime number\n",
    "* 11 = 4 + 7 : 4 is not a prime number\n",
    "* 11 = 5 + 6 : 6 is not a prime number"
   ]
  },
  {
   "cell_type": "code",
   "execution_count": 3,
   "metadata": {},
   "outputs": [
    {
     "name": "stdout",
     "output_type": "stream",
     "text": [
      "Please enter an integer: 1238\n",
      "The number 1238 can be expressed as the sum of the two prime numbers 7 and 1231\n"
     ]
    }
   ],
   "source": [
    "def isPrime(num):\n",
    "    if num==1: return False\n",
    "    for i in range(2,num):\n",
    "        if num%i==0:\n",
    "            return False\n",
    "    return True\n",
    "\n",
    "number = int(input(\"Please enter an integer: \"))\n",
    "\n",
    "for i in range(2, number-1):\n",
    "    if isPrime(i) and isPrime(number-i):\n",
    "        print(f\"The number {number} can be expressed as the sum of the two prime numbers {i} and {number-i}\")\n",
    "        break\n",
    "else: \n",
    "    print(f\"The number {number} cannot be expressed as the sum of two prime numbers\")\n",
    "        "
   ]
  },
  {
   "cell_type": "code",
   "execution_count": null,
   "metadata": {},
   "outputs": [],
   "source": []
  }
 ],
 "metadata": {
  "kernelspec": {
   "display_name": "Python 3 (ipykernel)",
   "language": "python",
   "name": "python3"
  },
  "language_info": {
   "codemirror_mode": {
    "name": "ipython",
    "version": 3
   },
   "file_extension": ".py",
   "mimetype": "text/x-python",
   "name": "python",
   "nbconvert_exporter": "python",
   "pygments_lexer": "ipython3",
   "version": "3.9.12"
  }
 },
 "nbformat": 4,
 "nbformat_minor": 2
}
