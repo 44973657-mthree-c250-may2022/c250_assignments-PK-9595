{
 "cells": [
  {
   "cell_type": "markdown",
   "metadata": {},
   "source": [
    "# Worksheet 2D - While Loops\n",
    "This worksheet corresponds to *Lesson 2D: While Loops* in the online course. Reference that lesson as necessary to complete the practice exercises here. "
   ]
  },
  {
   "cell_type": "markdown",
   "metadata": {},
   "source": [
    "## Practice 1\n",
    "Update the following code to display integers backwards from 100 to 0. Both 100 and 0 should be included in the results."
   ]
  },
  {
   "cell_type": "code",
   "execution_count": 2,
   "metadata": {},
   "outputs": [
    {
     "name": "stdout",
     "output_type": "stream",
     "text": [
      "100\n",
      "99\n",
      "98\n",
      "97\n",
      "96\n",
      "95\n",
      "94\n",
      "93\n",
      "92\n",
      "91\n",
      "90\n",
      "89\n",
      "88\n",
      "87\n",
      "86\n",
      "85\n",
      "84\n",
      "83\n",
      "82\n",
      "81\n",
      "80\n",
      "79\n",
      "78\n",
      "77\n",
      "76\n",
      "75\n",
      "74\n",
      "73\n",
      "72\n",
      "71\n",
      "70\n",
      "69\n",
      "68\n",
      "67\n",
      "66\n",
      "65\n",
      "64\n",
      "63\n",
      "62\n",
      "61\n",
      "60\n",
      "59\n",
      "58\n",
      "57\n",
      "56\n",
      "55\n",
      "54\n",
      "53\n",
      "52\n",
      "51\n",
      "50\n",
      "49\n",
      "48\n",
      "47\n",
      "46\n",
      "45\n",
      "44\n",
      "43\n",
      "42\n",
      "41\n",
      "40\n",
      "39\n",
      "38\n",
      "37\n",
      "36\n",
      "35\n",
      "34\n",
      "33\n",
      "32\n",
      "31\n",
      "30\n",
      "29\n",
      "28\n",
      "27\n",
      "26\n",
      "25\n",
      "24\n",
      "23\n",
      "22\n",
      "21\n",
      "20\n",
      "19\n",
      "18\n",
      "17\n",
      "16\n",
      "15\n",
      "14\n",
      "13\n",
      "12\n",
      "11\n",
      "10\n",
      "9\n",
      "8\n",
      "7\n",
      "6\n",
      "5\n",
      "4\n",
      "3\n",
      "2\n",
      "1\n",
      "0\n"
     ]
    }
   ],
   "source": [
    "i = 100\n",
    "while ((i >= 0) == True):\n",
    "    print(i)\n",
    "    i = i - 1"
   ]
  },
  {
   "cell_type": "markdown",
   "metadata": {},
   "source": [
    "## Practice 2\n",
    "Let's create a script that accepts input from the user and prompts the user to enter a specific value. \n",
    "\n",
    "If the user enters the correct value, the program stops.\n",
    "\n",
    "If the user does not enter the correct value, the program prompts the user to enter the value again, and stops only when the user enters the correct value.\n",
    "\n",
    "We've added the first line of code for you. Use a `while` loop to complete the script. Test the script using both correct and incorrect input values.\n",
    "\n",
    "**Tip:** Remember that Python is always case-sensitive by default."
   ]
  },
  {
   "cell_type": "code",
   "execution_count": 5,
   "metadata": {},
   "outputs": [
    {
     "name": "stdout",
     "output_type": "stream",
     "text": [
      "Enter the phrase 'Hello, World': hi world\n",
      "That is incorrect, please enter the phrase 'Hello, World': harro warudo\n",
      "That is incorrect, please enter the phrase 'Hello, World': ni hao\n",
      "That is incorrect, please enter the phrase 'Hello, World': hello, world\n",
      "That is incorrect, please enter the phrase 'Hello, World': Hello, World\n",
      "Thank you\n"
     ]
    }
   ],
   "source": [
    "spec_val = \"Hello, World\"\n",
    "input_value = input(f\"Enter the phrase '{spec_val}': \")\n",
    "\n",
    "while spec_val != input_value:\n",
    "    input_value = input(f\"That is incorrect, please enter the phrase '{spec_val}': \")\n",
    "print(\"Thank you\")\n",
    "# your code here"
   ]
  },
  {
   "cell_type": "markdown",
   "metadata": {},
   "source": [
    "## Practice 3\n",
    "Change the following code to use a `while` loop instead of a `for` loop. The output should be the same in both versions.  "
   ]
  },
  {
   "cell_type": "code",
   "execution_count": 11,
   "metadata": {},
   "outputs": [
    {
     "name": "stdout",
     "output_type": "stream",
     "text": [
      "John\n",
      "Smith\n",
      "123 East Main Street\n",
      "Boston\n",
      "Junior Software Developer\n"
     ]
    }
   ],
   "source": [
    "info = [\"John\", \"Smith\", \"123 East Main Street\", \"Boston\", \"Junior Software Developer\"]\n",
    "\n",
    "i=0\n",
    "while i<len(info):\n",
    "    print(info[i])\n",
    "    i+=1"
   ]
  },
  {
   "cell_type": "code",
   "execution_count": null,
   "metadata": {},
   "outputs": [],
   "source": []
  }
 ],
 "metadata": {
  "kernelspec": {
   "display_name": "Python 3 (ipykernel)",
   "language": "python",
   "name": "python3"
  },
  "language_info": {
   "codemirror_mode": {
    "name": "ipython",
    "version": 3
   },
   "file_extension": ".py",
   "mimetype": "text/x-python",
   "name": "python",
   "nbconvert_exporter": "python",
   "pygments_lexer": "ipython3",
   "version": "3.9.12"
  }
 },
 "nbformat": 4,
 "nbformat_minor": 2
}
