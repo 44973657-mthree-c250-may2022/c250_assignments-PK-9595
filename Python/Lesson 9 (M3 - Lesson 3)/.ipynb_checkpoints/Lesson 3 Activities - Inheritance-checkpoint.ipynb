{
 "cells": [
  {
   "cell_type": "markdown",
   "metadata": {},
   "source": [
    "# Lesson 3 Activities: Inheritance\n",
    "These activities will allow you to demonstrate your ability to:\n",
    "* Create new classes that inherit the attributes and methods of an existing class.\n",
    "* Define inherited classes that have different properties than their parent classes.\n",
    "* Use overriding to replace a property in a parent class with a property in an inherited class."
   ]
  },
  {
   "cell_type": "markdown",
   "metadata": {},
   "source": [
    "## Activity 0\n",
    "Before beginning, create a class `Noun` to use as the starting point for the activities in this section. The `Noun` class can be anything you wish, as long as it meets the following criteria:\n",
    "\n",
    "* Do not use people or animals.\n",
    "* The category must be broad enough to include different examples of the category.\n",
    "* It must represent a real-life object.\n",
    "\n",
    "Include at least three attributes that are common to most (if not all) instances of the `Noun`. Use appropriate naming conventions. If you created a `Noun` class for an earlier activity in this course, you are welcome to use it for the activities in this page, or you can create a new one.\n",
    "\n",
    "Implement the appropriate `__init__` and `display` methods to create and display objects respectively."
   ]
  },
  {
   "cell_type": "code",
   "execution_count": 1,
   "metadata": {},
   "outputs": [],
   "source": [
    "# your code here"
   ]
  },
  {
   "cell_type": "markdown",
   "metadata": {},
   "source": [
    "## Activity 1\n",
    "Use inheritance to create another class that will inherit from the `Noun` class. Create two objects using the new class and display each object's information using the `display` method.\n",
    "\n",
    "As an example from this lesson, we started with an `Animal` class, created a `Mammal` class that inherits from `Animal`, and then created two `Mammal` objects. You will need to identify an appropriate class based on your own `Noun` class as well as appropriate objects that represent the inherited class."
   ]
  },
  {
   "cell_type": "code",
   "execution_count": 1,
   "metadata": {},
   "outputs": [],
   "source": [
    "# your code here"
   ]
  },
  {
   "cell_type": "markdown",
   "metadata": {},
   "source": [
    "## Activity 2\n",
    "Add at least two attributes to the new class created in the previous activity. These attributes should be different from the attributes in the original `Noun` class and specific to the new class.\n",
    "\n",
    "> As an example from the lesson, the Animal class included the attributes of name and place. The Mammal class that inherits from the Animal class would include mammal-specific attributes, such as gender and fur length.\n",
    "\n",
    "Override the `__init__` and `display` methods to display the new attributes, and then create at least two new objects based on the inherited class and display them with the class attributes."
   ]
  },
  {
   "cell_type": "code",
   "execution_count": 3,
   "metadata": {},
   "outputs": [],
   "source": [
    "# your code here"
   ]
  },
  {
   "cell_type": "markdown",
   "metadata": {},
   "source": [
    "## Activity 3\n",
    "Create a second and a third class that inherit from the `Noun` class you started with. \n",
    "* Include at least three class-specific attributes for each class.\n",
    "\n",
    "For each of the new classes, override the `__init__` and `display` methods to display the new attributes and then create at least two new objects based on the inherited class and display them with the class attributes."
   ]
  },
  {
   "cell_type": "code",
   "execution_count": 4,
   "metadata": {},
   "outputs": [],
   "source": [
    "# your code here"
   ]
  },
  {
   "cell_type": "markdown",
   "metadata": {},
   "source": [
    "## Activity 4\n",
    "Using the three inherited classes you have already created, use the `__init__` method of the `Noun` class to set the values of the original attributes defined in the `Noun` class.\n",
    "\n",
    "Create two objects for each of the three inherited classes and display all attributes, including attributes from the original `Noun` class."
   ]
  },
  {
   "cell_type": "code",
   "execution_count": 5,
   "metadata": {},
   "outputs": [],
   "source": [
    "# your code here"
   ]
  },
  {
   "cell_type": "markdown",
   "metadata": {},
   "source": [
    "## Activity 5\n",
    "Create a class that inherits from your initial inherited class. Include at least one attribute specific to this class.\n",
    "\n",
    "Create two objects based on this class and display all attributes for each object.\n",
    "\n",
    "> As an example from the lesson, we started with an `Animal` class and then created a `Mammal` class that inherits from `Animal`. We could have also created additional classes that inherit from `Mammal`, such as `Dog` and `Cat`, which would have their own class-specific attributes. "
   ]
  },
  {
   "cell_type": "code",
   "execution_count": 6,
   "metadata": {},
   "outputs": [],
   "source": [
    "# your code here"
   ]
  },
  {
   "cell_type": "markdown",
   "metadata": {},
   "source": [
    "## Activity 6\n",
    "Create another class that inherits from the class created for the previous activity. For the new class, create at least one class-specific attribute and one object based on the class.\n",
    "\n",
    "Use `isinstance()` to verify that the new object is an instance of each of the parent classes of the new class."
   ]
  },
  {
   "cell_type": "code",
   "execution_count": null,
   "metadata": {},
   "outputs": [],
   "source": [
    "# your code here"
   ]
  }
 ],
 "metadata": {
  "kernelspec": {
   "display_name": "Python 3 (ipykernel)",
   "language": "python",
   "name": "python3"
  },
  "language_info": {
   "codemirror_mode": {
    "name": "ipython",
    "version": 3
   },
   "file_extension": ".py",
   "mimetype": "text/x-python",
   "name": "python",
   "nbconvert_exporter": "python",
   "pygments_lexer": "ipython3",
   "version": "3.9.12"
  }
 },
 "nbformat": 4,
 "nbformat_minor": 2
}
