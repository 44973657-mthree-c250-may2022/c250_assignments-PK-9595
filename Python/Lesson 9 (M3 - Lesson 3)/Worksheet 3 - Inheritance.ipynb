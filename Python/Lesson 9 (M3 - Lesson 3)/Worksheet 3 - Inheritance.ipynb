{
 "cells": [
  {
   "cell_type": "markdown",
   "metadata": {},
   "source": [
    "# Inheritance\n",
    "This worksheet corresponds to *Lesson 3: Inheritance* in the online course. Refer to that lesson as necessary to complete these practice activities."
   ]
  },
  {
   "cell_type": "markdown",
   "metadata": {},
   "source": [
    "## Practice 1\n",
    "Create an `Animal` class that includes two string attributes: `name` and `location`. Implement the appropriate `__init__` and `display` methods to create and display objects respectively. \n",
    "\n",
    "Using inheritance, create another class called `Mammal` that inherits from the `Animal` class. Create two `Mammal` objects and display each object's information using the `display` method. "
   ]
  },
  {
   "cell_type": "code",
   "execution_count": 5,
   "metadata": {},
   "outputs": [
    {
     "name": "stdout",
     "output_type": "stream",
     "text": [
      "pig can be found in: farm\n",
      "cow can be found in: farm\n"
     ]
    }
   ],
   "source": [
    "class Animal():\n",
    "    def __init__(self,name,location):\n",
    "        self.name = name\n",
    "        self.location = location\n",
    "    def display(self):\n",
    "        print(f\"{self.name} can be found in: {self.location}\")\n",
    "        \n",
    "class Mammal(Animal):\n",
    "    pass\n",
    "    \n",
    "pig=Mammal('pig', 'farm')\n",
    "cow=Mammal('cow','farm')\n",
    "pig.display()\n",
    "cow.display()"
   ]
  },
  {
   "cell_type": "markdown",
   "metadata": {},
   "source": [
    "## Practice 2\n",
    "Create an `Animal` class that includes two string attributes: `name` and `location`. Implement the appropriate `__init__` and `display` methods to create and display objects. \n",
    "\n",
    "Using inheritance, create another class called `Mammal` that inherits from the `Animal` class. Add at least one more attribute that is specific to the `Mammal` class and is not included in the `Animal` class.\n",
    "\n",
    "Create two `Mammal` objects and display them. "
   ]
  },
  {
   "cell_type": "code",
   "execution_count": 13,
   "metadata": {},
   "outputs": [
    {
     "name": "stdout",
     "output_type": "stream",
     "text": [
      "pig can be found in: farm\n",
      " it is True that it has hair\n",
      "cow can be found in: farm\n",
      " it is True that it has hair\n"
     ]
    }
   ],
   "source": [
    "class Animal():\n",
    "    def __init__(self,name,location):\n",
    "        self.name = name\n",
    "        self.location = location\n",
    "    def display(self):\n",
    "        print(f\"{self.name} can be found in: {self.location}\")\n",
    "        return ''\n",
    "        \n",
    "class Mammal(Animal):\n",
    "    hasHair=True\n",
    "    \n",
    "pig=Mammal('pig', 'farm')\n",
    "cow=Mammal('cow','farm')\n",
    "print(f\"{pig.display()}\", f\"it is {pig.hasHair} that it has hair\")\n",
    "print(f\"{cow.display()}\", f\"it is {cow.hasHair} that it has hair\")"
   ]
  },
  {
   "cell_type": "markdown",
   "metadata": {},
   "source": [
    "## Practice 3\n",
    "Create a class `Animal` that includes two string attributes: `name` and `location`. Implement the appropriate `__init__` and `display` methods to create and display objects. \n",
    "\n",
    "Use inheritance to create another class called `Mammal` that inherits from the `Animal` class. \n",
    "* Add one more attribute specific to the `Mammal` class.\n",
    "* Override the `display` method to display the newly-added attribute of the `Mammal` class. \n",
    "* Create two `Mammal` objects and display them. \n",
    "\n",
    "Create another class called `Bird` that also inherits from the `Animal` class. \n",
    "* Add one more attribute that is specific to the `Bird` class.\n",
    "* Override the `display` method to display the new attribute of the `Bird` class. \n",
    "* Create two `Bird` objects and display them. \n",
    "\n",
    "Create another class called `Reptile` that inherits from the `Animal` class. \n",
    "* Add one more attribute specific to the `Reptile` class.\n",
    "* Override the `display` method to display the new attribute of the `Reptile` class. \n",
    "* Create two `Reptile` objects and display them."
   ]
  },
  {
   "cell_type": "code",
   "execution_count": 16,
   "metadata": {},
   "outputs": [
    {
     "name": "stdout",
     "output_type": "stream",
     "text": [
      "I am a mammal\n",
      "I am a bird\n"
     ]
    }
   ],
   "source": [
    "class Animal():\n",
    "    \n",
    "    def __init__(self,name,location):\n",
    "        self.name = name\n",
    "        self.location = location\n",
    "    def display(self):\n",
    "        print(f\"{self.name} can be found in: {self.location}\")\n",
    "\n",
    "        \n",
    "class Mammal(Animal):\n",
    "    exterior = \"hair\"\n",
    "    def display(self):\n",
    "        print(\"I am a mammal\")\n",
    "        \n",
    "class Bird(Animal):\n",
    "    exterior = \"feathers\"\n",
    "    def display(self):\n",
    "        print(\"I am a bird\")\n",
    "        \n",
    "dog = Mammal('dog','streets')\n",
    "dog.display()\n",
    "falcon = Bird('falcon','sky')\n",
    "falcon.display()"
   ]
  },
  {
   "cell_type": "markdown",
   "metadata": {},
   "source": [
    "## Practice 4\n",
    "Create a class `Animal` that includes two string attributes: `name` and `location`. Implement the appropriate `__init__` and `display` methods to create and display objects respectively. \n",
    "\n",
    "Use inheritance to create another class called `Mammal` that inherits from the `Animal` class. \n",
    "* Add one more attribute specific to the `Mammal` class.\n",
    "* Override the `__init__` and `display` methods to display the new attribute of the `Mammal` class. \n",
    "* Create two `Mammal` objects and display them. \n",
    "\n",
    "Create another class called `Bird` that also inherits from the `Animal` class. \n",
    "* Add one more attribute specific to the `Bird` class.\n",
    "* Override the `__init__` and `display` methods to display the new attribute of the `Bird` class. \n",
    "* Create two `Bird` objects and display them. \n",
    "\n",
    "Create another class called `Reptile` that inherits from the `Animal` class. \n",
    "* Add one more attribute specific to the `Reptile` class.\n",
    "* Override the `__init__` and `display` methods to display the new attribute of the `Reptile` class. \n",
    "* Create two `Reptile` objects and display them."
   ]
  },
  {
   "cell_type": "code",
   "execution_count": 21,
   "metadata": {},
   "outputs": [
    {
     "name": "stdout",
     "output_type": "stream",
     "text": [
      "{'name': 'dog', 'height': 10, 'weight': 15}\n"
     ]
    }
   ],
   "source": [
    "class Animal():  \n",
    "    def __init__(self,name,location):\n",
    "        self.name = name\n",
    "        self.location = location\n",
    "    def display(self):\n",
    "        print(f\"{self.name} can be found in: {self.location}\")\n",
    "        \n",
    "class Mammal(Animal):\n",
    "    exterior = \"hair\"\n",
    "    def __init__(self, name, height, weight):\n",
    "        self.name = name\n",
    "        self.height = height\n",
    "        self.weight = weight\n",
    "    def display(self):\n",
    "        print(self.__dict__)\n",
    "        \n",
    "dog = Mammal('dog', 10, 15)\n",
    "dog.display()"
   ]
  },
  {
   "cell_type": "markdown",
   "metadata": {},
   "source": [
    "## Practice 5\n",
    "Create a class Animal that includes two string attributes: name and location. Implement the appropriate `__init__` and display method, to create and display objects respectively. \n",
    "\n",
    "Use inheritance to create another class called Mammal that will inherit from the Animal class. \n",
    "* Add one more attribute specific to the Mammal class.\n",
    "* Override the `__init__` and display methods to display the new added attribute of the mammal class. Use the `__init__` method of the parent class (Animal) to set  the values of the name and location attributes. \n",
    "* Create two mammal objects and display them. \n",
    "\n",
    "Create another class called Bird that also inherits from the Animal class. \n",
    "* Add one more attribute that specific to the bird class.\n",
    "* Override the `__init__` and display methods to display the new added attribute of the bird class. Use the `__init__` method of the parent class (Animal) to set  the values of the name and location attributes. \n",
    "* Create two bird objects and display them. \n",
    "\n",
    "Create another class called Reptile that inherits from the animal class. \n",
    "* Add one more attribute that specific to the reptile class.\n",
    "* Override the `__init__` and display methods to display the new added attribute of the reptile class. Use the `__init__` method of the parent class (Animal) to set  the values of the name and location attributes. \n",
    "* Create two reptile objects and display them"
   ]
  },
  {
   "cell_type": "code",
   "execution_count": 30,
   "metadata": {},
   "outputs": [
    {
     "name": "stdout",
     "output_type": "stream",
     "text": [
      "dog can be found in: streets\n",
      "dog is covered in hair\n"
     ]
    }
   ],
   "source": [
    "class Animal():  \n",
    "    name=None\n",
    "    location=None\n",
    "    def __init__(self,name,location):\n",
    "        self.name = name\n",
    "        self.location = location\n",
    "    def display(self):\n",
    "        print(f\"{self.name} can be found in: {self.location}\")\n",
    "        \n",
    "class Mammal(Animal):\n",
    "    exterior = None\n",
    "    def __init__(self, name, location, exterior):\n",
    "        Animal.__init__(self, name,location)\n",
    "        self.exterior=exterior\n",
    "    def display(self):\n",
    "        Animal.display(self)\n",
    "        print(f\"{self.name} is covered in {self.exterior}\")\n",
    "        \n",
    "class Bird(Animal):\n",
    "    numClaws=None\n",
    "        \n",
    "dog = Mammal('dog','streets','hair')\n",
    "dog.display()\n"
   ]
  },
  {
   "cell_type": "markdown",
   "metadata": {},
   "source": [
    "## Practice 6\n",
    "Change the code below as follows:\n",
    "* Add an attribute to the `Director` class called `team`. The team represents the employees that the director manages. The `team` attribute should be a list of `Employee` objects. \n",
    "    * Implement the `add_employee` method, which takes as input an `Employee` object and adds it to the `team` object.\n",
    "    * Implement the `display` method of the `Director` class to display the information about the director and the list of the employees that the director manages.\n",
    "\n",
    "* Create another class called `HourlyEmployee` that inherits from `Employee`.\n",
    "    * Add one attribute to the `HourlyEmployee` class called `hourly_rate`, which represents the hourly pay rate for the hourly employee. <br>\n",
    "    * Implement the  `__init__`  method and `display` methods for the `HourlyEmployee` class.\n",
    "\n",
    "After you make these changes, verify that the code works by making sure it can display the attributes of the `Director` object using the `display` method. "
   ]
  },
  {
   "cell_type": "code",
   "execution_count": 57,
   "metadata": {
    "scrolled": true
   },
   "outputs": [
    {
     "name": "stdout",
     "output_type": "stream",
     "text": [
      "Employee ID: E24523525\n",
      "Employee First Name: Haythem\n",
      "Employee Last Name: Balti\n",
      "\n",
      "Employees in Haythem's team: --------------------\n",
      "Employee ID: E4746456456\n",
      "Employee First Name: Mark\n",
      "Employee Last Name: Smith\n",
      "\n",
      "Employee ID: E47464578978\n",
      "Employee First Name: Mary\n",
      "Employee Last Name: Lang\n",
      "Hourly pay is: $2\n",
      "\n"
     ]
    }
   ],
   "source": [
    "class Person:\n",
    "    first_name=\"\" \n",
    "    last_name=\"\" \n",
    "    def __init__(self,fname,lname): \n",
    "        self.first_name = fname\n",
    "        self.last_name = lname\n",
    "    def display(self): \n",
    "        print(\"Person First Name: \" + self.first_name)\n",
    "        print(\"Person Last Name: \" + self.last_name)\n",
    "        \n",
    "        \n",
    "class Employee(Person):\n",
    "    employee_id=None\n",
    "    def __init__(self,emp_id,fname,lname):\n",
    "        Person.__init__(self,fname,lname) \n",
    "        self.employee_id =emp_id\n",
    "    def display(self):\n",
    "        print(\"Employee ID: \" + self.employee_id)\n",
    "        print(\"Employee First Name: \" + self.first_name)\n",
    "        print(\"Employee Last Name: \" + self.last_name)\n",
    "\n",
    "        \n",
    "class Director(Employee):\n",
    "    director_level=None\n",
    "    team = ''\n",
    "    def __init__(self,emp_id,fname,lname,d_level):\n",
    "        # do not change this code\n",
    "        Employee.__init__(self,emp_id,fname,lname)\n",
    "        self.director_level = d_level\n",
    "        self.team = list()\n",
    "    def display(self):\n",
    "        Employee.display(self)\n",
    "        print(f\"\\nEmployees in {self.first_name}'s team: --------------------\")\n",
    "        for i in self.team:\n",
    "            i.display()\n",
    "            print('')\n",
    "\n",
    "    def add_employee(self,emp):\n",
    "        self.team.append(emp)\n",
    "    \n",
    "    \n",
    "class HourlyEmployee(Employee):\n",
    "    hourly_rate = '$2'\n",
    "    def __init__(self,emp_id,fname,lname):\n",
    "        Employee.__init__(self,emp_id,fname,lname)\n",
    "    def display(self):\n",
    "        Employee.display(self)\n",
    "        print(f\"Hourly pay is: {self.hourly_rate}\")\n",
    "\n",
    "\n",
    "\n",
    "\n",
    "# DO NOT CHANGE THIS CODE \n",
    "d1 = Director(\"E24523525\",\"Haythem\",\"Balti\",\"D-LEVEL-1\")\n",
    "\n",
    "\n",
    "# create first employee object \n",
    "e1 = Employee(\"E4746456456\",\"Mark\",\"Smith\")\n",
    "# add employee e1 to the team attribute of the Director class \n",
    "d1.add_employee(e1)\n",
    "# create second hourlyemployee object \n",
    "e2 = HourlyEmployee(\"E47464578978\",\"Mary\",\"Lang\")\n",
    "# add hourly employee e2 to the team attribute of the Director class \n",
    "d1.add_employee(e2)\n",
    "\n",
    "\n",
    "d1.display()\n"
   ]
  },
  {
   "cell_type": "markdown",
   "metadata": {},
   "source": [
    "## Practice 7\n",
    "Implement the classes below as follows:\n",
    "* Implement the `__init__` and `display` methods of the `Asset` class.\n",
    "* Next, leverage the `__init__` and `display` methods from the `Asset` class to create the following:\n",
    "    * Implement the `__init__` and `display` methods of the `Stock` class. \n",
    "    * Implement the `__init__` and `display` methods of the `Bond` class. \n",
    "    * Implement the `__init__` and `display` methods of the `MutualFund` class. \n",
    "* Create two objects from each of the `Stock`, `Bond`, and `MutualFund` classes. Use the `display` method to display the contents of each object.  "
   ]
  },
  {
   "cell_type": "code",
   "execution_count": 60,
   "metadata": {},
   "outputs": [
    {
     "name": "stdout",
     "output_type": "stream",
     "text": [
      "\n",
      "symbol: ABC\n",
      "price: 2\n",
      "dscription: this is a stock :) \n",
      "Company name: ABC PTE LTD\n",
      "\n",
      "symbol: EFG\n",
      "price: 2\n",
      "dscription: this is a bond :) :) \n",
      "Interest rate: 0.05\n",
      "\n",
      "symbol: XYZ\n",
      "price: 3.8\n",
      "dscription: this is a mutual fund :) :) :) \n",
      "Fund Manager: bob\n"
     ]
    }
   ],
   "source": [
    "class Asset: \n",
    "    symbol=None\n",
    "    price=None\n",
    "    description=None\n",
    "    def __init__(self,sym,pce,desc):\n",
    "        self.symbol=sym\n",
    "        self.price=pce\n",
    "        self.description=desc\n",
    "    def display(self):\n",
    "        print(f'''\n",
    "symbol: {self.symbol}\n",
    "price: {self.price}\n",
    "dscription: {self.description}''')\n",
    "    \n",
    "class Stock(Asset):\n",
    "    company_name = None\n",
    "    def __init__(self,sym,pce,desc,compName):\n",
    "        Asset.__init__(self,sym,pce,desc)\n",
    "        self.company_name=compName\n",
    "    def display(self):\n",
    "        Asset.display(self)\n",
    "        print(\"Company name:\", self.company_name)\n",
    "class Bond(Asset):\n",
    "    interest_rate=None\n",
    "    def __init__(self,sym,pce,desc,intr):\n",
    "        Asset.__init__(self,sym,pce,desc)\n",
    "        self.interest_rate=intr\n",
    "    def display(self):\n",
    "        Asset.display(self)\n",
    "        print(\"Interest rate:\", self.interest_rate)\n",
    "class MutualFund(Asset):\n",
    "    fund_manager=None\n",
    "    def __init__(self,sym,pce,desc,mgr):\n",
    "        Asset.__init__(self,sym,pce,desc)\n",
    "        self.fund_manager=mgr\n",
    "    def display(self):\n",
    "        Asset.display(self)\n",
    "        print(\"Fund Manager:\", self.fund_manager)\n",
    "        \n",
    "abc = Stock(\"ABC\",2, \"this is a stock :) \", \"ABC PTE LTD\")\n",
    "efg = Bond(\"EFG\",2, \"this is a bond :) :) \", 0.05)\n",
    "xyz = MutualFund(\"XYZ\",3.8,\"this is a mutual fund :) :) :) \",\"bob\")\n",
    "abc.display()\n",
    "efg.display()\n",
    "xyz.display()"
   ]
  },
  {
   "cell_type": "code",
   "execution_count": null,
   "metadata": {},
   "outputs": [],
   "source": []
  }
 ],
 "metadata": {
  "kernelspec": {
   "display_name": "Python 3 (ipykernel)",
   "language": "python",
   "name": "python3"
  },
  "language_info": {
   "codemirror_mode": {
    "name": "ipython",
    "version": 3
   },
   "file_extension": ".py",
   "mimetype": "text/x-python",
   "name": "python",
   "nbconvert_exporter": "python",
   "pygments_lexer": "ipython3",
   "version": "3.9.12"
  }
 },
 "nbformat": 4,
 "nbformat_minor": 2
}
