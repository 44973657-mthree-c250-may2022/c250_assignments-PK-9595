{
 "cells": [
  {
   "cell_type": "markdown",
   "metadata": {},
   "source": [
    "# Worksheet: Python Syntax\n",
    "This worksheet includes the practice activities for *Lesson 1A: Python Syntax* in the online course. Refer to that lesson as necessary to complete these activities."
   ]
  },
  {
   "cell_type": "markdown",
   "metadata": {},
   "source": [
    "## Practice 1a\n",
    "Experiment with the `print` command by changing one or both of the statements below and adding at least one more print statement. \n",
    "* Click in the code cell above and edit the existing code. \n",
    "* Run the code using the Run Cell command in the toolbar."
   ]
  },
  {
   "cell_type": "code",
   "execution_count": 1,
   "metadata": {},
   "outputs": [
    {
     "name": "stdout",
     "output_type": "stream",
     "text": [
      "Hello, world!\n",
      "How are you doing?\n"
     ]
    }
   ],
   "source": [
    "print(\"Hello, world!\") \n",
    "print(\"How are you doing?\")"
   ]
  },
  {
   "cell_type": "markdown",
   "metadata": {},
   "source": [
    "## Practice 1b\n",
    "Fix the code below using what you learned in Concept 1."
   ]
  },
  {
   "cell_type": "code",
   "execution_count": 2,
   "metadata": {},
   "outputs": [
    {
     "name": "stdout",
     "output_type": "stream",
     "text": [
      "Welcome to our store.\n",
      "How can I help you?\n"
     ]
    }
   ],
   "source": [
    "print(\"Welcome to our store.\");print(\"How can I help you?\")"
   ]
  },
  {
   "cell_type": "markdown",
   "metadata": {},
   "source": [
    "## Practice 2\n",
    "Display a message that includes your name and your favorite hobby in two different instructions separated by a semicolon. What happens if you write the two `print` commands in the same line?\n",
    "* Enter your code in the box below.\n",
    "* Use the Run Cell command in the toolbar above to see the output."
   ]
  },
  {
   "cell_type": "code",
   "execution_count": 3,
   "metadata": {},
   "outputs": [
    {
     "name": "stdout",
     "output_type": "stream",
     "text": [
      "My name is Paul\n",
      "My hobby is playing volleyball\n"
     ]
    }
   ],
   "source": [
    "print(\"My name is Paul\"); print(\"My hobby is playing volleyball\")"
   ]
  },
  {
   "cell_type": "markdown",
   "metadata": {},
   "source": [
    "## Practice 3\n",
    "Fix the following code, keeping the instructions on one line."
   ]
  },
  {
   "cell_type": "code",
   "execution_count": 4,
   "metadata": {},
   "outputs": [
    {
     "name": "stdout",
     "output_type": "stream",
     "text": [
      "Welcome to our store.\n",
      "How can I help you?\n"
     ]
    }
   ],
   "source": [
    "print(\"Welcome to our store.\");print(\"How can I help you?\")"
   ]
  },
  {
   "cell_type": "markdown",
   "metadata": {},
   "source": [
    "## Practice 4\n",
    "Fix the following code, keeping the instruction on four separate lines."
   ]
  },
  {
   "cell_type": "code",
   "execution_count": 5,
   "metadata": {},
   "outputs": [
    {
     "name": "stdout",
     "output_type": "stream",
     "text": [
      "this is a long string\n"
     ]
    }
   ],
   "source": [
    "print \\\n",
    "(\"this is a \\\n",
    "long string\" \\\n",
    ")"
   ]
  },
  {
   "cell_type": "markdown",
   "metadata": {},
   "source": [
    "## Practice 5\n",
    "Fix the following code. "
   ]
  },
  {
   "cell_type": "code",
   "execution_count": 6,
   "metadata": {},
   "outputs": [
    {
     "name": "stdout",
     "output_type": "stream",
     "text": [
      "Hi!\n",
      "My Name is Tracy.\n",
      "I enjoy traveling.\n"
     ]
    }
   ],
   "source": [
    "print(\"Hi!\");print(\"My Name is Tracy.\");print(\"I enjoy traveling.\");"
   ]
  },
  {
   "cell_type": "markdown",
   "metadata": {},
   "source": [
    "## Practice 6\n",
    "Replace the `print` commands with comments that include the same text. What happens when you run the program after making the changes?"
   ]
  },
  {
   "cell_type": "code",
   "execution_count": 7,
   "metadata": {},
   "outputs": [],
   "source": [
    "#(\"This is a computer program that prints the following information:\")\n",
    "#(\"User's name\")\n",
    "#(\"User's age\")\n",
    "#(\"List of states where the user has lived\")"
   ]
  },
  {
   "cell_type": "code",
   "execution_count": null,
   "metadata": {},
   "outputs": [],
   "source": []
  }
 ],
 "metadata": {
  "kernelspec": {
   "display_name": "Python 3 (ipykernel)",
   "language": "python",
   "name": "python3"
  },
  "language_info": {
   "codemirror_mode": {
    "name": "ipython",
    "version": 3
   },
   "file_extension": ".py",
   "mimetype": "text/x-python",
   "name": "python",
   "nbconvert_exporter": "python",
   "pygments_lexer": "ipython3",
   "version": "3.9.12"
  }
 },
 "nbformat": 4,
 "nbformat_minor": 2
}
