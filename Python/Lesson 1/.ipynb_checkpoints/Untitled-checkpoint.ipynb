{
 "cells": [
  {
   "cell_type": "code",
   "execution_count": 3,
   "id": "462dc5ae",
   "metadata": {},
   "outputs": [
    {
     "name": "stdout",
     "output_type": "stream",
     "text": [
      "Please enter your first name: Paul\n",
      "Please enter your last name: Chien\n",
      "Please enter your phone number: 62353535\n",
      "Please enter the year you were born in: 1992\n",
      "\n",
      "Your first name is Paul\n",
      "Your last name is Chien\n",
      "Your phone number is 62353535\n",
      "Your year of birth is 1992 \n"
     ]
    }
   ],
   "source": [
    "#Paul Chien, 24th May 2022\n",
    "\n",
    "firstName = input(\"Please enter your first name: \")\n",
    "lastName = input(\"Please enter your last name: \")\n",
    "phoneNum = input(\"Please enter your phone number: \")\n",
    "birthYear = input(\"Please enter the year you were born in: \")\n",
    "\n",
    "print(f'''\n",
    "Your first name is {firstName}\n",
    "Your last name is {lastName}\n",
    "Your phone number is {phoneNum}\n",
    "Your year of birth is {birthYear} ''')"
   ]
  },
  {
   "cell_type": "code",
   "execution_count": null,
   "id": "119fe26a",
   "metadata": {},
   "outputs": [],
   "source": []
  }
 ],
 "metadata": {
  "kernelspec": {
   "display_name": "Python 3 (ipykernel)",
   "language": "python",
   "name": "python3"
  },
  "language_info": {
   "codemirror_mode": {
    "name": "ipython",
    "version": 3
   },
   "file_extension": ".py",
   "mimetype": "text/x-python",
   "name": "python",
   "nbconvert_exporter": "python",
   "pygments_lexer": "ipython3",
   "version": "3.9.12"
  }
 },
 "nbformat": 4,
 "nbformat_minor": 5
}
