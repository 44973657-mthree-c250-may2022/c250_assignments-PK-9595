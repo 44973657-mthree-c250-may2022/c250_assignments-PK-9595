{
 "cells": [
  {
   "cell_type": "markdown",
   "metadata": {},
   "source": [
    "# Classes and Objects\n",
    "This worksheet corresponds to *Lesson 2: Classes and Objects* in the online course. Refer to that lesson as necessary to complete these practice exercises."
   ]
  },
  {
   "cell_type": "markdown",
   "metadata": {},
   "source": [
    "## Practice 1\n",
    "Create a class `Animal` that could represent any animal. \n",
    "\n",
    "Include at least two attributes within the new class."
   ]
  },
  {
   "cell_type": "code",
   "execution_count": 22,
   "metadata": {
    "collapsed": true
   },
   "outputs": [],
   "source": [
    "# your code here"
   ]
  },
  {
   "cell_type": "markdown",
   "metadata": {},
   "source": [
    "## Practice 2\n",
    "Using the `Animal` class from the previous exercise, create three objects that represent animals.\n",
    "\n",
    "Print out all attributes for each animal."
   ]
  },
  {
   "cell_type": "code",
   "execution_count": 24,
   "metadata": {
    "collapsed": true
   },
   "outputs": [],
   "source": [
    "# your code here"
   ]
  },
  {
   "cell_type": "markdown",
   "metadata": {},
   "source": [
    "## Practice 3\n",
    "Create an `__init__` method for the `Animal` class. Include at least three of the attributes you originally defined in the new method.  "
   ]
  },
  {
   "cell_type": "code",
   "execution_count": 26,
   "metadata": {
    "collapsed": true
   },
   "outputs": [],
   "source": [
    "# your code here"
   ]
  },
  {
   "cell_type": "markdown",
   "metadata": {},
   "source": [
    "## Practice 4\n",
    "Create a `display_info` method for the `Animal` class. \n",
    "\n",
    "Create three objects from the `Animal` class and display each object using the `display_info` method."
   ]
  },
  {
   "cell_type": "code",
   "execution_count": 9,
   "metadata": {},
   "outputs": [
    {
     "name": "stdout",
     "output_type": "stream",
     "text": [
      "height is: 50, weight is: 100\n",
      "height is: 150, weight is: 200\n",
      "height is: 250, weight is: 300\n"
     ]
    }
   ],
   "source": [
    "class Animal():\n",
    "    \n",
    "    def __init__(self, height, weight):\n",
    "        self.height=height\n",
    "        self.weight=weight\n",
    "    \n",
    "    def display_info(self):\n",
    "        print(f\"height is: {self.height}, weight is: {self.weight}\" )\n",
    "        \n",
    "Animal1 = Animal(50,100)\n",
    "Animal1.display_info()\n",
    "Animal2 = Animal(150,200)\n",
    "Animal2.display_info()\n",
    "Animal3 = Animal (250, 300)\n",
    "Animal3.display_info()"
   ]
  },
  {
   "cell_type": "markdown",
   "metadata": {},
   "source": [
    "## Practice 5a\n",
    "The following code includes multiple errors. Find the errors and update the code as necessary. Do not change any of the existing code above line 9.\n",
    "\n",
    "The final output should read:\n",
    "    `Harry Potter and the Sorcerer's Stone by J. K. Rowling, published in 1997`"
   ]
  },
  {
   "cell_type": "code",
   "execution_count": null,
   "metadata": {
    "collapsed": true
   },
   "outputs": [],
   "source": [
    "class Book:\n",
    "    title = \"\"\n",
    "    author = \"\"\n",
    "    pub_date = \"\"\n",
    "    def __init__ (book, ti, au, da):\n",
    "        book.title = ti\n",
    "        book.author = au\n",
    "        book.pub_date = da\n",
    "        \n",
    "#Change only the code below this line\n",
    "    def book_details(self):\n",
    "        print (title + \" by \" + author + \", published in \" + pub_date)\n",
    "        \n",
    "book_1 = Book(\"Harry Potter and the Sorcerer's Stone\", \"J. K. Rowling\",\"1997\")\n",
    "book_1.book_details()\n"
   ]
  },
  {
   "cell_type": "markdown",
   "metadata": {},
   "source": [
    "## Practice 5b\n",
    "Create and execute another meaningful method for the `Animal` class. Make sure to pass the `self` object when executing the method. "
   ]
  },
  {
   "cell_type": "code",
   "execution_count": 16,
   "metadata": {},
   "outputs": [
    {
     "name": "stdout",
     "output_type": "stream",
     "text": [
      "pig has grown by 1cm!\n"
     ]
    }
   ],
   "source": [
    "class Animal():\n",
    "    def __init__(self, species, height, weight):\n",
    "        self.species=species\n",
    "        self.height=height #in cm\n",
    "        self.weight=weight #in kg\n",
    "        \n",
    "    def growTaller(self, height):\n",
    "        self.height+=height\n",
    "        print(f\"{self.species} has grown by {height}cm!\")\n",
    "        \n",
    "pig = Animal(\"pig\",100, 80)\n",
    "pig.growTaller(1)\n"
   ]
  },
  {
   "cell_type": "markdown",
   "metadata": {},
   "source": [
    "## Practice 6\n",
    "Revise the following code so that the `Person` class includes a list of addresses rather than a single address. "
   ]
  },
  {
   "cell_type": "code",
   "execution_count": null,
   "metadata": {
    "collapsed": true
   },
   "outputs": [],
   "source": [
    "class Address:\n",
    "    number = None\n",
    "    street  = None\n",
    "    city = None\n",
    "    state = None\n",
    "    zipcode = None\n",
    "    def  __init__(self,num,st,cty,ste,zc):\n",
    "        self.number = num\n",
    "        self.street = st \n",
    "        self.city = cty\n",
    "        self.state= ste\n",
    "        self.zipcode  = zc\n",
    "    def display(self):\n",
    "        print(str(self.number) + \" \" + self.street + \" \" + self.city + \" \" + self.state + \" \" + self.zipcode)\n",
    "        \n",
    "\n",
    "class Person:\n",
    "    fname = None\n",
    "    lname = None\n",
    "    addresses = None #a ddresses will hold a list  of addresses that belong to a person\n",
    "    def __init__(self,fname,lname,addrs):\n",
    "        self.fname = fname\n",
    "        self.lname = lname\n",
    "        self.addresses = addrs\n",
    "    def display(self):\n",
    "        # implement the display method to display  first name,  last name, \n",
    "        # then iterate through addresses and display each address in one line. \n",
    "        pass\n",
    "    def add_address(self,addr):\n",
    "        # implement\n",
    "        pass\n",
    "     \n",
    "class Account:\n",
    "    ain = None \n",
    "    person = None \n",
    "    def __init__(self,ain,person):\n",
    "        self.ain = ain\n",
    "        self.person = person\n",
    "    def display(self):\n",
    "        print(\"Account Number: \" + str(self.ain))\n",
    "        print(\"Account Holder Information: \")\n",
    "        self.person.display()\n",
    "\n",
    "addr1 = Address(123,\"Main Street\",\"Asbury Park\",\"NJ\",\"07712\")\n",
    "addr2 = Address(12,\"Rue Simon Bolivard\",\"Paris\",\"France\",\"75019\")\n",
    "addresses = list()\n",
    "addresses.append(addr1)\n",
    "addresses.append(addr2)\n",
    "\n",
    "\n",
    "p = Person(\"Haythem\",\"Balti\",addresses)\n",
    "addr3 = Address(46,\"Fourth Street\",\"Louisville\",\"KY\",\"40208\")\n",
    "\n",
    "p.add_address(addr3)\n",
    "\n",
    "# p.display()\n",
    "a = Account(\"C1566X56576\",p)\n",
    "a.display()"
   ]
  }
 ],
 "metadata": {
  "kernelspec": {
   "display_name": "Python 3 (ipykernel)",
   "language": "python",
   "name": "python3"
  },
  "language_info": {
   "codemirror_mode": {
    "name": "ipython",
    "version": 3
   },
   "file_extension": ".py",
   "mimetype": "text/x-python",
   "name": "python",
   "nbconvert_exporter": "python",
   "pygments_lexer": "ipython3",
   "version": "3.9.12"
  }
 },
 "nbformat": 4,
 "nbformat_minor": 2
}
