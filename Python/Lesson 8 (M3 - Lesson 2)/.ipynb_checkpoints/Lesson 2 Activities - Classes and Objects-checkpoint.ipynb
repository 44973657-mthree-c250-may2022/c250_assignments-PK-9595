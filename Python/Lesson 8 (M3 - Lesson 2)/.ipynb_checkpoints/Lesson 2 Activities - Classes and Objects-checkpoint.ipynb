{
 "cells": [
  {
   "cell_type": "markdown",
   "metadata": {},
   "source": [
    "# Lesson 2 Activities: Classes and Objects\n",
    "The activities in this page will allow you to demonstrate your ability to:\n",
    "* Create a class that includes at least three attributes appropriate for that class.\n",
    "* Use a class to create two or more separate objects.\n",
    "* Define and use a constructor in a class.\n",
    "* Create one or more methods that describe a behavior associated with a class and implement those methods in a program.\n",
    "* Reference a class as an attribute of another class to create a complex entity."
   ]
  },
  {
   "cell_type": "markdown",
   "metadata": {},
   "source": [
    "## Activity 1\n",
    "The lesson uses `Person` and `Animal` as example classes. For this activity, choose another `Noun` of your choice to create a class. It can be anything you wish, as long as it meets the following criteria:\n",
    "* Do not use people or animals.\n",
    "* The category must be broad enough to include different examples of the category.\n",
    "* It must represent a real-life object.\n",
    "\n",
    "Include at least three attributes that are common to most (if not all) instances of the `Noun`. Use appropriate naming conventions."
   ]
  },
  {
   "cell_type": "code",
   "execution_count": 1,
   "metadata": {},
   "outputs": [],
   "source": [
    "class food():\n",
    "    sweet=''\n",
    "    sour=''\n",
    "    spicy=''\n",
    "    salty=''\n",
    "    bitter''"
   ]
  },
  {
   "cell_type": "markdown",
   "metadata": {},
   "source": [
    "## Activity 2\n",
    "Use the `Noun` class you created in the previous activity to create at least four different objects. Print out all attributes for each object."
   ]
  },
  {
   "cell_type": "code",
   "execution_count": 6,
   "metadata": {},
   "outputs": [
    {
     "name": "stdout",
     "output_type": "stream",
     "text": [
      "Fox: Mammal small \n",
      "Elephant:  Mammal large \n",
      "Shark:  Fish big\n"
     ]
    }
   ],
   "source": [
    "class Animal:\n",
    "    type=''\n",
    "    size=''\n",
    "    \n",
    "fox = Animal()\n",
    "fox.type='Mammal'\n",
    "fox.size='small'\n",
    "\n",
    "elephant = Animal()\n",
    "elephant.type='Mammal'\n",
    "elephant.size='large'\n",
    "\n",
    "shark = Animal()\n",
    "shark.type='Fish'\n",
    "shark.size='big'\n",
    "\n",
    "print(\"Fox:\", fox.type, fox.size, \"\\nElephant: \", elephant.type, elephant.size,\"\\nShark: \", shark.type, shark.size)"
   ]
  },
  {
   "cell_type": "markdown",
   "metadata": {},
   "source": [
    "## Activity 3\n",
    "Create an `__init__` method for your `Noun` class. Include at least four of the attributes you originally defined in the new method."
   ]
  },
  {
   "cell_type": "code",
   "execution_count": 3,
   "metadata": {},
   "outputs": [
    {
     "name": "stdout",
     "output_type": "stream",
     "text": [
      "{'name': 'ma la xiang guo', 'sweet': False, 'sour': False, 'spicy': True, 'salty': True, 'bitter': False}\n"
     ]
    }
   ],
   "source": [
    "class food():\n",
    "    name=''\n",
    "    sweet=''\n",
    "    sour=''\n",
    "    spicy=''\n",
    "    salty=''\n",
    "    bitter=''\n",
    "    \n",
    "    def __init__(self, name, sweet, sour, spicy, salty, bitter):\n",
    "        self.name=name\n",
    "        self.sweet=sweet\n",
    "        self.sour=sour\n",
    "        self.spicy=spicy\n",
    "        self.salty=salty\n",
    "        self.bitter=bitter\n",
    "\n",
    "mlxg=food('ma la xiang guo', False, False, True, True, False)\n",
    "print(mlxg.__dict__)"
   ]
  },
  {
   "cell_type": "markdown",
   "metadata": {},
   "source": [
    "## Activity 4\n",
    "Create a method for your `Noun` class. The method should perform a specific activity (or series of activities) on objects based on the class. \n",
    "\n",
    "Although this can be a simple `display`, you are encouraged to consider more complicated activities in the method."
   ]
  },
  {
   "cell_type": "code",
   "execution_count": 5,
   "metadata": {},
   "outputs": [
    {
     "name": "stdout",
     "output_type": "stream",
     "text": [
      "{'name': 'ma la xiang guo', 'sweet': False, 'sour': False, 'spicy': True, 'salty': True, 'bitter': False}\n",
      "{'name': 'ma la xiang guo', 'sweet': True, 'sour': False, 'spicy': True, 'salty': True, 'bitter': False}\n"
     ]
    }
   ],
   "source": [
    "class food():\n",
    "    \n",
    "    def __init__(self, name, sweet, sour, spicy, salty, bitter):\n",
    "        self.name=name\n",
    "        self.sweet=sweet\n",
    "        self.sour=sour\n",
    "        self.spicy=spicy\n",
    "        self.salty=salty\n",
    "        self.bitter=bitter\n",
    "\n",
    "    def addSugar(self):\n",
    "        self.sweet=True\n",
    "        \n",
    "mlxg=food('ma la xiang guo', False, False, True, True, False)\n",
    "print(mlxg.__dict__)\n",
    "mlxg.addSugar()\n",
    "print(mlxg.__dict__)"
   ]
  },
  {
   "cell_type": "markdown",
   "metadata": {},
   "source": [
    "## Activity 5\n",
    "Create a separate class that is logically related to your original `Noun` class, based on the example that a `Person` can have one or more `Addresses`.\n",
    "\t\n",
    "Create at least one `Noun` object that includes a list of objects from the associated class. Display the `Noun` with the related objects."
   ]
  },
  {
   "cell_type": "code",
   "execution_count": 6,
   "metadata": {},
   "outputs": [
    {
     "name": "stdout",
     "output_type": "stream",
     "text": [
      "{'name': 'ma la xiang guo', 'sweet': False, 'sour': False, 'spicy': True, 'salty': True, 'bitter': False, 'order': <__main__.order object at 0x0000017034A85DC0>}\n",
      "Q1021\n"
     ]
    }
   ],
   "source": [
    "class food():\n",
    "    \n",
    "    def __init__(self, name, sweet, sour, spicy, salty, bitter,order):\n",
    "        self.name=name\n",
    "        self.sweet=sweet\n",
    "        self.sour=sour\n",
    "        self.spicy=spicy\n",
    "        self.salty=salty\n",
    "        self.bitter=bitter\n",
    "        self.order=order\n",
    "\n",
    "    def addSugar(self):\n",
    "        self.sweet=True\n",
    "        \n",
    "    def getOrderNum(self):\n",
    "        return self.order.qNumber\n",
    "        \n",
    "class order():\n",
    "    \n",
    "    def __init__(self, cost, qNumber):\n",
    "        self.cost=cost\n",
    "        self.qNumber=qNumber\n",
    "\n",
    "ord1 = order(10, 'Q1021')\n",
    "mlxg=food('ma la xiang guo', False, False, True, True, False, ord1)\n",
    "print(mlxg.__dict__)\n",
    "print(mlxg.getOrderNum())"
   ]
  },
  {
   "cell_type": "code",
   "execution_count": null,
   "metadata": {},
   "outputs": [],
   "source": []
  }
 ],
 "metadata": {
  "kernelspec": {
   "display_name": "Python 3 (ipykernel)",
   "language": "python",
   "name": "python3"
  },
  "language_info": {
   "codemirror_mode": {
    "name": "ipython",
    "version": 3
   },
   "file_extension": ".py",
   "mimetype": "text/x-python",
   "name": "python",
   "nbconvert_exporter": "python",
   "pygments_lexer": "ipython3",
   "version": "3.9.12"
  }
 },
 "nbformat": 4,
 "nbformat_minor": 2
}
