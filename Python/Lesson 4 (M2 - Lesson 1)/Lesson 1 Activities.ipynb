{
 "cells": [
  {
   "cell_type": "markdown",
   "metadata": {},
   "source": [
    "\n",
    "# Lesson 1 Activities\n",
    "\n",
    "The activities in this page are designed to test your ability to meet the objectives for Lesson 1, including:\n",
    "\n",
    "* Use lists to store data collections and retrieve specific values from a collection.\n",
    "* Use tuples to store data collections and retrieve values.\n",
    "\n",
    "Complete each activity as described and run the code to make sure it works as expected before starting the next activity."
   ]
  },
  {
   "cell_type": "markdown",
   "metadata": {},
   "source": [
    "## Activity 1\n",
    "\n",
    "Prompt the user to answer a series of 3-5 questions about themselves (such as their name, their age, their birthdate, or where they live) and save the answers in a list. Display the results to the user.\n",
    "\n",
    "**Tip**: Research the syntax required for a tuple with a single element."
   ]
  },
  {
   "cell_type": "code",
   "execution_count": 2,
   "metadata": {},
   "outputs": [
    {
     "name": "stdout",
     "output_type": "stream",
     "text": [
      "Please enter name, age, birthdate and where you live (delimited with commas): Jack, 12, 12/12/2010, The beanstalk\n",
      "['Jack', ' 12', ' 12/12/2010', ' The beanstalk']\n"
     ]
    }
   ],
   "source": [
    "answers = input(\"Please enter name, age, birthdate and where you live (delimited with commas): \").split(',')\n",
    "print(answers)"
   ]
  },
  {
   "cell_type": "markdown",
   "metadata": {},
   "source": [
    "## Activity 2\n",
    "\n",
    "Present the user with an existing list of items (such as the list created in the previous activity) and prompt the user for 2-4 more items to add to the list. Update the list with the new items and display the updated list."
   ]
  },
  {
   "cell_type": "code",
   "execution_count": 6,
   "metadata": {},
   "outputs": [
    {
     "name": "stdout",
     "output_type": "stream",
     "text": [
      "The current list is: ['Jack', ' 12', ' 12/12/2010', ' The beanstalk'], please enter any additional items you wish to append to it: hello\n",
      "The current list is: ['Jack', ' 12', ' 12/12/2010', ' The beanstalk', 'hello'], please enter any additional items you wish to append to it: my\n",
      "The current list is: ['Jack', ' 12', ' 12/12/2010', ' The beanstalk', 'hello', 'my'], please enter any additional items you wish to append to it: name\n",
      "The current list is: ['Jack', ' 12', ' 12/12/2010', ' The beanstalk', 'hello', 'my', 'name'], please enter any additional items you wish to append to it: is\n",
      "The current list is: ['Jack', ' 12', ' 12/12/2010', ' The beanstalk', 'hello', 'my', 'name', 'is'], please enter any additional items you wish to append to it: Paul\n",
      "The current list is: ['Jack', ' 12', ' 12/12/2010', ' The beanstalk', 'hello', 'my', 'name', 'is', 'Paul'], please enter any additional items you wish to append to it: \n",
      "\n",
      "Finalized list: ['Jack', ' 12', ' 12/12/2010', ' The beanstalk', 'hello', 'my', 'name', 'is', 'Paul']\n"
     ]
    }
   ],
   "source": [
    "curList = ['Jack', ' 12', ' 12/12/2010', ' The beanstalk']\n",
    "\n",
    "condition=True\n",
    "while condition:\n",
    "    newInput = input(f\"The current list is: {curList}, please enter any additional items you wish to append to it: \")\n",
    "    if newInput:\n",
    "        curList.append(newInput)\n",
    "    else:\n",
    "        condition=False\n",
    "print(f'''\n",
    "Finalized list: {curList}''')"
   ]
  },
  {
   "cell_type": "markdown",
   "metadata": {},
   "source": [
    "## Activity 3\n",
    "\n",
    "Present the user with a list of 7-9 items (such as the list created in the previous activities) and prompt them to enter one item to delete from the list. Delete the named item from the list and display the updated list."
   ]
  },
  {
   "cell_type": "code",
   "execution_count": 8,
   "metadata": {},
   "outputs": [
    {
     "name": "stdout",
     "output_type": "stream",
     "text": [
      "Please enter the item you would like to delete: Jack\n",
      "The update list is: [' 12', ' 12/12/2010', ' The beanstalk', '153cm', '40kg', 'boy']\n"
     ]
    }
   ],
   "source": [
    "curList = ['Jack', ' 12', ' 12/12/2010', ' The beanstalk', '153cm', '40kg', 'boy']\n",
    "toDel = input(\"Please enter the item you would like to delete: \")\n",
    "curList.remove(toDel)\n",
    "print(f\"The update list is: {curList}\")"
   ]
  },
  {
   "cell_type": "markdown",
   "metadata": {},
   "source": [
    "## Activity 4\n",
    "\n",
    "Present the user with a list of 7-9 items (such as the list created in the previous activities) and prompt them to select one item from the list to update, along with the new value for that item. Change the item's value and display the new list to the user.\n",
    "\n",
    "**Tip**: You will need to know how to find the index value for a specific value to complete this activity."
   ]
  },
  {
   "cell_type": "code",
   "execution_count": 10,
   "metadata": {},
   "outputs": [
    {
     "name": "stdout",
     "output_type": "stream",
     "text": [
      "Please select an item you would like to replace: 40kg\n",
      "Please enter the new value you would like to replace it with: 42kg\n",
      "The updated list is: ['Jack', ' 12', ' 12/12/2010', ' The beanstalk', '153cm', '42kg', 'boy'] \n"
     ]
    }
   ],
   "source": [
    "curList = ['Jack', ' 12', ' 12/12/2010', ' The beanstalk', '153cm', '40kg', 'boy']\n",
    "toReplace = input(\"Please select an item you would like to replace: \")\n",
    "ind = curList.index(toReplace)\n",
    "newVal = input(\"Please enter the new value you would like to replace it with: \")\n",
    "curList[ind]=newVal\n",
    "\n",
    "print(f\"The updated list is: {curList} \")"
   ]
  },
  {
   "cell_type": "markdown",
   "metadata": {},
   "source": [
    "## Activity 5\n",
    "\n",
    "Create four tuples:\n",
    "\n",
    "* One tuple with a person's first name and last name\n",
    "* A second tuple with the person's current profession\n",
    "* A third tuple with the person's current address\n",
    "* A fourth tuple with the person's previous address\n",
    "\n",
    "Combine all tuples into a new, single tuple that contains all items from the original tuples."
   ]
  },
  {
   "cell_type": "code",
   "execution_count": 12,
   "metadata": {},
   "outputs": [
    {
     "name": "stdout",
     "output_type": "stream",
     "text": [
      "('Jack', 'Howard', 'unemployed', '23 Smith Street', '12 Smith Street')\n"
     ]
    }
   ],
   "source": [
    "name = (\"Jack\", \"Howard\")\n",
    "profession = (\"unemployed\",)\n",
    "curAdd = (\"23 Smith Street\",)\n",
    "prevAdd = (\"12 Smith Street\",)\n",
    "combined = name+profession+curAdd+prevAdd\n",
    "\n",
    "print(combined)"
   ]
  },
  {
   "cell_type": "markdown",
   "metadata": {},
   "source": [
    "## Activity 6\n",
    "\n",
    "Using the final tuple from the previous activity, write a program that performs the following steps:\n",
    "\n",
    "* Display the tuple to the user.\n",
    "* Prompt the user to enter a value that should be changed.\n",
    "* Prompt the user to enter the updated value for that item.\n",
    "* Update the value and display the updated tuple to the user.\n",
    "\n",
    "**Tip**: You cannot update the contents of a tuple, but you can update the contents of a list."
   ]
  },
  {
   "cell_type": "code",
   "execution_count": 14,
   "metadata": {},
   "outputs": [
    {
     "name": "stdout",
     "output_type": "stream",
     "text": [
      "Please choose the value you wish to change in ('Jack', 'Howard', 'unemployed', '23 Smith Street', '12 Smith Street') :unemployed\n",
      "Please enter the new value you would like to replace it with: Training in Mthree\n",
      "Updated tuple: ('Jack', 'Howard', 'Training in Mthree', '23 Smith Street', '12 Smith Street')\n"
     ]
    }
   ],
   "source": [
    "finalTuple = ('Jack', 'Howard', 'unemployed', '23 Smith Street', '12 Smith Street')\n",
    "\n",
    "eqList = []\n",
    "eqList += finalTuple\n",
    "toChange = eqList.index(input(f\"Please choose the value you wish to change in {finalTuple} :\"))\n",
    "eqList[toChange] = input(\"Please enter the new value you would like to replace it with: \")\n",
    "print(f'''Updated tuple: {tuple(eqList)}''')"
   ]
  },
  {
   "cell_type": "code",
   "execution_count": null,
   "metadata": {},
   "outputs": [],
   "source": []
  }
 ],
 "metadata": {
  "kernelspec": {
   "display_name": "Python 3 (ipykernel)",
   "language": "python",
   "name": "python3"
  },
  "language_info": {
   "codemirror_mode": {
    "name": "ipython",
    "version": 3
   },
   "file_extension": ".py",
   "mimetype": "text/x-python",
   "name": "python",
   "nbconvert_exporter": "python",
   "pygments_lexer": "ipython3",
   "version": "3.9.12"
  }
 },
 "nbformat": 4,
 "nbformat_minor": 2
}
