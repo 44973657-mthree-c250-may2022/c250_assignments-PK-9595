{
 "cells": [
  {
   "cell_type": "code",
   "execution_count": 9,
   "id": "a2600837",
   "metadata": {},
   "outputs": [
    {
     "name": "stdout",
     "output_type": "stream",
     "text": [
      "[23, 51, 231, 51], [334, 31, 65, 23], [0, 2, 4, 78]\n"
     ]
    }
   ],
   "source": [
    "#Paul Chien, 25th May 2022\n",
    "\n",
    "myTuple = (51,231,51,23,23,65,31,334,78,4,2,0)\n",
    "listStart = list(myTuple[:4])\n",
    "listStart.reverse()\n",
    "listMid = list(myTuple[4:8])\n",
    "listMid.reverse()\n",
    "listEnd = list(myTuple[8:])\n",
    "listEnd.reverse()\n",
    "\n",
    "print(f'''{listStart}, {listMid}, {listEnd}''')"
   ]
  },
  {
   "cell_type": "code",
   "execution_count": null,
   "id": "3415c25e",
   "metadata": {},
   "outputs": [],
   "source": []
  }
 ],
 "metadata": {
  "kernelspec": {
   "display_name": "Python 3 (ipykernel)",
   "language": "python",
   "name": "python3"
  },
  "language_info": {
   "codemirror_mode": {
    "name": "ipython",
    "version": 3
   },
   "file_extension": ".py",
   "mimetype": "text/x-python",
   "name": "python",
   "nbconvert_exporter": "python",
   "pygments_lexer": "ipython3",
   "version": "3.9.12"
  }
 },
 "nbformat": 4,
 "nbformat_minor": 5
}
