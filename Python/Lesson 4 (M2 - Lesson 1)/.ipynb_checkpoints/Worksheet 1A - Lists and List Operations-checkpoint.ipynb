{
 "cells": [
  {
   "cell_type": "markdown",
   "metadata": {},
   "source": [
    "# Worksheet 1A: Lists and List Operations\n",
    "This worksheet corresponds to *Lesson 1A: Lists and List Operations* in the online course. Refer to that lesson as necessary to complete the practice exercises here."
   ]
  },
  {
   "cell_type": "markdown",
   "metadata": {},
   "source": [
    "## Practice 1\n",
    "Create a list that contains  the following information (in this specific order):\t\n",
    "* Your first name \t\n",
    "* Your last name\t\n",
    "* Your age\t\n",
    "* The average number of miles you travel to work every day (round trip)"
   ]
  },
  {
   "cell_type": "code",
   "execution_count": 2,
   "metadata": {},
   "outputs": [
    {
     "name": "stdout",
     "output_type": "stream",
     "text": [
      "['Paul', 'Chien', 27, 0]\n"
     ]
    }
   ],
   "source": [
    "personalInfo = [\"Paul\", \"Chien\", 27, 0]\n",
    "print(personalInfo)"
   ]
  },
  {
   "cell_type": "markdown",
   "metadata": {},
   "source": [
    "## Practice 2\n",
    "Modify the list definition (add or remove elements) so the `print` command displays `True`. "
   ]
  },
  {
   "cell_type": "code",
   "execution_count": 3,
   "metadata": {},
   "outputs": [
    {
     "name": "stdout",
     "output_type": "stream",
     "text": [
      "True\n"
     ]
    }
   ],
   "source": [
    "list_of_strings = [\"Kate\", \"Jennifer\", \"Mike\", \"Bob\", \"Bobby\"]\n",
    "\n",
    "# do not change the following code\n",
    "test = len(list_of_strings) == 5 # check that the size of the list is equal to 5\n",
    "print(test)"
   ]
  },
  {
   "cell_type": "markdown",
   "metadata": {},
   "source": [
    "## Practice 3a\n",
    "Update the following code to display only the first character of each name in the list of names.\n",
    "\n",
    "**Tip**: Review the use of index values in strings."
   ]
  },
  {
   "cell_type": "code",
   "execution_count": 4,
   "metadata": {},
   "outputs": [
    {
     "name": "stdout",
     "output_type": "stream",
     "text": [
      "K\n",
      "J\n",
      "M\n"
     ]
    }
   ],
   "source": [
    "list_of_strings = [\"Kate\", \"Jennifer\", \"Mike\"]\n",
    "person_1 = list_of_strings[0] # access the first element of the list\n",
    "print(person_1[0])\n",
    "\n",
    "person_2 = list_of_strings[1] # access the second element of the list\n",
    "print(person_2[0])\n",
    "\n",
    "person_3 = list_of_strings[2] # access the third (and last) element of the list\n",
    "print(person_3[0])"
   ]
  },
  {
   "cell_type": "markdown",
   "metadata": {},
   "source": [
    "## Practice 3b\n",
    "When we use the `split` function on a string that contains multiple words, Python creates a list that includes each word in the string as a separate item in the list.\n",
    "\n",
    "Create a script that performs the following steps:\t\n",
    "1. Prompt the user for their name in the format: \"last_name, first_name\".\t\n",
    "1. Use the `split` function to separate the names in the input string.\t\n",
    "1. Store each name in its own variable.\t\n",
    "1. Display the first name to the user with an appropriate feedback message.\t\n",
    "1. Display the last name to the user without the comma and with an appropriate feedback message.\t\n",
    "\n",
    "**Challenge**: Allow the user to enter their name using any case. Display each name with only the first letter capitalized, regardless of the case used to enter the name."
   ]
  },
  {
   "cell_type": "code",
   "execution_count": 26,
   "metadata": {},
   "outputs": [
    {
     "name": "stdout",
     "output_type": "stream",
     "text": [
      "please enter your fullname in the format 'last_name, first_name'ChIeN, PaUL\n",
      "Your first name is Paul\n",
      "Your last name is Chien\n"
     ]
    }
   ],
   "source": [
    "lastName, firstName = input(\"please enter your fullname in the format 'last_name, first_name'\").split(',')\n",
    "print(f\"Your first name is {firstName.strip().capitalize()}\")\n",
    "print(f\"Your last name is {lastName.strip().capitalize()}\")"
   ]
  },
  {
   "cell_type": "markdown",
   "metadata": {},
   "source": [
    "## Practice 4\n",
    "Fix the following code so each of the `print` lines displays the expected data."
   ]
  },
  {
   "cell_type": "code",
   "execution_count": 8,
   "metadata": {},
   "outputs": [
    {
     "name": "stdout",
     "output_type": "stream",
     "text": [
      "First name: John\n",
      "Last name: Smith\n",
      "Address: 123 East Main Street\n",
      "City: Boston\n",
      "Profession: Junior Software Developer\n"
     ]
    }
   ],
   "source": [
    "# do not change the first line\n",
    "info = [\"John\", \"Smith\", \"123 East Main Street\", \"Boston\", \"Junior Software Developer\"]\n",
    "\n",
    "# change the index values in the output statements\n",
    "print(\"First name: \" + info[0])\n",
    "print(\"Last name: \" + info[1])\n",
    "print(\"Address: \" + info[2])\n",
    "print(\"City: \" + info[3])\n",
    "print(\"Profession: \" + info[4])"
   ]
  },
  {
   "cell_type": "markdown",
   "metadata": {},
   "source": [
    "## Practice 5a\n",
    "Using the code below as a starting point, update the slicing code for `team_1` and `team_3` **without** referencing both index values. The output should not change."
   ]
  },
  {
   "cell_type": "code",
   "execution_count": 11,
   "metadata": {},
   "outputs": [
    {
     "name": "stdout",
     "output_type": "stream",
     "text": [
      "['John', 'Mike', 'Serena', 'Jennifer', 'Abby', 'Lisa']\n",
      "The first team is:\n",
      "['John', 'Mike']\n",
      "The second team is:\n",
      "['Serena', 'Jennifer']\n",
      "The third team is:\n",
      "['Abby', 'Lisa']\n"
     ]
    }
   ],
   "source": [
    "list_of_names = [\"John\", \"Mike\", \"Serena\", \"Jennifer\", \"Abby\", \"Lisa\"]\n",
    "print(list_of_names)\n",
    "\n",
    "team_1 = list_of_names[:2] #use slicing to retrieve the first two elements\n",
    "print(\"The first team is:\")\n",
    "print(team_1)\n",
    "\n",
    "team_2 = list_of_names[2:4] #use slicing to retrieve the middle two elements\n",
    "print(\"The second team is:\")\n",
    "print(team_2)\n",
    "\n",
    "team_3 = list_of_names[4:] #use slicing to retrieve the last two elements\n",
    "print(\"The third team is:\")\n",
    "print(team_3)"
   ]
  },
  {
   "cell_type": "markdown",
   "metadata": {},
   "source": [
    "## Practice 5b\n",
    "The list below contains the abbreviations for all states in the USA.\n",
    "\n",
    "Use slicing to create three new lists:\t\n",
    "* One list that contains all states that start with M\t\n",
    "* One list that contains all states that start with W\t\n",
    "* One list that contains all states that start with V"
   ]
  },
  {
   "cell_type": "code",
   "execution_count": 13,
   "metadata": {},
   "outputs": [
    {
     "name": "stdout",
     "output_type": "stream",
     "text": [
      "States that start with M: ['ME', 'MD', 'MA', 'MI', 'MN', 'MS', 'MO', 'MT']\n",
      "States that start with W: ['WA', 'WV', 'WI', 'WY']\n",
      "States that start with V: ['VT', 'VA']\n"
     ]
    }
   ],
   "source": [
    "states = [\"AL\", \"AK\", \"AZ\", \"AR\", \"CA\", \"CO\", \"CT\", \"DE\", \"FL\", \"GA\", \n",
    "          \"HI\", \"ID\", \"IL\", \"IN\", \"IA\", \"KS\", \"KY\", \"LA\", \"ME\", \"MD\", \n",
    "          \"MA\", \"MI\", \"MN\", \"MS\", \"MO\", \"MT\", \"NE\", \"NV\", \"NH\", \"NJ\", \n",
    "          \"NM\", \"NY\", \"NC\", \"ND\", \"OH\", \"OK\", \"OR\", \"PA\", \"RI\", \"SC\", \n",
    "          \"SD\", \"TN\", \"TX\", \"UT\", \"VT\", \"VA\", \"WA\", \"WV\", \"WI\", \"WY\"]\n",
    "# continue code here\n",
    "listM = states[18:26]\n",
    "print(f\"States that start with M: {listM}\")\n",
    "listW = states[-4:]\n",
    "print(f\"States that start with W: {listW}\")\n",
    "listV = states[-6:-4]\n",
    "print(f\"States that start with V: {listV}\")"
   ]
  },
  {
   "cell_type": "markdown",
   "metadata": {},
   "source": [
    "## Practice 6\n",
    "Using the `append` method, add  the following information in this specific order: \t\n",
    "* Your first name \t\n",
    "* Your last name\t\n",
    "* Your age\t\n",
    "* The average number of miles you travel to work every day (round trip)"
   ]
  },
  {
   "cell_type": "code",
   "execution_count": 14,
   "metadata": {},
   "outputs": [
    {
     "name": "stdout",
     "output_type": "stream",
     "text": [
      "['Paul', 'Chien', 27, 0]\n"
     ]
    }
   ],
   "source": [
    "info = []  # the info list is initially empty\n",
    "info.append(\"Paul\")\n",
    "info.append(\"Chien\")\n",
    "info.append(27)\n",
    "info.append(0)\n",
    "\n",
    "print(info)"
   ]
  },
  {
   "cell_type": "markdown",
   "metadata": {},
   "source": [
    "## Practice 7\n",
    "Use the `insert` method to add the appropriate information to the list and then update the `print` statements so the data is displayed correctly. Use any random address.\t\n",
    "\n",
    "**Hint**: You will need to add the address to `info` at the appropriate index. "
   ]
  },
  {
   "cell_type": "code",
   "execution_count": 17,
   "metadata": {},
   "outputs": [
    {
     "name": "stdout",
     "output_type": "stream",
     "text": [
      "First name: John\n",
      "Last name: Smith\n",
      "Address: 123 East Main Street\n",
      "City: Boston\n",
      "Profession: Junior Software Developer\n"
     ]
    }
   ],
   "source": [
    "info = [\"John\", \"Smith\", \"Boston\", \"Junior Software Developer\"]\n",
    "#your code goes here \n",
    "info.insert(3, \"123 East Main Street\")\n",
    "\n",
    "#this code should be executed last \n",
    "print(\"First name: \" + info[0])\n",
    "print(\"Last name: \" + info[1])\n",
    "print(\"Address: \" + info[3])\n",
    "print(\"City: \" + info[2])\n",
    "print(\"Profession: \" + info[4])"
   ]
  },
  {
   "cell_type": "markdown",
   "metadata": {},
   "source": [
    "## Practice 8\n",
    "Use the `remove` method in the code below to delete all duplicate values in the list. \n",
    "\n",
    "Each value in the original list should be included exactly one time in the final version of the list."
   ]
  },
  {
   "cell_type": "code",
   "execution_count": 19,
   "metadata": {},
   "outputs": [
    {
     "name": "stdout",
     "output_type": "stream",
     "text": [
      "['Haythem', 'Mike', 'Livia', 'Layla', 1, 2, 3, 'Mike', 'Jesse', 'Haythem']\n"
     ]
    }
   ],
   "source": [
    "input_list = [\"Haythem\", \"Mike\", 1, \"Layla\", \"Livia\", \"Layla\", 2, 1, 2, 3, \"Mike\", \"Jesse\", \"Haythem\"]\n",
    "\n",
    "input_list.remove(\"Layla\")\n",
    "input_list.remove(2)\n",
    "input_list.remove(1)\n",
    "print(input_list)"
   ]
  },
  {
   "cell_type": "markdown",
   "metadata": {},
   "source": [
    "## Practice 9\n",
    "Create code below that performs the following steps: \t\n",
    "* Concatenate the three lists. \t\n",
    "* Use the `remove` method to delete all the negative numbers from the new list. "
   ]
  },
  {
   "cell_type": "code",
   "execution_count": 25,
   "metadata": {},
   "outputs": [
    {
     "name": "stdout",
     "output_type": "stream",
     "text": [
      "[1, 4, 6, 0, 1, 67, 45, 65, 2]\n"
     ]
    }
   ],
   "source": [
    "list_1 = [1,-1,4,6]\n",
    "list_2 = [0,1,67,-98]\n",
    "list_3 = [45,65,2,-54,-434]\n",
    "\n",
    "list=list_1+list_2+list_3\n",
    "\n",
    "list.remove(-1)\n",
    "list.remove(-98)\n",
    "list.remove(-54)\n",
    "list.remove(-434)\n",
    "print(list)"
   ]
  },
  {
   "cell_type": "code",
   "execution_count": null,
   "metadata": {},
   "outputs": [],
   "source": []
  }
 ],
 "metadata": {
  "kernelspec": {
   "display_name": "Python 3 (ipykernel)",
   "language": "python",
   "name": "python3"
  },
  "language_info": {
   "codemirror_mode": {
    "name": "ipython",
    "version": 3
   },
   "file_extension": ".py",
   "mimetype": "text/x-python",
   "name": "python",
   "nbconvert_exporter": "python",
   "pygments_lexer": "ipython3",
   "version": "3.9.12"
  }
 },
 "nbformat": 4,
 "nbformat_minor": 2
}
