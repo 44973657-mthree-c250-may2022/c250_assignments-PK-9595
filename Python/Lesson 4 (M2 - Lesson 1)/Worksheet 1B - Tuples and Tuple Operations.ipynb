{
 "cells": [
  {
   "cell_type": "markdown",
   "metadata": {},
   "source": [
    "# Worksheet 1B: Tuples\n",
    "This worksheet corresponds to *Lesson 1B: Tuples and Tuple Operations* in the online course. Refer to that lesson as necessary to complete the practice activities here."
   ]
  },
  {
   "cell_type": "markdown",
   "metadata": {},
   "source": [
    "## Practice 1\n",
    "Create a tuple that contains the following information:  \n",
    "* Your first name \n",
    "* Your last name\n",
    "* Your age\n",
    "* The average number of miles you travel to work every day (round trip)"
   ]
  },
  {
   "cell_type": "code",
   "execution_count": 2,
   "metadata": {},
   "outputs": [
    {
     "name": "stdout",
     "output_type": "stream",
     "text": [
      "('Paul', 'Chien', 27, 0)\n"
     ]
    }
   ],
   "source": [
    "myTuple=(\"Paul\", \"Chien\", 27, 0)\n",
    "print(myTuple)"
   ]
  },
  {
   "cell_type": "markdown",
   "metadata": {},
   "source": [
    "## Practice 2\n",
    "Create a tuple that contains a series of items and then calculate the length of the tuple.\n",
    "\n",
    "You may use the code from Practice 1 above as a starting point if you wish."
   ]
  },
  {
   "cell_type": "code",
   "execution_count": 3,
   "metadata": {},
   "outputs": [
    {
     "name": "stdout",
     "output_type": "stream",
     "text": [
      "5\n"
     ]
    }
   ],
   "source": [
    "tup=(1,2,3,4,5)\n",
    "print(len(tup))"
   ]
  },
  {
   "cell_type": "markdown",
   "metadata": {},
   "source": [
    "## Practice 3\n",
    "Fix the following code so all the information is displayed correctly. "
   ]
  },
  {
   "cell_type": "code",
   "execution_count": 4,
   "metadata": {},
   "outputs": [
    {
     "name": "stdout",
     "output_type": "stream",
     "text": [
      "('Jonathan', 'Vance', '679 Birchpond Street', 'Merrillville', 'IN', '46410', '219-555-4876')\n",
      "Last name: Vance\n",
      "First name: Jonathan\n",
      "Phone number: 219-555-4876\n",
      "Street: 679 Birchpond Street\n",
      "City: Merrillville\n",
      "State: IN\n",
      "Zip code: 46410\n"
     ]
    }
   ],
   "source": [
    "# do not change the first line of code\n",
    "info = (\"Jonathan\", \"Vance\", \"679 Birchpond Street\", \"Merrillville\", \"IN\", \"46410\", \"219-555-4876\") \n",
    "print(info)\n",
    "\n",
    "# change the index values to produce the correct outputs\n",
    "print(\"Last name: \"+info[1])\n",
    "print(\"First name: \"+info[0])\n",
    "print(\"Phone number: \"+info[-1])\n",
    "print(\"Street: \"+info[2])\n",
    "print(\"City: \"+info[3])\n",
    "print(\"State: \"+info[4])\n",
    "print(\"Zip code: \"+info[5])"
   ]
  },
  {
   "cell_type": "markdown",
   "metadata": {},
   "source": [
    "## Practice 4\n",
    "Use negative indexing to display all the items in the tuple below in alphabetical order."
   ]
  },
  {
   "cell_type": "code",
   "execution_count": 6,
   "metadata": {},
   "outputs": [
    {
     "name": "stdout",
     "output_type": "stream",
     "text": [
      "Adams, Adams, Jackson, Jefferson, Madison, Monroe, Van Buren, Washington\n"
     ]
    }
   ],
   "source": [
    "info = (\"Washington\", \"Adams\", \"Jefferson\", \"Madison\", \"Monroe\", \"Adams\", \"Jackson\", \"Van Buren\")\n",
    "\n",
    "print(f\"{info[-3]}, {info[-7]}, {info[-2]}, {info[-6]}, {info[-5]}, {info[-4]}, {info[-1]}, {info[-8]}\")"
   ]
  },
  {
   "cell_type": "markdown",
   "metadata": {},
   "source": [
    "## Practice 5a\n",
    "Update the code below so that each range references only one index value.\n",
    "\n",
    "The output should not change."
   ]
  },
  {
   "cell_type": "code",
   "execution_count": 9,
   "metadata": {},
   "outputs": [
    {
     "name": "stdout",
     "output_type": "stream",
     "text": [
      "The name is:\n",
      "('Jonathan', 'Vance')\n",
      "The address is:\n",
      "('679 Birchpond Street', 'Merrillville', 'IN', '46410')\n"
     ]
    }
   ],
   "source": [
    "info = (\"Jonathan\", \"Vance\", \"679 Birchpond Street\", \"Merrillville\", \"IN\", \"46410\") \n",
    "\n",
    "# we extract only the first two elements from the tuple and store them in a new tuple\n",
    "name = info[:2]  \n",
    "print(\"The name is:\")\n",
    "print(name)\n",
    "\n",
    "# we extract only the last four elements from the tuple and store them in a new tuple\n",
    "address = info[2:] \n",
    "print(\"The address is:\")\n",
    "print(address)"
   ]
  },
  {
   "cell_type": "markdown",
   "metadata": {},
   "source": [
    "## Practice 5b\n",
    "The tuple below contains the abbreviation of all the states in the USA. \n",
    "\n",
    "Use slicing to create three new tuples: \n",
    "* One tuple that contains all states that start with N\n",
    "* One tuple that contains all states that start with O\n",
    "* One tuple that contains all states that start with A"
   ]
  },
  {
   "cell_type": "code",
   "execution_count": 12,
   "metadata": {},
   "outputs": [
    {
     "name": "stdout",
     "output_type": "stream",
     "text": [
      "States that start with N: ('NE', 'NV', 'NH', 'NJ', 'NM', 'NY', 'NC', 'ND')\n",
      "States that start with O: ('OH', 'OK', 'OR')\n",
      "States that start with A: ('AL', 'AK', 'AZ', 'AR')\n"
     ]
    }
   ],
   "source": [
    "states = (\"AL\", \"AK\", \"AZ\", \"AR\", \"CA\", \"CO\", \"CT\", \"DE\", \"FL\", \"GA\", \n",
    "          \"HI\", \"ID\", \"IL\", \"IN\", \"IA\", \"KS\", \"KY\", \"LA\", \"ME\", \"MD\", \n",
    "          \"MA\", \"MI\", \"MN\", \"MS\", \"MO\", \"MT\", \"NE\", \"NV\", \"NH\", \"NJ\", \n",
    "          \"NM\", \"NY\", \"NC\", \"ND\", \"OH\", \"OK\", \"OR\", \"PA\", \"RI\", \"SC\", \n",
    "          \"SD\", \"TN\", \"TX\", \"UT\", \"VT\", \"VA\", \"WA\", \"WV\", \"WI\", \"WY\")\n",
    "\n",
    "tupleN = states[26:34]\n",
    "print(f\"States that start with N: {tupleN}\")\n",
    "tupleO = states[34:37]\n",
    "print(f\"States that start with O: {tupleO}\")\n",
    "tupleA = states[:4]\n",
    "print(f\"States that start with A: {tupleA}\")"
   ]
  },
  {
   "cell_type": "markdown",
   "metadata": {},
   "source": [
    "## Practice 6\n",
    "Attempt each of the following tasks on the tuple defined below:\n",
    "* Add an integer representing Jonathan's age as the last item in the tuple.\n",
    "* Add the Zip code \"46410\" between the state and phone number.\n",
    "* Remove the phone number from the tuple.\n",
    "Attempt each of the tasks individually, run the code to see what happens, and then attempt the next task in the list.\n",
    "\n",
    "**Challenge**: Change the code so that the data is stored as a list rather than as a tuple and attempt each of the tasks again."
   ]
  },
  {
   "cell_type": "code",
   "execution_count": 23,
   "metadata": {},
   "outputs": [
    {
     "name": "stdout",
     "output_type": "stream",
     "text": [
      "['Jonathan', 'Vance', '679 Birchpond Street', 'Merrillville', 'IN', 46410, '219-555-4876', 31]\n",
      "['Jonathan', 'Vance', '679 Birchpond Street', 'Merrillville', 'IN', 46410, 31]\n"
     ]
    }
   ],
   "source": [
    "info = (\"Jonathan\", \"Vance\", \"679 Birchpond Street\", \"Merrillville\", \"IN\", \"219-555-4876\") \n",
    "infolist = []\n",
    "infolist += info\n",
    "infolist.append(31)\n",
    "infolist.insert(5,46410)\n",
    "del infolist[-2]\n",
    "\n",
    "print(infolist)"
   ]
  },
  {
   "cell_type": "markdown",
   "metadata": {},
   "source": [
    "## Practice 7\n",
    "Create three tuples: \n",
    "* One tuple with a person's first name and last name\n",
    "* A second tuple with the person's complete address\n",
    "* A third tuple with contact information, such as a phone number and an email address\n",
    "\n",
    "Combine all tuples into a new, single tuple that contains all of the items from the original tuples."
   ]
  },
  {
   "cell_type": "code",
   "execution_count": 24,
   "metadata": {},
   "outputs": [
    {
     "name": "stdout",
     "output_type": "stream",
     "text": [
      "('Jonathan', 'Vance', '679 Birchpond Street', 'Merrillville', 'IN', 46410, '219-555-4876', 'JonathanVance@hotmail.com')\n"
     ]
    }
   ],
   "source": [
    "name=(\"Jonathan\", \"Vance\")\n",
    "add=(\"679 Birchpond Street\", \"Merrillville\", \"IN\", 46410)\n",
    "contact=(\"219-555-4876\", \"JonathanVance@hotmail.com\")\n",
    "\n",
    "combined = name + add + contact\n",
    "print(combined)"
   ]
  },
  {
   "cell_type": "code",
   "execution_count": null,
   "metadata": {},
   "outputs": [],
   "source": []
  }
 ],
 "metadata": {
  "kernelspec": {
   "display_name": "Python 3 (ipykernel)",
   "language": "python",
   "name": "python3"
  },
  "language_info": {
   "codemirror_mode": {
    "name": "ipython",
    "version": 3
   },
   "file_extension": ".py",
   "mimetype": "text/x-python",
   "name": "python",
   "nbconvert_exporter": "python",
   "pygments_lexer": "ipython3",
   "version": "3.9.12"
  }
 },
 "nbformat": 4,
 "nbformat_minor": 2
}
