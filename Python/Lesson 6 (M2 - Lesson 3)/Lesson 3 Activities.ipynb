{
 "cells": [
  {
   "cell_type": "markdown",
   "metadata": {},
   "source": [
    "# Lesson 3 Activities\n",
    "The activities in this page allow you to demonstrate your ability to:\n",
    "* Store, retrieve, and manipulate a data collection using a dictionary with defined index values.\n",
    "* Store, retrieve, and manipulate data in a set.\n"
   ]
  },
  {
   "cell_type": "markdown",
   "metadata": {},
   "source": [
    "## Activity 1\n",
    "Create a program that sums all the values in a dictionary and displays them.\n",
    "\n",
    "For example:\n",
    "\n",
    "    dictionary = {\"hello\":4,\"world\":4,\"I\":1,\"am\":2,\"Martha\":3}\n",
    "\n",
    "output: `14` (the result of 4 + 4 + 1 + 2 + 3)"
   ]
  },
  {
   "cell_type": "code",
   "execution_count": 1,
   "metadata": {},
   "outputs": [
    {
     "name": "stdout",
     "output_type": "stream",
     "text": [
      "The sum is 14\n"
     ]
    }
   ],
   "source": [
    "dictionary = {\"hello\":4,\"world\":4,\"I\":1,\"am\":2,\"Martha\":3}\n",
    "dictSum=0\n",
    "for i in dictionary.values():\n",
    "    dictSum+=i\n",
    "print(f\"The sum is {dictSum}\")"
   ]
  },
  {
   "cell_type": "markdown",
   "metadata": {},
   "source": [
    "## Activity 2\n",
    "Write a program that displays the maximum and minimum values in a dictionary. You may use the same dictionary you used in the previous activity or create a new one."
   ]
  },
  {
   "cell_type": "code",
   "execution_count": 2,
   "metadata": {},
   "outputs": [
    {
     "name": "stdout",
     "output_type": "stream",
     "text": [
      "Minimum value is: 1\n",
      "Maximum value is: 4\n"
     ]
    }
   ],
   "source": [
    "dictionary = {\"hello\":4,\"world\":4,\"I\":1,\"am\":2,\"Martha\":3}\n",
    "print(f\"Minimum value is: {min(dictionary.values())}\")\n",
    "print(f\"Maximum value is: {max(dictionary.values())}\")"
   ]
  },
  {
   "cell_type": "markdown",
   "metadata": {},
   "source": [
    "## Activity 3\n",
    "Write a program that returns the sum of the integer elements in a set."
   ]
  },
  {
   "cell_type": "code",
   "execution_count": 11,
   "metadata": {},
   "outputs": [
    {
     "name": "stdout",
     "output_type": "stream",
     "text": [
      "6323\n"
     ]
    }
   ],
   "source": [
    "mySet={1,2,3,'hi',1,6245,21,51,'sup', True, True, False, 21.31}\n",
    "countSum=0\n",
    "for i in mySet:\n",
    "    if isinstance(i,int):\n",
    "        countSum+=i\n",
    "print(countSum)"
   ]
  },
  {
   "cell_type": "markdown",
   "metadata": {},
   "source": [
    "## Activity 4\n",
    "Write a program that computes and displays the maximum and the minimum values in a set."
   ]
  },
  {
   "cell_type": "code",
   "execution_count": 14,
   "metadata": {},
   "outputs": [
    {
     "name": "stdout",
     "output_type": "stream",
     "text": [
      "Minimum: 1\n",
      "Maximum: 6245\n"
     ]
    }
   ],
   "source": [
    "mySet={1,2,3,1,6245,21,51,21.31}\n",
    "print(f\"Minimum: {min(mySet)}\")\n",
    "print(f\"Maximum: {max(mySet)}\")"
   ]
  },
  {
   "cell_type": "markdown",
   "metadata": {},
   "source": [
    "## Activity 5\n",
    "Given the following dictionary `storage`, complete the following tasks:\n",
    "* Add a key named \"freezer\".\n",
    "* Set the value of \"freezer\" to be a list containing the items \"ice cubes\", \"ice cream\", and \"pepperoni pizza\".\n",
    "* Sort the items in the cupboard using `sort`.\n",
    "* Add \"cream\" to the fridge.\n",
    "* Remove \"sugar\" from the cupboard.\n",
    "* Subtract $25 from the emergency jar."
   ]
  },
  {
   "cell_type": "code",
   "execution_count": 18,
   "metadata": {},
   "outputs": [
    {
     "name": "stdout",
     "output_type": "stream",
     "text": [
      "{'cupboard': ['flour', 'spices'], 'drawer': ['fork', 'knife', 'spoon'], 'fridge': ['butter', 'milk', 'cheese', 'cream'], 'emergency jar': 125, 'freezer': ['ice cubes', 'ice cream', 'pepperoni pizza']}\n"
     ]
    }
   ],
   "source": [
    "storage = {\n",
    "    \"cupboard\" : [\"spices\", \"flour\", \"sugar\"],\n",
    "    \"drawer\" : [\"fork\", \"knife\", \"spoon\"],\n",
    "    \"fridge\" : [\"butter\", \"milk\", \"cheese\"],\n",
    "    \"emergency jar\" : 150\n",
    "}\n",
    "\n",
    "storage['freezer'] = ['ice cubes', 'ice cream', 'pepperoni pizza']\n",
    "storage['cupboard'].sort()\n",
    "storage['fridge'].append('cream')\n",
    "storage['cupboard'].remove('sugar')\n",
    "storage['emergency jar']-=25\n",
    "\n",
    "print(storage)"
   ]
  },
  {
   "cell_type": "markdown",
   "metadata": {},
   "source": [
    "## Activity 6\n",
    "Create a new dictionary named `shopping_list` and add the following items to the dictionary:\n",
    "\n",
    "<pre>\"milk\" : 4,\n",
    "\"butter\" : 2,\n",
    "\"crackers\" : 1.5,\n",
    "\"rice\" : 2.25,\n",
    "\"spaghetti\" : 1.75,\n",
    "\"dish soap\": 3.25</pre>\n",
    "    \n",
    "Loop through each item in the list and print out each key with its price. Print the answer in this format:\n",
    "\n",
    "<pre>milk\n",
    "price: 4</pre>\n",
    "   \n",
    "Next, calculate how much it will cost if you purchase all the items on the list.\n",
    "* Use a variable named `total_cost` to store the calculated value.\n",
    "* Loop through the dictionary and add the price of each item to the total cost.\n",
    "* After looping through the dictionary, print out the total cost in a message that is meaningful to the user."
   ]
  },
  {
   "cell_type": "code",
   "execution_count": 26,
   "metadata": {},
   "outputs": [
    {
     "name": "stdout",
     "output_type": "stream",
     "text": [
      "milk\n",
      "price: 4\n",
      "    \n",
      "butter\n",
      "price: 2\n",
      "    \n",
      "crackers\n",
      "price: 1.5\n",
      "    \n",
      "rice\n",
      "price: 2.25\n",
      "    \n",
      "spaghetti\n",
      "price: 1.75\n",
      "    \n",
      "dish soap\n",
      "price: 3.25\n",
      "    \n",
      "The total cost is 14.75\n"
     ]
    }
   ],
   "source": [
    "shopping_list = {\n",
    "    'milk':4,\n",
    "    'butter':2,\n",
    "    'crackers':1.5,\n",
    "    'rice':2.25,\n",
    "    'spaghetti':1.75,\n",
    "    'dish soap':3.25\n",
    "}\n",
    "\n",
    "for i in shopping_list:\n",
    "    print(f'''{i}\n",
    "price: {shopping_list[i]}\n",
    "    ''')\n",
    "    \n",
    "total_cost=0\n",
    "for i, j in shopping_list.items():\n",
    "    total_cost+=j\n",
    "    \n",
    "print(f\"The total cost is {total_cost}\")"
   ]
  },
  {
   "cell_type": "markdown",
   "metadata": {},
   "source": [
    "## Activity 7\n",
    "Create two dictionaries: `price` and `quantity`.\n",
    "* The `price` dictionary should be the same as the `shopping_list` dictionary in the previous activity:\n",
    "    \n",
    "<pre>\"milk\" : 4,\n",
    "\"butter\" : 2,\n",
    "\"crackers\" : 1.5,\n",
    "\"rice\" : 2.25,\n",
    "\"spaghetti\" : 1.75,\n",
    "\"dish soap\": 3.25</pre>\n",
    "\n",
    "* The `quantity` dictionary should have the same keys, but with values that represent the number of items to purchase rather than the price:\n",
    "    \n",
    "<pre>\"milk\" : 1,\n",
    "\"butter\" : 1,\n",
    "\"crackers\" : 3,\n",
    "\"rice\" : 2,\n",
    "\"spaghetti\" : 5,\n",
    "\"dish soap\": 1</pre>\n",
    "\n",
    "Write a script that loops through both dictionaries to calculate the total cost if we purchase the indicated quantity of each item in the dictionaries."
   ]
  },
  {
   "cell_type": "code",
   "execution_count": 27,
   "metadata": {},
   "outputs": [
    {
     "name": "stdout",
     "output_type": "stream",
     "text": [
      "27.0\n"
     ]
    }
   ],
   "source": [
    "price = {\n",
    "    'milk':4,\n",
    "    'butter':2,\n",
    "    'crackers':1.5,\n",
    "    'rice':2.25,\n",
    "    'spaghetti':1.75,\n",
    "    'dish soap':3.25\n",
    "}\n",
    "\n",
    "quantity = {\n",
    "    \"milk\" : 1,\n",
    "    \"butter\" : 1,\n",
    "    \"crackers\" : 3,\n",
    "    \"rice\" : 2,\n",
    "    \"spaghetti\" : 5,\n",
    "    \"dish soap\": 1\n",
    "}\n",
    "\n",
    "totalCost=0\n",
    "for i in price:\n",
    "    totalCost+=price[i]*quantity[i]\n",
    "    \n",
    "print(totalCost)"
   ]
  },
  {
   "cell_type": "code",
   "execution_count": null,
   "metadata": {},
   "outputs": [],
   "source": []
  }
 ],
 "metadata": {
  "kernelspec": {
   "display_name": "Python 3 (ipykernel)",
   "language": "python",
   "name": "python3"
  },
  "language_info": {
   "codemirror_mode": {
    "name": "ipython",
    "version": 3
   },
   "file_extension": ".py",
   "mimetype": "text/x-python",
   "name": "python",
   "nbconvert_exporter": "python",
   "pygments_lexer": "ipython3",
   "version": "3.9.12"
  }
 },
 "nbformat": 4,
 "nbformat_minor": 2
}
