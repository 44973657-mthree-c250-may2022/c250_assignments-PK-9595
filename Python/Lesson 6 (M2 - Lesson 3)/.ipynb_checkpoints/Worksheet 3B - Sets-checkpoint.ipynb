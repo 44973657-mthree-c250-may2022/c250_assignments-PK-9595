{
 "cells": [
  {
   "cell_type": "markdown",
   "metadata": {},
   "source": [
    "# Worksheet 3B: Sets\n",
    "This worksheet corresponds to *Lesson 3B: Sets* in the online course. Refer to that lesson as necessary to complete these practice exercises."
   ]
  },
  {
   "cell_type": "markdown",
   "metadata": {},
   "source": [
    "## Practice 1\n",
    "Create a set that contains a collection of your favorite fruits. "
   ]
  },
  {
   "cell_type": "code",
   "execution_count": 2,
   "metadata": {},
   "outputs": [
    {
     "name": "stdout",
     "output_type": "stream",
     "text": [
      "{'dragonfruit', 'durian', 'banana', 'grapes', 'watermelon', 'kiwi'}\n"
     ]
    }
   ],
   "source": [
    "favFruits = {'banana', 'watermelon', 'grapes', 'kiwi', 'dragonfruit', 'durian'}\n",
    "print(favFruits)"
   ]
  },
  {
   "cell_type": "markdown",
   "metadata": {},
   "source": [
    "## Practice 2\n",
    "Using the set of fruits you created in the previous exercise, retrieve the items from the set so that each item appears on a separate line in the output."
   ]
  },
  {
   "cell_type": "code",
   "execution_count": 9,
   "metadata": {},
   "outputs": [
    {
     "name": "stdout",
     "output_type": "stream",
     "text": [
      "dragonfruit\n",
      "durian\n",
      "banana\n",
      "grapes\n",
      "watermelon\n",
      "kiwi\n"
     ]
    }
   ],
   "source": [
    "for i in favFruits:\n",
    "    print(i)"
   ]
  },
  {
   "cell_type": "markdown",
   "metadata": {},
   "source": [
    "## Practice 4\n",
    "Create a set with at least three fruit items in it and print it. Then add at least three more items to the set and print the updated set."
   ]
  },
  {
   "cell_type": "code",
   "execution_count": 13,
   "metadata": {},
   "outputs": [
    {
     "name": "stdout",
     "output_type": "stream",
     "text": [
      "{'pear', 'apple', 'soursop'}\n",
      "{'pear', 'grape', 'apple', 'soursop', 'kiwi', 'mangosteen'}\n"
     ]
    }
   ],
   "source": [
    "fruits = {'pear', 'apple', 'soursop'}\n",
    "print(fruits)\n",
    "fruits.update({'grape', 'kiwi', 'mangosteen'})\n",
    "print(fruits)"
   ]
  },
  {
   "cell_type": "markdown",
   "metadata": {},
   "source": [
    "## Practice 4a\n",
    "Use the `add()` method to convert the `names` list into a set called `names_set`. \n",
    "\n",
    "Use the following steps:\n",
    "* Create a new empty set.\n",
    "* Add the items from the list to the new set.\n",
    "* Print the set when it is complete."
   ]
  },
  {
   "cell_type": "code",
   "execution_count": 17,
   "metadata": {},
   "outputs": [
    {
     "name": "stdout",
     "output_type": "stream",
     "text": [
      "['Robert', 'Mark', 'Nick', 'Jenny']\n",
      "{'Jenny', 'Mark', 'Robert', 'Nick'}\n"
     ]
    }
   ],
   "source": [
    "names = [\"Robert\", \"Mark\", \"Nick\", \"Jenny\"] # do not change this\n",
    "print(names)\n",
    "\n",
    "names_set=set()\n",
    "for i in names:\n",
    "    names_set.add(i)\n",
    "print(names_set)\n"
   ]
  },
  {
   "cell_type": "markdown",
   "metadata": {},
   "source": [
    "## Practice 4b\n",
    "Fix the errors in following code. Do not remove any existing instructions or add new instructions."
   ]
  },
  {
   "cell_type": "code",
   "execution_count": 21,
   "metadata": {
    "scrolled": true
   },
   "outputs": [
    {
     "name": "stdout",
     "output_type": "stream",
     "text": [
      "{'Jenny', 'Mark', 'Robert', 'Nick'}\n",
      "{'Jenny', 'Mark', 'Robert', 'Nick'}\n"
     ]
    }
   ],
   "source": [
    "names = {\"Robert\", \"Mark\", \"Nick\", \"Jenny\"}\n",
    "print(names)\n",
    "         \n",
    "another_set = set()\n",
    "another_set = names\n",
    "print(another_set)"
   ]
  },
  {
   "cell_type": "markdown",
   "metadata": {},
   "source": [
    "## Practice 5\n",
    "Convert the `names` list into a set called `names_set` and print the set. "
   ]
  },
  {
   "cell_type": "code",
   "execution_count": 23,
   "metadata": {},
   "outputs": [
    {
     "name": "stdout",
     "output_type": "stream",
     "text": [
      "{'Jenny', 'Nancy', 'Mark', 'Robert'}\n"
     ]
    }
   ],
   "source": [
    "names = [\"Robert\", \"Mark\", \"Nancy\", \"Robert\", \"Mark\", \"Jenny\", \"Robert\"] # do not change this line of code\n",
    "names_set=set(names)\n",
    "print(names_set)\n",
    "\n",
    "# your code here"
   ]
  },
  {
   "cell_type": "markdown",
   "metadata": {},
   "source": [
    "## Practice 6\n",
    "Create a program that performs the following steps:\n",
    "1. Prompt the user for a state abbreviation.\n",
    "2. Return a success message if the user entered a valid state abbreviation.\n",
    "3. Return an error message if the user entered an invalid state abbreviation.\n",
    "\n",
    "The final version of the code should support both uppercase and lowercase input. For example, the user should be able to input \"FL,\" \"Fl,\" \"fL,\" or \"fl\" and get the same response."
   ]
  },
  {
   "cell_type": "code",
   "execution_count": 25,
   "metadata": {},
   "outputs": [
    {
     "name": "stdout",
     "output_type": "stream",
     "text": [
      "Please enter a state abbreviation: al\n",
      "well done\n"
     ]
    }
   ],
   "source": [
    "states_abbrev = {\"AL\", \"AK\", \"AZ\", \"AR\", \"CA\", \"CO\", \"CT\", \"DE\", \"FL\", \"GA\", \n",
    "          \"HI\", \"ID\", \"IL\", \"IN\", \"IA\", \"KS\", \"KY\", \"LA\", \"ME\", \"MD\", \n",
    "          \"MA\", \"MI\", \"MN\", \"MS\", \"MO\", \"MT\", \"NE\", \"NV\", \"NH\", \"NJ\", \n",
    "          \"NM\", \"NY\", \"NC\", \"ND\", \"OH\", \"OK\", \"OR\", \"PA\", \"RI\", \"SC\", \n",
    "          \"SD\", \"TN\", \"TX\", \"UT\", \"VT\", \"VA\", \"WA\", \"WV\", \"WI\", \"WY\"}\n",
    "\n",
    "userInput = input(\"Please enter a state abbreviation: \").upper()\n",
    "if userInput in states_abbrev:\n",
    "    print(\"well done\")\n",
    "else:\n",
    "    raise Exception(\"That wasn't a valid state abbreviation!\")"
   ]
  },
  {
   "cell_type": "markdown",
   "metadata": {},
   "source": [
    "## Practice 7\n",
    "Create a script that keeps asking the user for input until the user enters \"quit\" (uppercase or lowercase).\n",
    "* Each input value should be added to a set. \n",
    "* When the user enters \"quit,\" the program should display all distinct values entered by the user, with each word on a separate line."
   ]
  },
  {
   "cell_type": "code",
   "execution_count": 27,
   "metadata": {},
   "outputs": [
    {
     "name": "stdout",
     "output_type": "stream",
     "text": [
      "Please enter something (or enter 'quit' to exit): 2529\n",
      "Please enter something (or enter 'quit' to exit): 261\n",
      "Please enter something (or enter 'quit' to exit): 3218\n",
      "Please enter something (or enter 'quit' to exit): sad\n",
      "Please enter something (or enter 'quit' to exit): qui\n",
      "Please enter something (or enter 'quit' to exit): QuIt\n",
      "qui\n",
      "2529\n",
      "3218\n",
      "sad\n",
      "261\n"
     ]
    }
   ],
   "source": [
    "userSet=set()\n",
    "while True:\n",
    "    userInput = input(\"Please enter something (or enter 'quit' to exit): \")\n",
    "    if userInput.lower()=='quit':\n",
    "        break\n",
    "    else:\n",
    "        userSet.add(userInput)\n",
    "\n",
    "for i in userSet:\n",
    "    print(i)"
   ]
  },
  {
   "cell_type": "markdown",
   "metadata": {},
   "source": [
    "## Practice 8\n",
    "Create a program that performs the following steps:\n",
    "1. Prompt the user for an integer.\n",
    "1. Ask the user to enter that many words.\n",
    "1. Display the set of words provided by the user.\n",
    "\n",
    "For example, if the user enters 5, the program will ask the user for 5 different words that it will store in a set. \n",
    "\n",
    "When the user finishes entering the items of the set, the program displays the set to the user."
   ]
  },
  {
   "cell_type": "code",
   "execution_count": 29,
   "metadata": {},
   "outputs": [
    {
     "name": "stdout",
     "output_type": "stream",
     "text": [
      "Please enter an integer: 6\n",
      "Now enter a word (6 more words required): hello\n",
      "Now enter a word (5 more words required): my\n",
      "Now enter a word (4 more words required): dear\n",
      "Now enter a word (3 more words required): friend\n",
      "Now enter a word (2 more words required): what's\n",
      "Now enter a word (1 more words required): up\n",
      "Your set: {'up', \"what's\", 'hello', 'friend', 'dear', 'my'}\n"
     ]
    }
   ],
   "source": [
    "userInt = int(input(\"Please enter an integer: \"))\n",
    "userSet = set()\n",
    "for i in range(userInt):\n",
    "    word = input(f\"Now enter a word ({userInt - i} more words required): \")\n",
    "    userSet.add(word)\n",
    "print(f\"Your set: {userSet}\")"
   ]
  },
  {
   "cell_type": "markdown",
   "metadata": {},
   "source": [
    "## Practice 9\n",
    "Complete the code below, using the `in` operator and the `remove()` method, to create a script that will remove items from a set.\n",
    "* If the item exists, remove the item and display the current set with the item removed.\n",
    "* If the item does **not** exist, display an appropriate, user-friendly message and list the items currently in the set.\n",
    "\n",
    "The program should **not** throw an error if the item doesn't exist. This means that the script should check if the item exists in the set and remove the item only if it is included in the current set."
   ]
  },
  {
   "cell_type": "code",
   "execution_count": 33,
   "metadata": {},
   "outputs": [
    {
     "name": "stdout",
     "output_type": "stream",
     "text": [
      "What do you want to remove?: pizza\n",
      "pizza has been removed!\n",
      "{'pasta', 'hotdog', 'burger'}\n"
     ]
    }
   ],
   "source": [
    "toRemove = input(\"What do you want to remove?: \")\n",
    "food = {\"pasta\", \"burger\", \"hotdog\", \"pizza\"}\n",
    "\n",
    "if toRemove in food:\n",
    "    food.remove(toRemove)\n",
    "    print(f\"{toRemove} has been removed!\")\n",
    "else:\n",
    "    print(\"That food does not exist here\")\n",
    "# the remove shouldn't throw an error. \n",
    "# food.remove(\"taco\")\n",
    "print(food)"
   ]
  },
  {
   "cell_type": "markdown",
   "metadata": {},
   "source": [
    "## Practice 10\n",
    "Update the following code to include a user prompt. \n",
    "* If the user inputs a string that corresponds to the variable name of one of the sets below, clear the set using the `clear()` method.\n",
    "* If there is no set that matches the user input, display an error message that the set doesn't exist. "
   ]
  },
  {
   "cell_type": "code",
   "execution_count": 49,
   "metadata": {},
   "outputs": [
    {
     "name": "stdout",
     "output_type": "stream",
     "text": [
      "Please enter a string: kiwi\n",
      "kiwi found in {'banana', 'peanut butter', 'kiwi'}, clearing set...\n",
      "{'blueberry', 'banana', 'spinach'} {'pistachio', 'cocoa powder', 'strawberry'} set()\n"
     ]
    }
   ],
   "source": [
    "shake_1 = {\"banana\", \"blueberry\", \"spinach\"}\n",
    "shake_2 = {\"strawberry\", \"pistachio\", \"cocoa powder\"}\n",
    "shake_3 = {\"kiwi\", \"banana\", \"peanut butter\"}\n",
    "\n",
    "userInput = input(\"Please enter a string: \")\n",
    "for i in [shake_1, shake_2, shake_3]:\n",
    "    if userInput in i:\n",
    "        print(f\"{userInput} found in {i}, clearing set...\")\n",
    "        i.clear()\n",
    "        break\n",
    "else:\n",
    "    print(\"No set matches the user input\")\n",
    "    \n",
    "print(shake_1,shake_2,shake_3)"
   ]
  },
  {
   "cell_type": "markdown",
   "metadata": {},
   "source": [
    "## Practice 11\n",
    "Create a script that performs the following steps:\n",
    "* Display the set to the user along with the number of items in the set.\n",
    "* If there are no items in the set, display an output message to that effect and end the script.\n",
    "* Ask the user if they want to remove an item from the set.\n",
    "* If the user says yes:\n",
    "    * Verify that there is at least one item in the set.\n",
    "    * Remove a random item from the set.\n",
    "    * Display the updated set to the user.\n",
    "    * Prompt the user to remove another item.\n",
    "* If the user says no, end the script.\n",
    "\n",
    "You cannot use the `clear()`, `remove()`, or `discard()` methods in your solution. "
   ]
  },
  {
   "cell_type": "code",
   "execution_count": 46,
   "metadata": {},
   "outputs": [
    {
     "name": "stdout",
     "output_type": "stream",
     "text": [
      "The set: {'pasta', 'hotdog', 'pizza', 'burger'} has 4 items.\n",
      "Do you wish to remove an item?(YES/NO): yes\n",
      "The updated set is {'hotdog', 'pizza', 'burger'}\n",
      "Do you wish to remove an item?(YES/NO): yes\n",
      "The updated set is {'pizza', 'burger'}\n",
      "Do you wish to remove an item?(YES/NO): yes\n",
      "The updated set is {'burger'}\n",
      "Do you wish to remove an item?(YES/NO): yes\n",
      "The updated set is set()\n",
      "Do you wish to remove an item?(YES/NO): yes\n",
      "There's nothing left to remove...\n",
      "The updated set is: set()\n"
     ]
    }
   ],
   "source": [
    "food = {\"pasta\", \"burger\", \"hotdog\", \"pizza\"}\n",
    "print(f\"The set: {food} has {len(food)} items.\")\n",
    "while True:\n",
    "    reply = input(\"Do you wish to remove an item?(YES/NO): \").upper()\n",
    "    if reply == \"YES\":\n",
    "        if len(food)>0:\n",
    "            food.pop()\n",
    "            print(f\"The updated set is {food}\")\n",
    "        else:\n",
    "            print(\"There's nothing left to remove...\")\n",
    "            break\n",
    "    elif reply == \"NO\":\n",
    "        break\n",
    "    else:\n",
    "        print(\"Invalid response. Let's try again.\")\n",
    "\n",
    "print(f\"The updated set is: {food}\")\n",
    "# your code here"
   ]
  },
  {
   "cell_type": "markdown",
   "metadata": {},
   "source": [
    "## Practice 12\n",
    "Complete the code below to ask the user for input. \n",
    "* If the user inputs a string that corresponds to the variable name of one of the sets below, delete that set using `del`.\n",
    "* If there is no set with that name, display an error message that the set doesn't exist. "
   ]
  },
  {
   "cell_type": "code",
   "execution_count": 52,
   "metadata": {},
   "outputs": [
    {
     "name": "stdout",
     "output_type": "stream",
     "text": [
      "Please enter a string: kiwi\n",
      "kiwi found in {'banana', 'peanut butter', 'kiwi'}, clearing set...\n"
     ]
    }
   ],
   "source": [
    "shake_1 = {\"banana\", \"blueberry\", \"spinach\"}\n",
    "shake_2 = {\"strawberry\", \"pistachio\", \"cocoa powder\"}\n",
    "shake_3 = {\"kiwi\", \"banana\", \"peanut butter\"}\n",
    "\n",
    "userInput = input(\"Please enter a string: \")\n",
    "\n",
    "if userInput in shake_1:\n",
    "    print(f\"{userInput} found in {shake_1}, clearing set...\")\n",
    "    del shake_1\n",
    "elif userInput in shake_2:\n",
    "    print(f\"{userInput} found in {shake_2}, clearing set...\")\n",
    "    del shake_2\n",
    "elif userInput in shake_3:\n",
    "    print(f\"{userInput} found in {shake_3}, clearing set...\")\n",
    "    del shake_3\n",
    "else:\n",
    "    print(\"No set matches the user input\")\n",
    "    "
   ]
  },
  {
   "cell_type": "markdown",
   "metadata": {},
   "source": [
    "## Practice 13\n",
    "Create a script that performs the following steps:\n",
    "* Prompt the user for the abbreviation of a state they have visited and store the value in a new set.\n",
    "* Repeat the prompt and continue storing values in the same set until the user enters \"done\" (in uppercase or lowercase).\n",
    "* After the user enters \"done,\" display a list of abbreviations for the states that the user has **not** visited yet, using the `states_abbrev` set below and the `difference()` method. \n",
    "\n",
    "**Tip**: It's always a good idea to tell the user how to get out of a loop!"
   ]
  },
  {
   "cell_type": "code",
   "execution_count": 56,
   "metadata": {},
   "outputs": [
    {
     "name": "stdout",
     "output_type": "stream",
     "text": [
      "Enter the abbreviation of a state you have visited (or press enter to end session): AL\n",
      "Enter the abbreviation of a state you have visited (or press enter to end session): AK\n",
      "Enter the abbreviation of a state you have visited (or press enter to end session): az\n",
      "Enter the abbreviation of a state you have visited (or press enter to end session): ar\n",
      "Enter the abbreviation of a state you have visited (or press enter to end session): va\n",
      "Enter the abbreviation of a state you have visited (or press enter to end session): co\n",
      "Enter the abbreviation of a state you have visited (or press enter to end session): wa\n",
      "Enter the abbreviation of a state you have visited (or press enter to end session): wv\n",
      "Enter the abbreviation of a state you have visited (or press enter to end session): wi\n",
      "Enter the abbreviation of a state you have visited (or press enter to end session): wy\n",
      "Enter the abbreviation of a state you have visited (or press enter to end session): \n",
      "\n",
      "The states you have not yet visited are\n",
      "{'VT', 'TX', 'OH', 'RI', 'NM', 'KS', 'NV', 'SD', 'NJ', 'ID', 'UT', 'MS', 'DE', 'PA', 'HI', 'LA', 'MN', 'IL', 'MD', 'KY', 'ME', 'MT', 'TN', 'OR', 'NE', 'SC', 'CT', 'MI', 'NY', 'MO', 'FL', 'NH', 'NC', 'IA', 'GA', 'MA', 'OK', 'IN', 'CA', 'ND'}\n"
     ]
    }
   ],
   "source": [
    "states_abbrev = {\"AL\", \"AK\", \"AZ\", \"AR\", \"CA\", \"CO\", \"CT\", \"DE\", \"FL\", \"GA\", \n",
    "          \"HI\", \"ID\", \"IL\", \"IN\", \"IA\", \"KS\", \"KY\", \"LA\", \"ME\", \"MD\", \n",
    "          \"MA\", \"MI\", \"MN\", \"MS\", \"MO\", \"MT\", \"NE\", \"NV\", \"NH\", \"NJ\", \n",
    "          \"NM\", \"NY\", \"NC\", \"ND\", \"OH\", \"OK\", \"OR\", \"PA\", \"RI\", \"SC\", \n",
    "          \"SD\", \"TN\", \"TX\", \"UT\", \"VT\", \"VA\", \"WA\", \"WV\", \"WI\", \"WY\"}\n",
    "\n",
    "visited=set()\n",
    "while True:\n",
    "    userInput = input(\"Enter the abbreviation of a state you have visited (or press enter to end session): \").upper()\n",
    "    if len(userInput)>1:\n",
    "        visited.add(userInput)\n",
    "    else:\n",
    "        break\n",
    "print(f'''\n",
    "The states you have not yet visited are\n",
    "{states_abbrev.difference(visited)}''')"
   ]
  },
  {
   "cell_type": "markdown",
   "metadata": {},
   "source": [
    "## Practice 14\n",
    "The following code includes a set of state abbreviations representing states that Mary has visited. Update the code to include the following steps:\n",
    "* Prompt the user for the abbreviation of a state they have visited and store the value in a new set.\n",
    "* Repeat the prompt and continue storing values in the same set until the user enters \"done\" (in uppercase or lowercase).\n",
    "* Display a list of the states that both the user and Mary have visited, or display a meaningful message if the user has not visited any of the states that Mary has visited. "
   ]
  },
  {
   "cell_type": "code",
   "execution_count": 57,
   "metadata": {},
   "outputs": [
    {
     "name": "stdout",
     "output_type": "stream",
     "text": [
      "Enter the abbreviation of a state you have visited (or press enter to end session): az\n",
      "Enter the abbreviation of a state you have visited (or press enter to end session): ca\n",
      "Enter the abbreviation of a state you have visited (or press enter to end session): tn\n",
      "Enter the abbreviation of a state you have visited (or press enter to end session): \n",
      "You and mary have both visited the following states: {'CA', 'TN', 'AZ'}\n"
     ]
    }
   ],
   "source": [
    "mary_states = {\"AZ\", \"CA\", \"FL\", \"GA\", \"IN\", \n",
    "              \"KY\", \"MA\", \"NV\", \"NY\", \"NC\",\n",
    "              \"PA\", \"SC\", \"TN\"}\n",
    "\n",
    "visited=set()\n",
    "while True:\n",
    "    userInput = input(\"Enter the abbreviation of a state you have visited (or press enter to end session): \").upper()\n",
    "    if len(userInput)>1:\n",
    "        visited.add(userInput)\n",
    "    else:\n",
    "        break\n",
    "        \n",
    "same = visited.intersection(mary_states)\n",
    "if len(same)>0:\n",
    "    print(f\"You and Mary have both visited the following states: {same}\")\n",
    "else:\n",
    "    print(\"You have not visited any of the states that Mary has visited.\")"
   ]
  },
  {
   "cell_type": "markdown",
   "metadata": {},
   "source": [
    "## Practice 15\n",
    "The following code includes a set of the states that Mary has visited. Update the code to perform the following steps:\n",
    "* Prompt the user for the abbreviation of a state they have visited and store the value in a new set.\n",
    "* Repeat the prompt and continue storing values in the same set until the user enters \"done\" (in uppercase or lowercase).\n",
    "* Display a list of the states that either the user or Mary has visited. "
   ]
  },
  {
   "cell_type": "code",
   "execution_count": 60,
   "metadata": {},
   "outputs": [
    {
     "name": "stdout",
     "output_type": "stream",
     "text": [
      "Enter the abbreviation of a state you have visited (or enter 'done' to end session): ZZ\n",
      "Enter the abbreviation of a state you have visited (or enter 'done' to end session): XX\n",
      "Enter the abbreviation of a state you have visited (or enter 'done' to end session): done\n",
      "{'NC', 'KY', 'TN', 'GA', 'MA', 'SC', 'ZZ', 'PA', 'XX', 'IN', 'AZ', 'CA', 'NY', 'FL', 'NV'}\n"
     ]
    }
   ],
   "source": [
    "mary_states = {\"AZ\", \"CA\", \"FL\", \"GA\", \"IN\", \n",
    "              \"KY\", \"MA\", \"NV\", \"NY\", \"NC\",\n",
    "              \"PA\", \"SC\", \"TN\"}\n",
    "\n",
    "visited = set()\n",
    "while True:\n",
    "    userInput = input(\"Enter the abbreviation of a state you have visited (or enter 'done' to end session): \").upper()\n",
    "    if userInput == 'DONE':\n",
    "        break\n",
    "    visited.add(userInput)\n",
    "\n",
    "print(f\"{visited.union(mary_states)}\")"
   ]
  },
  {
   "cell_type": "code",
   "execution_count": null,
   "metadata": {},
   "outputs": [],
   "source": []
  }
 ],
 "metadata": {
  "kernelspec": {
   "display_name": "Python 3 (ipykernel)",
   "language": "python",
   "name": "python3"
  },
  "language_info": {
   "codemirror_mode": {
    "name": "ipython",
    "version": 3
   },
   "file_extension": ".py",
   "mimetype": "text/x-python",
   "name": "python",
   "nbconvert_exporter": "python",
   "pygments_lexer": "ipython3",
   "version": "3.9.12"
  }
 },
 "nbformat": 4,
 "nbformat_minor": 2
}
