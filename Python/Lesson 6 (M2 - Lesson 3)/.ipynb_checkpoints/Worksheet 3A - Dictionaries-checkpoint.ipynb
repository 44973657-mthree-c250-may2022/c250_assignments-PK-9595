{
 "cells": [
  {
   "cell_type": "markdown",
   "metadata": {},
   "source": [
    "# Worksheet 3A: Dictionaries\n",
    "This worksheet corresponds to *Lesson 3A: Dictionaries* in the online course. Refer to that lesson as necessary to complete these practice exercises."
   ]
  },
  {
   "cell_type": "markdown",
   "metadata": {},
   "source": [
    "## Practice 1a\n",
    "Starting with the dictionary below, add another record with the same key as an existing record, such as \"X10001\": \"Mary\". Before running the updated code, predict what you think will happen, keeping in mind that a dictionary cannot include the same key in more than one record.\n",
    "\n",
    "Was your prediction correct?"
   ]
  },
  {
   "cell_type": "code",
   "execution_count": 1,
   "metadata": {},
   "outputs": [
    {
     "name": "stdout",
     "output_type": "stream",
     "text": [
      "{'X10000': 'Michael', 'X10002': 'Neil', 'X10001': 'Mary'}\n"
     ]
    }
   ],
   "source": [
    "students_dict = dict()\n",
    "students_dict['X10000'] = 'Michael' #Assign the key X10000,the value Michael\n",
    "students_dict['X10002'] = 'Neil' #Assign the key X10002,the value Neil\n",
    "students_dict['X10001'] = 'Karen' #Assign the key X10001,the value Karen\n",
    "students_dict['X10001'] = 'Mary' #Predict it'll overwrite\n",
    "\n",
    "print(students_dict) #My prediction is correct"
   ]
  },
  {
   "cell_type": "markdown",
   "metadata": {},
   "source": [
    "## Practice 1b\n",
    "Create a dictionary that contains key-value pairs of your choice. The dictionary should have at least four key-value pairs. Make sure to use meaningful keys and values, so you would eventually be able to look up a value using its key.\n",
    "\n",
    "Suggestions include:\n",
    "* Names and phone numbers\n",
    "* Menu prices\n",
    "* RPG players and roles\n",
    "* Text acronyms and their meanings\n",
    "\n",
    "Remember that each key must be unique in the dictionary. However, key-value pairs can be added in any order."
   ]
  },
  {
   "cell_type": "code",
   "execution_count": 2,
   "metadata": {},
   "outputs": [
    {
     "name": "stdout",
     "output_type": "stream",
     "text": [
      "{'kebab': 5, 'burrito': 6.8, 'quesadilla': 7.8, 'burrito bowl': 7}\n"
     ]
    }
   ],
   "source": [
    "myDict = {'kebab': 5,\n",
    "         'burrito' : 6.8,\n",
    "         'quesadilla' : 7.8,\n",
    "         'burrito bowl':7}\n",
    "\n",
    "print(myDict)\n"
   ]
  },
  {
   "cell_type": "markdown",
   "metadata": {},
   "source": [
    "## Practice 2\n",
    "Use the two lists below to create a dictionary where the state abbreviations are used as keys and the values are the respective populations. \n",
    "\n",
    "The state and population lists are in the same order, e.g.,  CA has a population of 39557045.\n",
    "\n",
    "After creating the dictionary, retrieve the population of each state individually."
   ]
  },
  {
   "cell_type": "code",
   "execution_count": 3,
   "metadata": {},
   "outputs": [
    {
     "name": "stdout",
     "output_type": "stream",
     "text": [
      "Population of CA is 39557045\n",
      "Population of NY is 19542209\n",
      "Population of KY is 4468402\n"
     ]
    }
   ],
   "source": [
    "states = ['CA', 'NY', 'KY']\n",
    "population  = [39557045,19542209,4468402]\n",
    "\n",
    "stateDict={}\n",
    "for i in range(len(states)):\n",
    "    stateDict[states[i]]=population[i]\n",
    "    \n",
    "print(f\"Population of CA is {stateDict['CA']}\")\n",
    "print(f\"Population of NY is {stateDict['NY']}\")\n",
    "print(f\"Population of KY is {stateDict['KY']}\")\n",
    "\n",
    "# your code here"
   ]
  },
  {
   "cell_type": "markdown",
   "metadata": {},
   "source": [
    "## Practice 3\n",
    "Write a script that creates a dictionary and then uses a `for` loop to display the individual values in the dictionary.\n",
    "\n",
    "You can use the practice dictionary you created earlier in this lesson, if you wish."
   ]
  },
  {
   "cell_type": "code",
   "execution_count": 5,
   "metadata": {},
   "outputs": [
    {
     "name": "stdout",
     "output_type": "stream",
     "text": [
      "The price of kebab is 5 dollars.\n",
      "The price of burrito is 6.8 dollars.\n",
      "The price of quesadilla is 7.8 dollars.\n",
      "The price of burrito bowl is 7 dollars.\n"
     ]
    }
   ],
   "source": [
    "myDict = {'kebab': 5,\n",
    "         'burrito' : 6.8,\n",
    "         'quesadilla' : 7.8,\n",
    "         'burrito bowl':7}\n",
    "\n",
    "for i,j in myDict.items():\n",
    "    print(f\"The price of a {i} is {j} dollars.\")"
   ]
  },
  {
   "cell_type": "markdown",
   "metadata": {},
   "source": [
    "## Practice 4\n",
    "Create a program that asks the user for a series of key-value pairs and assigns each pair to the same dictionary. Display the contents of the dictionary in  the last step, in the format \"key: value,\" with each key-value pair on a separate line."
   ]
  },
  {
   "cell_type": "code",
   "execution_count": 16,
   "metadata": {},
   "outputs": [
    {
     "name": "stdout",
     "output_type": "stream",
     "text": [
      "Enter key-value pair in the format 'key:value': burrito:6.8\n",
      "Enter key-value pair in the format 'key:value': laksa:3.5\n",
      "Enter key-value pair in the format 'key:value': kebab:5\n",
      "Enter key-value pair in the format 'key:value': oyster:8\n",
      "Enter key-value pair in the format 'key:value': pizza:15\n",
      "Enter key-value pair in the format 'key:value': \n",
      "\n",
      "burrito:6.8\n",
      "laksa:3.5\n",
      "kebab:5\n",
      "oyster:8\n",
      "pizza:15\n"
     ]
    }
   ],
   "source": [
    "userDict={}\n",
    "item = input(\"Enter key-value pair in the format 'key:value': \").split(':')\n",
    "\n",
    "while len(item)>1:\n",
    "    userDict[item[0]]=item[1]\n",
    "    item = input(\"Enter key-value pair in the format 'key:value': \").split(':')\n",
    "\n",
    "print('')\n",
    "for i in userDict:\n",
    "    print(f\"{i}:{userDict[i]}\")\n",
    "    "
   ]
  },
  {
   "cell_type": "markdown",
   "metadata": {},
   "source": [
    "## Practice 5\n",
    "The code below includes two lists: one for each state's abbreviation and the other for the full name of each state. Each list presents the states in the same order.\n",
    "\n",
    "Transform the lists into a single dictionary of key-value pairs, where:\n",
    "* The key is the state abbreviation\n",
    "* The value is the full state name\n",
    "\n",
    "Print the list of states from the dictionary, displaying both the abbreviation and the name of the state in the output."
   ]
  },
  {
   "cell_type": "code",
   "execution_count": 20,
   "metadata": {},
   "outputs": [
    {
     "name": "stdout",
     "output_type": "stream",
     "text": [
      "AL is the abbreviation of Alabama.\n",
      "AK is the abbreviation of Alaska.\n",
      "AZ is the abbreviation of Arizona.\n",
      "AR is the abbreviation of Arkansas.\n",
      "CA is the abbreviation of California.\n",
      "CO is the abbreviation of Colorado.\n",
      "CT is the abbreviation of Connecticut.\n",
      "DE is the abbreviation of Delaware.\n",
      "FL is the abbreviation of Florida.\n",
      "GA is the abbreviation of Georgia.\n",
      "HI is the abbreviation of Hawaii.\n",
      "ID is the abbreviation of Idaho.\n",
      "IL is the abbreviation of Illinois.\n",
      "IN is the abbreviation of Indiana.\n",
      "IA is the abbreviation of Iowa.\n",
      "KS is the abbreviation of Kansas.\n",
      "KY is the abbreviation of Kentucky.\n",
      "LA is the abbreviation of Louisiana.\n",
      "ME is the abbreviation of Maine.\n",
      "MD is the abbreviation of Maryland.\n",
      "MA is the abbreviation of Massachusetts.\n",
      "MI is the abbreviation of Michigan.\n",
      "MN is the abbreviation of Minnesota.\n",
      "MS is the abbreviation of Mississippi.\n",
      "MO is the abbreviation of Missouri.\n",
      "MT is the abbreviation of Montana.\n",
      "NE is the abbreviation of Nebraska.\n",
      "NV is the abbreviation of Nevada.\n",
      "NH is the abbreviation of New Hampshire.\n",
      "NJ is the abbreviation of New Jersey.\n",
      "NM is the abbreviation of New Mexico.\n",
      "NY is the abbreviation of New York.\n",
      "NC is the abbreviation of North Carolina.\n",
      "ND is the abbreviation of North Dakota.\n",
      "OH is the abbreviation of Ohio.\n",
      "OK is the abbreviation of Oklahoma.\n",
      "OR is the abbreviation of Oregon.\n",
      "PA is the abbreviation of Pennsylvania.\n",
      "RI is the abbreviation of Rhode Island.\n",
      "SC is the abbreviation of South Carolina.\n",
      "SD is the abbreviation of South Dakota.\n",
      "TN is the abbreviation of Tennessee.\n",
      "TX is the abbreviation of Texas.\n",
      "UT is the abbreviation of Utah.\n",
      "VT is the abbreviation of Vermont.\n",
      "VA is the abbreviation of Virginia.\n",
      "WA is the abbreviation of Washington.\n",
      "WV is the abbreviation of West Virginia.\n",
      "WI is the abbreviation of Wisconsin.\n",
      "WY is the abbreviation of Wyoming.\n"
     ]
    }
   ],
   "source": [
    "states_abbrev = [\"AL\", \"AK\", \"AZ\", \"AR\", \"CA\", \"CO\", \"CT\", \"DE\", \"FL\", \"GA\", \n",
    "          \"HI\", \"ID\", \"IL\", \"IN\", \"IA\", \"KS\", \"KY\", \"LA\", \"ME\", \"MD\", \n",
    "          \"MA\", \"MI\", \"MN\", \"MS\", \"MO\", \"MT\", \"NE\", \"NV\", \"NH\", \"NJ\", \n",
    "          \"NM\", \"NY\", \"NC\", \"ND\", \"OH\", \"OK\", \"OR\", \"PA\", \"RI\", \"SC\", \n",
    "          \"SD\", \"TN\", \"TX\", \"UT\", \"VT\", \"VA\", \"WA\", \"WV\", \"WI\", \"WY\"]\n",
    "\n",
    "states_full = [\"Alabama\", \"Alaska\", \"Arizona\", \"Arkansas\", \"California\", \"Colorado\",\n",
    "  \"Connecticut\", \"Delaware\", \"Florida\", \"Georgia\", \"Hawaii\", \"Idaho\", \"Illinois\",\n",
    "  \"Indiana\", \"Iowa\", \"Kansas\", \"Kentucky\", \"Louisiana\", \"Maine\", \"Maryland\",\n",
    "  \"Massachusetts\", \"Michigan\", \"Minnesota\", \"Mississippi\", \"Missouri\", \"Montana\",\n",
    "  \"Nebraska\", \"Nevada\", \"New Hampshire\", \"New Jersey\", \"New Mexico\", \"New York\",\n",
    "  \"North Carolina\", \"North Dakota\", \"Ohio\", \"Oklahoma\", \"Oregon\", \"Pennsylvania\",\n",
    "  \"Rhode Island\", \"South Carolina\", \"South Dakota\", \"Tennessee\", \"Texas\", \"Utah\",\n",
    "  \"Vermont\", \"Virginia\", \"Washington\", \"West Virginia\", \"Wisconsin\", \"Wyoming\"]\n",
    "\n",
    "stateDict = {states_abbrev[i]:states_full[i] for i in range(len(states_abbrev))}\n",
    "for i in stateDict:\n",
    "    print(f\"{i} is the abbreviation of {stateDict[i]}.\")"
   ]
  },
  {
   "cell_type": "markdown",
   "metadata": {},
   "source": [
    "##  Practice 6\n",
    "Now let's do the opposite of the last practice activity.\n",
    "\n",
    "Transform the dictionary below into two separate lists. One list should contain the state abbreviations, and the other one should contain the full name of each state. You must preserve the same order in both lists. \n",
    "\n",
    "Print both lists after they have been generated."
   ]
  },
  {
   "cell_type": "code",
   "execution_count": 22,
   "metadata": {},
   "outputs": [
    {
     "name": "stdout",
     "output_type": "stream",
     "text": [
      "list of state abbreviations: \n",
      "['AK', 'AL', 'AR', 'AS', 'AZ', 'CA', 'CO', 'CT', 'DC', 'DE', 'FL', 'GA', 'GU', 'HI', 'IA', 'ID', 'IL', 'IN', 'KS', 'KY', 'LA', 'MA', 'MD', 'ME', 'MI', 'MN', 'MO', 'MP', 'MS', 'MT', 'NA', 'NC', 'ND', 'NE', 'NH', 'NJ', 'NM', 'NV', 'NY', 'OH', 'OK', 'OR', 'PA', 'PR', 'RI', 'SC', 'SD', 'TN', 'TX', 'UT', 'VA', 'VI', 'VT', 'WA', 'WI', 'WV', 'WY']\n",
      "\n",
      "list of states in full: \n",
      "['Alaska', 'Alabama', 'Arkansas', 'American Samoa', 'Arizona', 'California', 'Colorado', 'Connecticut', 'District of Columbia', 'Delaware', 'Florida', 'Georgia', 'Guam', 'Hawaii', 'Iowa', 'Idaho', 'Illinois', 'Indiana', 'Kansas', 'Kentucky', 'Louisiana', 'Massachusetts', 'Maryland', 'Maine', 'Michigan', 'Minnesota', 'Missouri', 'Northern Mariana Islands', 'Mississippi', 'Montana', 'National', 'North Carolina', 'North Dakota', 'Nebraska', 'New Hampshire', 'New Jersey', 'New Mexico', 'Nevada', 'New York', 'Ohio', 'Oklahoma', 'Oregon', 'Pennsylvania', 'Puerto Rico', 'Rhode Island', 'South Carolina', 'South Dakota', 'Tennessee', 'Texas', 'Utah', 'Virginia', 'Virgin Islands', 'Vermont', 'Washington', 'Wisconsin', 'West Virginia', 'Wyoming']\n",
      "\n"
     ]
    }
   ],
   "source": [
    "states = {\n",
    "        'AK': 'Alaska',\n",
    "        'AL': 'Alabama',\n",
    "        'AR': 'Arkansas',\n",
    "        'AS': 'American Samoa',\n",
    "        'AZ': 'Arizona',\n",
    "        'CA': 'California',\n",
    "        'CO': 'Colorado',\n",
    "        'CT': 'Connecticut',\n",
    "        'DC': 'District of Columbia',\n",
    "        'DE': 'Delaware',\n",
    "        'FL': 'Florida',\n",
    "        'GA': 'Georgia',\n",
    "        'GU': 'Guam',\n",
    "        'HI': 'Hawaii',\n",
    "        'IA': 'Iowa',\n",
    "        'ID': 'Idaho',\n",
    "        'IL': 'Illinois',\n",
    "        'IN': 'Indiana',\n",
    "        'KS': 'Kansas',\n",
    "        'KY': 'Kentucky',\n",
    "        'LA': 'Louisiana',\n",
    "        'MA': 'Massachusetts',\n",
    "        'MD': 'Maryland',\n",
    "        'ME': 'Maine',\n",
    "        'MI': 'Michigan',\n",
    "        'MN': 'Minnesota',\n",
    "        'MO': 'Missouri',\n",
    "        'MP': 'Northern Mariana Islands',\n",
    "        'MS': 'Mississippi',\n",
    "        'MT': 'Montana',\n",
    "        'NA': 'National',\n",
    "        'NC': 'North Carolina',\n",
    "        'ND': 'North Dakota',\n",
    "        'NE': 'Nebraska',\n",
    "        'NH': 'New Hampshire',\n",
    "        'NJ': 'New Jersey',\n",
    "        'NM': 'New Mexico',\n",
    "        'NV': 'Nevada',\n",
    "        'NY': 'New York',\n",
    "        'OH': 'Ohio',\n",
    "        'OK': 'Oklahoma',\n",
    "        'OR': 'Oregon',\n",
    "        'PA': 'Pennsylvania',\n",
    "        'PR': 'Puerto Rico',\n",
    "        'RI': 'Rhode Island',\n",
    "        'SC': 'South Carolina',\n",
    "        'SD': 'South Dakota',\n",
    "        'TN': 'Tennessee',\n",
    "        'TX': 'Texas',\n",
    "        'UT': 'Utah',\n",
    "        'VA': 'Virginia',\n",
    "        'VI': 'Virgin Islands',\n",
    "        'VT': 'Vermont',\n",
    "        'WA': 'Washington',\n",
    "        'WI': 'Wisconsin',\n",
    "        'WV': 'West Virginia',\n",
    "        'WY': 'Wyoming'\n",
    "}\n",
    "\n",
    "stateAbbrev = [ i for i,j in states.items()]\n",
    "stateFull = [ j for i,j in states.items()]\n",
    "print(f'''list of state abbreviations: \n",
    "{stateAbbrev}\n",
    "''')\n",
    "print(f'''list of states in full: \n",
    "{stateFull}\n",
    "''')"
   ]
  },
  {
   "cell_type": "markdown",
   "metadata": {},
   "source": [
    "## Practice 7\n",
    "Complete the program below to include the following steps: \n",
    "* Ask the user for a state abbreviation.\n",
    "* Display the full name of the state if it exists in the dictionary or an error message if the abbreviation does not exist in the dictionary."
   ]
  },
  {
   "cell_type": "code",
   "execution_count": 28,
   "metadata": {},
   "outputs": [
    {
     "name": "stdout",
     "output_type": "stream",
     "text": [
      "Please enter the abbreviation of a state: wa\n",
      "WA stands for Washington\n"
     ]
    }
   ],
   "source": [
    "states = {\n",
    "        'AK': 'Alaska',\n",
    "        'AL': 'Alabama',\n",
    "        'AR': 'Arkansas',\n",
    "        'AS': 'American Samoa',\n",
    "        'AZ': 'Arizona',\n",
    "        'CA': 'California',\n",
    "        'CO': 'Colorado',\n",
    "        'CT': 'Connecticut',\n",
    "        'DE': 'Delaware',\n",
    "        'FL': 'Florida',\n",
    "        'GA': 'Georgia',\n",
    "        'GU': 'Guam',\n",
    "        'HI': 'Hawaii',\n",
    "        'IA': 'Iowa',\n",
    "        'ID': 'Idaho',\n",
    "        'IL': 'Illinois',\n",
    "        'IN': 'Indiana',\n",
    "        'KS': 'Kansas',\n",
    "        'KY': 'Kentucky',\n",
    "        'LA': 'Louisiana',\n",
    "        'MA': 'Massachusetts',\n",
    "        'MD': 'Maryland',\n",
    "        'ME': 'Maine',\n",
    "        'MI': 'Michigan',\n",
    "        'MN': 'Minnesota',\n",
    "        'MO': 'Missouri',\n",
    "        'MP': 'Northern Mariana Islands',\n",
    "        'MS': 'Mississippi',\n",
    "        'MT': 'Montana',\n",
    "        'NA': 'National',\n",
    "        'NC': 'North Carolina',\n",
    "        'ND': 'North Dakota',\n",
    "        'NE': 'Nebraska',\n",
    "        'NH': 'New Hampshire',\n",
    "        'NJ': 'New Jersey',\n",
    "        'NM': 'New Mexico',\n",
    "        'NV': 'Nevada',\n",
    "        'NY': 'New York',\n",
    "        'OH': 'Ohio',\n",
    "        'OK': 'Oklahoma',\n",
    "        'OR': 'Oregon',\n",
    "        'PA': 'Pennsylvania',\n",
    "        'PR': 'Puerto Rico',\n",
    "        'RI': 'Rhode Island',\n",
    "        'SC': 'South Carolina',\n",
    "        'SD': 'South Dakota',\n",
    "        'TN': 'Tennessee',\n",
    "        'TX': 'Texas',\n",
    "        'UT': 'Utah',\n",
    "        'VA': 'Virginia',\n",
    "        'VI': 'Virgin Islands',\n",
    "        'VT': 'Vermont',\n",
    "        'WA': 'Washington',\n",
    "        'WI': 'Wisconsin',\n",
    "        'WV': 'West Virginia',\n",
    "        'WY': 'Wyoming'\n",
    "}\n",
    "\n",
    "search = input(\"Please enter the abbreviation of a state: \").upper()\n",
    "if search in states.keys():\n",
    "    print(f\"{search} stands for {states[search]}\")\n",
    "else:\n",
    "    raise Exception(\"ITS NOT IN THE DICTIONARYYYY\")"
   ]
  },
  {
   "cell_type": "markdown",
   "metadata": {},
   "source": [
    "## Practice 8\n",
    "Add the `clear` method in the program below to empty the dictionary and include only the key-value pair `('X10002','Karen')`.  \n",
    "\n",
    "**Hint**: Do not add the Karen record more than one time."
   ]
  },
  {
   "cell_type": "code",
   "execution_count": 29,
   "metadata": {},
   "outputs": [
    {
     "name": "stdout",
     "output_type": "stream",
     "text": [
      "{'X10002': 'Karen'}\n"
     ]
    }
   ],
   "source": [
    "# your code here \n",
    "\n",
    "students_dict = dict()\n",
    "students_dict['X10000']='Michael'\n",
    "students_dict['X10001']='Neil'\n",
    "students_dict.clear()\n",
    "students_dict['X10002']='Karen'\n",
    "\n",
    "print(students_dict)"
   ]
  },
  {
   "cell_type": "markdown",
   "metadata": {},
   "source": [
    "## Practice 9\n",
    "Using the following code as your starting point, complete the following steps:\n",
    "* Create a copy of the `states` dictionary. \n",
    "* Add key-value pairs that represent US districts and territories to the new dictionary.\n",
    " \n",
    "Use this list of districts and territories:\n",
    "* AS: American Samoa\n",
    "* DC: District of Columbia\n",
    "* GU: Guam\n",
    "* NMI: Northern Mariana Islands\n",
    "* PR: Puerto Rico\n",
    "* USVI: U.S. Virgin Islands"
   ]
  },
  {
   "cell_type": "code",
   "execution_count": 30,
   "metadata": {},
   "outputs": [
    {
     "name": "stdout",
     "output_type": "stream",
     "text": [
      "{'AK': 'Alaska', 'AL': 'Alabama', 'AR': 'Arkansas', 'AZ': 'Arizona', 'CA': 'California', 'CO': 'Colorado', 'CT': 'Connecticut', 'DE': 'Delaware', 'FL': 'Florida', 'GA': 'Georgia', 'HI': 'Hawaii', 'IA': 'Iowa', 'ID': 'Idaho', 'IL': 'Illinois', 'IN': 'Indiana', 'KS': 'Kansas', 'KY': 'Kentucky', 'LA': 'Louisiana', 'MA': 'Massachusetts', 'MD': 'Maryland', 'ME': 'Maine', 'MI': 'Michigan', 'MN': 'Minnesota', 'MO': 'Missouri', 'MP': 'Northern Mariana Islands', 'MS': 'Mississippi', 'MT': 'Montana', 'NA': 'National', 'NC': 'North Carolina', 'ND': 'North Dakota', 'NE': 'Nebraska', 'NH': 'New Hampshire', 'NJ': 'New Jersey', 'NM': 'New Mexico', 'NV': 'Nevada', 'NY': 'New York', 'OH': 'Ohio', 'OK': 'Oklahoma', 'OR': 'Oregon', 'PA': 'Pennsylvania', 'RI': 'Rhode Island', 'SC': 'South Carolina', 'SD': 'South Dakota', 'TN': 'Tennessee', 'TX': 'Texas', 'UT': 'Utah', 'VA': 'Virginia', 'VI': 'Virgin Islands', 'VT': 'Vermont', 'WA': 'Washington', 'WI': 'Wisconsin', 'WV': 'West Virginia', 'WY': 'Wyoming', 'AS': 'American Samoa', 'DC': 'District of Columbia', 'GU': 'Guam', 'NMI': 'Northern Mariana Islands', 'PR': 'Puerto Rico', 'USVI': 'U.S. Virgin Islands'}\n"
     ]
    }
   ],
   "source": [
    "states = {\n",
    "        'AK': 'Alaska',\n",
    "        'AL': 'Alabama',\n",
    "        'AR': 'Arkansas',\n",
    "        'AZ': 'Arizona',\n",
    "        'CA': 'California',\n",
    "        'CO': 'Colorado',\n",
    "        'CT': 'Connecticut',\n",
    "        'DE': 'Delaware',\n",
    "        'FL': 'Florida',\n",
    "        'GA': 'Georgia',\n",
    "        'HI': 'Hawaii',\n",
    "        'IA': 'Iowa',\n",
    "        'ID': 'Idaho',\n",
    "        'IL': 'Illinois',\n",
    "        'IN': 'Indiana',\n",
    "        'KS': 'Kansas',\n",
    "        'KY': 'Kentucky',\n",
    "        'LA': 'Louisiana',\n",
    "        'MA': 'Massachusetts',\n",
    "        'MD': 'Maryland',\n",
    "        'ME': 'Maine',\n",
    "        'MI': 'Michigan',\n",
    "        'MN': 'Minnesota',\n",
    "        'MO': 'Missouri',\n",
    "        'MP': 'Northern Mariana Islands',\n",
    "        'MS': 'Mississippi',\n",
    "        'MT': 'Montana',\n",
    "        'NA': 'National',\n",
    "        'NC': 'North Carolina',\n",
    "        'ND': 'North Dakota',\n",
    "        'NE': 'Nebraska',\n",
    "        'NH': 'New Hampshire',\n",
    "        'NJ': 'New Jersey',\n",
    "        'NM': 'New Mexico',\n",
    "        'NV': 'Nevada',\n",
    "        'NY': 'New York',\n",
    "        'OH': 'Ohio',\n",
    "        'OK': 'Oklahoma',\n",
    "        'OR': 'Oregon',\n",
    "        'PA': 'Pennsylvania',\n",
    "        'RI': 'Rhode Island',\n",
    "        'SC': 'South Carolina',\n",
    "        'SD': 'South Dakota',\n",
    "        'TN': 'Tennessee',\n",
    "        'TX': 'Texas',\n",
    "        'UT': 'Utah',\n",
    "        'VA': 'Virginia',\n",
    "        'VI': 'Virgin Islands',\n",
    "        'VT': 'Vermont',\n",
    "        'WA': 'Washington',\n",
    "        'WI': 'Wisconsin',\n",
    "        'WV': 'West Virginia',\n",
    "        'WY': 'Wyoming'\n",
    "}\n",
    "\n",
    "# your code here\n",
    "copyStates={i:j for i,j in states.items()}\n",
    "addDict={\n",
    "    'AS': 'American Samoa',\n",
    "    'DC': 'District of Columbia',\n",
    "    'GU': 'Guam',\n",
    "    'NMI': 'Northern Mariana Islands',\n",
    "    'PR': 'Puerto Rico',\n",
    "    'USVI': 'U.S. Virgin Islands'}\n",
    "\n",
    "copyStates.update(addDict)\n",
    "print(copyStates)"
   ]
  },
  {
   "cell_type": "markdown",
   "metadata": {},
   "source": [
    "## Practice 10\n",
    "Using the `states` dictionary defined below, move all states that start with M to a new dictionary.\n",
    "\n",
    "Requirements:\n",
    "* The new dictionary should include the abbreviation and name for each state moved out of the `states` dictionary.\n",
    "* Use the `pop()` method to remove the states from the `states` dictionary.\n"
   ]
  },
  {
   "cell_type": "code",
   "execution_count": 44,
   "metadata": {},
   "outputs": [
    {
     "name": "stdout",
     "output_type": "stream",
     "text": [
      "\n",
      "States that start with M: \n",
      "{'MA': 'Massachusetts', 'MD': 'Maryland', 'ME': 'Maine', 'MI': 'Michigan', 'MN': 'Minnesota', 'MO': 'Missouri', 'MP': 'Northern Mariana Islands', 'MS': 'Mississippi', 'MT': 'Montana'}\n",
      "\n",
      "States that don't start with M: \n",
      "{'AK': 'Alaska', 'AL': 'Alabama', 'AR': 'Arkansas', 'AS': 'American Samoa', 'AZ': 'Arizona', 'CA': 'California', 'CO': 'Colorado', 'CT': 'Connecticut', 'DE': 'Delaware', 'FL': 'Florida', 'GA': 'Georgia', 'GU': 'Guam', 'HI': 'Hawaii', 'IA': 'Iowa', 'ID': 'Idaho', 'IL': 'Illinois', 'IN': 'Indiana', 'KS': 'Kansas', 'KY': 'Kentucky', 'LA': 'Louisiana', 'NA': 'National', 'NC': 'North Carolina', 'ND': 'North Dakota', 'NE': 'Nebraska', 'NH': 'New Hampshire', 'NJ': 'New Jersey', 'NM': 'New Mexico', 'NV': 'Nevada', 'NY': 'New York', 'OH': 'Ohio', 'OK': 'Oklahoma', 'OR': 'Oregon', 'PA': 'Pennsylvania', 'PR': 'Puerto Rico', 'RI': 'Rhode Island', 'SC': 'South Carolina', 'SD': 'South Dakota', 'TN': 'Tennessee', 'TX': 'Texas', 'UT': 'Utah', 'VA': 'Virginia', 'VI': 'Virgin Islands', 'VT': 'Vermont', 'WA': 'Washington', 'WI': 'Wisconsin', 'WV': 'West Virginia', 'WY': 'Wyoming'}\n"
     ]
    }
   ],
   "source": [
    "states = {\n",
    "        'AK': 'Alaska',\n",
    "        'AL': 'Alabama',\n",
    "        'AR': 'Arkansas',\n",
    "        'AS': 'American Samoa',\n",
    "        'AZ': 'Arizona',\n",
    "        'CA': 'California',\n",
    "        'CO': 'Colorado',\n",
    "        'CT': 'Connecticut',\n",
    "        'DE': 'Delaware',\n",
    "        'FL': 'Florida',\n",
    "        'GA': 'Georgia',\n",
    "        'GU': 'Guam',\n",
    "        'HI': 'Hawaii',\n",
    "        'IA': 'Iowa',\n",
    "        'ID': 'Idaho',\n",
    "        'IL': 'Illinois',\n",
    "        'IN': 'Indiana',\n",
    "        'KS': 'Kansas',\n",
    "        'KY': 'Kentucky',\n",
    "        'LA': 'Louisiana',\n",
    "        'MA': 'Massachusetts',\n",
    "        'MD': 'Maryland',\n",
    "        'ME': 'Maine',\n",
    "        'MI': 'Michigan',\n",
    "        'MN': 'Minnesota',\n",
    "        'MO': 'Missouri',\n",
    "        'MP': 'Northern Mariana Islands',\n",
    "        'MS': 'Mississippi',\n",
    "        'MT': 'Montana',\n",
    "        'NA': 'National',\n",
    "        'NC': 'North Carolina',\n",
    "        'ND': 'North Dakota',\n",
    "        'NE': 'Nebraska',\n",
    "        'NH': 'New Hampshire',\n",
    "        'NJ': 'New Jersey',\n",
    "        'NM': 'New Mexico',\n",
    "        'NV': 'Nevada',\n",
    "        'NY': 'New York',\n",
    "        'OH': 'Ohio',\n",
    "        'OK': 'Oklahoma',\n",
    "        'OR': 'Oregon',\n",
    "        'PA': 'Pennsylvania',\n",
    "        'PR': 'Puerto Rico',\n",
    "        'RI': 'Rhode Island',\n",
    "        'SC': 'South Carolina',\n",
    "        'SD': 'South Dakota',\n",
    "        'TN': 'Tennessee',\n",
    "        'TX': 'Texas',\n",
    "        'UT': 'Utah',\n",
    "        'VA': 'Virginia',\n",
    "        'VI': 'Virgin Islands',\n",
    "        'VT': 'Vermont',\n",
    "        'WA': 'Washington',\n",
    "        'WI': 'Wisconsin',\n",
    "        'WV': 'West Virginia',\n",
    "        'WY': 'Wyoming'\n",
    "}\n",
    "\n",
    "itrList=[i for i in states]\n",
    "Mdict={}\n",
    "for i in itrList:\n",
    "    if i[0].upper()==\"M\":\n",
    "        Mdict[i]=states.pop(i)\n",
    "\n",
    "\n",
    "print(f'''\n",
    "States that start with M: \n",
    "{MDict}\n",
    "\n",
    "States that don't start with M: \n",
    "{states}''')"
   ]
  },
  {
   "cell_type": "markdown",
   "metadata": {},
   "source": [
    "## Practice 11\n",
    "Use the `update()` method to change the dictionary below to include information about yourself. Include at least two hobbies and use a random address, if you wish."
   ]
  },
  {
   "cell_type": "code",
   "execution_count": 48,
   "metadata": {},
   "outputs": [
    {
     "name": "stdout",
     "output_type": "stream",
     "text": [
      "{'name': 'Paul', 'hobbies': ['swimming', 'cycling'], 'address': 'fullerton'}\n"
     ]
    }
   ],
   "source": [
    "info = {\n",
    "  \"name\": \"Robert\",\n",
    "  \"hobbies\": ['fishing','dancing'],\n",
    "  \"address\": \"123 Main Street, Louisville, KY\"\n",
    "}\n",
    "info.update({\"name\":\"Paul\",\n",
    "            \"hobbies\":[\"swimming\",\"cycling\"],\n",
    "            \"address\":\"fullerton\"})\n",
    "\n",
    "print(info)"
   ]
  },
  {
   "cell_type": "markdown",
   "metadata": {},
   "source": [
    "## Practice 12\n",
    "Update the program below to include the following tasks:\n",
    "* Ask the user for an input key.\n",
    "* Check if the key exists in the dictionary. If it does, display the value.\n",
    "* If the key doesn't exist, display an appropriate error message. "
   ]
  },
  {
   "cell_type": "code",
   "execution_count": 53,
   "metadata": {},
   "outputs": [
    {
     "name": "stdout",
     "output_type": "stream",
     "text": [
      "Please enter the key you would like to search for: name\n",
      "The value of name is Robert\n"
     ]
    }
   ],
   "source": [
    "info = {\n",
    "  \"name\": \"Robert\",\n",
    "  \"hobbies\": ['fishing','dancing'],\n",
    "  \"address\": \"123 Main Street, Louisville, KY\"\n",
    "}\n",
    "\n",
    "# your code here\n",
    "search = input(\"Please enter the key you would like to search for: \")\n",
    "if search in info.keys():\n",
    "    print(f\"The value of {search} is {info[search]}\")\n",
    "else:\n",
    "    raise Exception(\"Key not found\")"
   ]
  },
  {
   "cell_type": "code",
   "execution_count": null,
   "metadata": {},
   "outputs": [],
   "source": []
  }
 ],
 "metadata": {
  "kernelspec": {
   "display_name": "Python 3 (ipykernel)",
   "language": "python",
   "name": "python3"
  },
  "language_info": {
   "codemirror_mode": {
    "name": "ipython",
    "version": 3
   },
   "file_extension": ".py",
   "mimetype": "text/x-python",
   "name": "python",
   "nbconvert_exporter": "python",
   "pygments_lexer": "ipython3",
   "version": "3.9.12"
  }
 },
 "nbformat": 4,
 "nbformat_minor": 2
}
